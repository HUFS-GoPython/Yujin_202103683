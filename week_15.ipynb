{
 "cells": [
  {
   "cell_type": "markdown",
   "id": "737e2b0f",
   "metadata": {},
   "source": [
    "### 파일과 디렉터리\n",
    "- 디렉터리: 폴더의 다른 말. 파일이 논리적으로 묶인 단위\n",
    "- 파일: 컴퓨터를 실행하는 기본 단위(파일을 기준으로 작업이루어짐)\n",
    "    - 파일명+확장자로 이루어짐\n",
    "    - 확장자: 파일의 쓰임 구분하는 글자\n",
    "        - .pdf, .txt, .xlsx, .hwp 등등\n",
    "    - 종류: 바이너리 파일, 텍스트 파일\n",
    "        - 바이너리 파일: 파일이 이진정보로 저장되어있음\n",
    "            - 이진정보니까 내용 확인 X\n",
    "            - 해당 확장자를 열 수 있는 프로그램 필요.\n",
    "            - 효율적이지만 사람한테는 불편\n",
    "        - 텍스트 파일: 사람이 이해할 수 있는 문자열로 저장됨\n",
    "            - 메모장, html, py 등등\n",
    "            - 변경 기준: 아스키코드, 유니코드\n",
    "            - 변경해서 저장하는 행위: 인코딩(encoding) -> utf-8, cp494 등"
   ]
  },
  {
   "cell_type": "markdown",
   "id": "68cf9099",
   "metadata": {},
   "source": [
    "#### 파일 열기 \n",
    "- open(파일명, 모드)\n",
    "- 모드\n",
    "    - r : read\n",
    "    - w : write \n",
    "        - 파일이 있으면 덮어쓰고 없으면 생성\n",
    "    - x : write\n",
    "        - 파일이 없을때만 생성\n",
    "    - a : write\n",
    "        - 있을 때 마지막 라인에 추가\n",
    "        \n",
    "- 추가모드\n",
    "    - b: binary\n",
    "    - t: text (default)\n",
    "    \n",
    "    'rb', 'rt'"
   ]
  },
  {
   "cell_type": "code",
   "execution_count": 27,
   "id": "1109ef87",
   "metadata": {},
   "outputs": [],
   "source": [
    "#파일 열기\n",
    "file = 'Harrypotter.txt'\n",
    "f = open(file, 'r', encoding='UTF8')"
   ]
  },
  {
   "cell_type": "code",
   "execution_count": 28,
   "id": "bf7e9ebe",
   "metadata": {
    "scrolled": true
   },
   "outputs": [
    {
     "data": {
      "text/plain": [
       "<_io.TextIOWrapper name='Harrypotter.txt' mode='r' encoding='UTF8'>"
      ]
     },
     "execution_count": 28,
     "metadata": {},
     "output_type": "execute_result"
    }
   ],
   "source": [
    "f"
   ]
  },
  {
   "cell_type": "markdown",
   "id": "ea6a4a89",
   "metadata": {},
   "source": [
    "### 파일 읽기\n",
    "- read(n): 전체를 하나의 str로\n",
    "    - 포인터\n",
    "- readline():한줄만 str\n",
    "- readlines(): 전체가 list, 각 줄이 한 str"
   ]
  },
  {
   "cell_type": "code",
   "execution_count": 30,
   "id": "c95953f2",
   "metadata": {},
   "outputs": [
    {
     "data": {
      "text/plain": [
       "'\\n\\n\\n\\nT'"
      ]
     },
     "execution_count": 30,
     "metadata": {},
     "output_type": "execute_result"
    }
   ],
   "source": [
    "f.read(5)"
   ]
  },
  {
   "cell_type": "code",
   "execution_count": 31,
   "id": "47e068b8",
   "metadata": {},
   "outputs": [
    {
     "data": {
      "text/plain": [
       "'HE BOY WHO LIVED \\n'"
      ]
     },
     "execution_count": 31,
     "metadata": {},
     "output_type": "execute_result"
    }
   ],
   "source": [
    "f.readline()"
   ]
  },
  {
   "cell_type": "code",
   "execution_count": 32,
   "id": "82f31cc3",
   "metadata": {},
   "outputs": [],
   "source": [
    "f = open(file, 'r', encoding='UTF8')\n",
    "sents = f.readlines()\n",
    "sents = [s.strip() for s in sents] #텍스트 정제\n",
    "f.close()"
   ]
  },
  {
   "cell_type": "code",
   "execution_count": 36,
   "id": "3fa5d5f8",
   "metadata": {},
   "outputs": [
    {
     "data": {
      "text/plain": [
       "['/',\n",
       " '',\n",
       " '',\n",
       " '',\n",
       " '',\n",
       " 'THE BOY WHO LIVED',\n",
       " '',\n",
       " 'Mr. and Mrs. Dursley, of number four, Privet Drive,',\n",
       " 'were proud to say that they were perfectly normal,',\n",
       " 'thank you very much. They were the last people you’d',\n",
       " 'expect to be involved in anything strange or',\n",
       " 'mysterious, because they just didn’t hold with such',\n",
       " 'nonsense.',\n",
       " '',\n",
       " 'Mr. Dursley was the director of a firm called',\n",
       " 'Grunnings, which made drills. He was a big, beefy',\n",
       " 'man with hardly any neck, although he did have a',\n",
       " 'very large mustache. Mrs. Dursley was thin and',\n",
       " 'blonde and had nearly twice the usual amount of',\n",
       " 'neck, which came in very useful as she spent so']"
      ]
     },
     "execution_count": 36,
     "metadata": {},
     "output_type": "execute_result"
    }
   ],
   "source": [
    "sents[:20]"
   ]
  },
  {
   "cell_type": "markdown",
   "id": "2fab4c76",
   "metadata": {},
   "source": [
    "#### 파일 닫기\n",
    "- 파일 여는 즉시 바로 닫기\n",
    "- 자원 해제\n",
    "- (변수에 내용 담아두면 파일 닫아도 내용 쓸 수 있음)"
   ]
  },
  {
   "cell_type": "code",
   "execution_count": 37,
   "id": "ccfa8511",
   "metadata": {},
   "outputs": [],
   "source": [
    "with open(file, 'r', encoding='UTF8') as f:#file\n",
    "    #open이 적용되는 블럭\n",
    "    content = f.read()\n",
    "# close안해도 자동으로 파일 닫힘"
   ]
  },
  {
   "cell_type": "code",
   "execution_count": 40,
   "id": "100c81e1",
   "metadata": {},
   "outputs": [
    {
     "data": {
      "text/plain": [
       "'/ \\n\\n\\n\\n\\nTHE BOY WHO LIVED \\n\\nMr. and Mrs. Dursley, of number four, Privet Drive, \\nwere proud to say th'"
      ]
     },
     "execution_count": 40,
     "metadata": {},
     "output_type": "execute_result"
    }
   ],
   "source": [
    "content[:100]"
   ]
  },
  {
   "cell_type": "markdown",
   "id": "94b8bdef",
   "metadata": {},
   "source": [
    "##### 실습\n",
    "- readline 파일 읽기 / while 사용해서 한 줄씩 읽고, strip()해서 리스트 반환함수 만들기"
   ]
  },
  {
   "cell_type": "code",
   "execution_count": 44,
   "id": "3e7d716b",
   "metadata": {},
   "outputs": [],
   "source": [
    "file = 'Harrypotter.txt'\n",
    "sents = []\n",
    "with open(file, 'r', encoding='UTF8') as f:\n",
    "    while True:\n",
    "        line = f.readline() #''\n",
    "        if not line: #빈 줄 ('')의 길이도 1, 대신 컨텐츠가 없을때는 0\n",
    "            break\n",
    "        sent = line.strip()\n",
    "        sents.append(sent)"
   ]
  },
  {
   "cell_type": "code",
   "execution_count": 45,
   "id": "995d50bc",
   "metadata": {},
   "outputs": [
    {
     "data": {
      "text/plain": [
       "['/']"
      ]
     },
     "execution_count": 45,
     "metadata": {},
     "output_type": "execute_result"
    }
   ],
   "source": [
    "def make_readlines(file):\n",
    "    sent = []\n",
    "    with open(file, 'r', encoding='UTF8') as f:\n",
    "        while content := f.readline().strip():\n",
    "                sent.append(content)\n",
    "    return sent\n",
    "\n",
    "make_readlines(file)"
   ]
  },
  {
   "cell_type": "markdown",
   "id": "2652c108",
   "metadata": {},
   "source": [
    "#### 경로가 달라질 때\n",
    "- . : 현재경로\n",
    "- .. : 상위경로\n"
   ]
  },
  {
   "cell_type": "code",
   "execution_count": 56,
   "id": "08a6888a",
   "metadata": {},
   "outputs": [
    {
     "name": "stdout",
     "output_type": "stream",
     "text": [
      "/ \n",
      "\n",
      "\n",
      "\n",
      "\n",
      "THE BOY WHO LIVED \n",
      "\n",
      "Mr. and Mrs. Dursley, of number four, Privet Drive, \n",
      "were proud to say th\n"
     ]
    }
   ],
   "source": [
    "file = '..\\Downloads\\HarryPotter.txt'\n",
    "\n",
    "with open(file, encoding='UTF8') as f:\n",
    "    print(f.read(100))"
   ]
  },
  {
   "cell_type": "markdown",
   "id": "9543b99b",
   "metadata": {},
   "source": [
    "#### 쓰기 (파일에)\n",
    "- 인코딩 유의해서 쓰기"
   ]
  },
  {
   "cell_type": "code",
   "execution_count": 59,
   "id": "1648d561",
   "metadata": {},
   "outputs": [],
   "source": [
    "with open('test2.txt', 'w', encoding='UTF8') as f:\n",
    "                        #'r'아니고 'w'\n",
    "    for i in range(10):\n",
    "        data = f'{i}번째 줄입니다. \\n'\n",
    "        f.write(data)"
   ]
  },
  {
   "cell_type": "code",
   "execution_count": 60,
   "id": "ddd00ddd",
   "metadata": {},
   "outputs": [],
   "source": [
    "#print()\n",
    "file_out = open('test2.txt', 'a', encoding='UTF8')\n",
    "print('한 줄 추가했습니다.', file = file_out)\n",
    "file_out.close()"
   ]
  },
  {
   "cell_type": "markdown",
   "id": "b3e3e3b5",
   "metadata": {},
   "source": [
    "#### +) 폴더 만들어서 추가하는 방법\n",
    "- 폴더 만들어야 함\n",
    "- 접근하기"
   ]
  },
  {
   "cell_type": "code",
   "execution_count": 84,
   "id": "5705a6ab",
   "metadata": {},
   "outputs": [],
   "source": [
    "import os"
   ]
  },
  {
   "cell_type": "code",
   "execution_count": null,
   "id": "0ad49214",
   "metadata": {},
   "outputs": [],
   "source": [
    "os.mkdir('New')#make directory 폴더 만드는 함수"
   ]
  },
  {
   "cell_type": "code",
   "execution_count": 82,
   "id": "c8a0bdf0",
   "metadata": {},
   "outputs": [],
   "source": [
    "with open(r'.\\New\\test2.txt', 'w', encoding='UTF8') as f:\n",
    "    for i in range(10):\n",
    "        data = f'{i}번째 줄입니다. \\n'\n",
    "        f.write(data)"
   ]
  },
  {
   "cell_type": "code",
   "execution_count": null,
   "id": "07598c15",
   "metadata": {},
   "outputs": [],
   "source": [
    "path = 'New'\n",
    "#있는지 확인\n",
    "if not os.isdir(path):\n",
    "    os.mkdir(path)\n",
    "\n",
    "#dir_name = '\n",
    "dir_name = os.path.join(path, 'test2.txt')\n",
    "\n",
    "#재확인 \n",
    "if not os.path.exists(dir_name):\n",
    "    with open(dir_name, 'w') as f: #덮어쓸 가능성 없애기\n",
    "        #원하는 내용의 코드넣기"
   ]
  },
  {
   "cell_type": "code",
   "execution_count": null,
   "id": "675aa610",
   "metadata": {},
   "outputs": [],
   "source": [
    "os.remove(file_name) #파일 삭제\n",
    "os.rmdir(dir_name) #폴더 안에 파일 있으면 삭제 X"
   ]
  },
  {
   "cell_type": "code",
   "execution_count": null,
   "id": "98c7d66d",
   "metadata": {},
   "outputs": [],
   "source": [
    "import shutil\n",
    "\n",
    "shutil.rmtree(dir_name) #강제로 전부 삭제"
   ]
  },
  {
   "cell_type": "markdown",
   "id": "c1c500e5",
   "metadata": {},
   "source": [
    "- 폴더 새로 만들어서\n",
    "- 파일에 내용쓰고\n",
    "- 파일 열기"
   ]
  },
  {
   "cell_type": "code",
   "execution_count": 85,
   "id": "b15cefdf",
   "metadata": {},
   "outputs": [
    {
     "data": {
      "text/plain": [
       "'C:\\\\Users\\\\Yujin\\\\Downloads'"
      ]
     },
     "execution_count": 85,
     "metadata": {},
     "output_type": "execute_result"
    }
   ],
   "source": [
    "os.getcwd() #지금 내가 있는 디렉토리"
   ]
  },
  {
   "cell_type": "code",
   "execution_count": 86,
   "id": "b1d7b095",
   "metadata": {},
   "outputs": [],
   "source": [
    "os.chdir('..')"
   ]
  },
  {
   "cell_type": "markdown",
   "id": "1626b6b9",
   "metadata": {},
   "source": [
    "#### pickle\n",
    "- 객체를 파일로 저장할 수 있음\n",
    "- 넘길때: dump\n",
    "- 가져올때: load"
   ]
  },
  {
   "cell_type": "code",
   "execution_count": 87,
   "id": "2460164f",
   "metadata": {},
   "outputs": [],
   "source": [
    "import pickle"
   ]
  },
  {
   "cell_type": "code",
   "execution_count": 88,
   "id": "53d67ee0",
   "metadata": {},
   "outputs": [
    {
     "data": {
      "text/plain": [
       "[0, 1, 2, 3, 4, 5, 6, 7, 8, 9]"
      ]
     },
     "execution_count": 88,
     "metadata": {},
     "output_type": "execute_result"
    }
   ],
   "source": [
    "nums = list(range(10))\n",
    "nums"
   ]
  },
  {
   "cell_type": "code",
   "execution_count": 90,
   "id": "e61a190b",
   "metadata": {},
   "outputs": [],
   "source": [
    "with open('test.pickle', 'wb') as f:\n",
    "    pickle.dump(nums, f)"
   ]
  },
  {
   "cell_type": "code",
   "execution_count": 91,
   "id": "082953ba",
   "metadata": {},
   "outputs": [],
   "source": [
    "with open('test.pickle', 'rb') as f:\n",
    "    number = pickle.load(f)"
   ]
  },
  {
   "cell_type": "code",
   "execution_count": 92,
   "id": "26f9847a",
   "metadata": {},
   "outputs": [
    {
     "data": {
      "text/plain": [
       "[0, 1, 2, 3, 4, 5, 6, 7, 8, 9]"
      ]
     },
     "execution_count": 92,
     "metadata": {},
     "output_type": "execute_result"
    }
   ],
   "source": [
    "number"
   ]
  },
  {
   "cell_type": "code",
   "execution_count": 93,
   "id": "bdcca320",
   "metadata": {},
   "outputs": [],
   "source": [
    "# a = Product()로 만들어서 파일에 넣고 저장하고 하면 된다"
   ]
  }
 ],
 "metadata": {
  "kernelspec": {
   "display_name": "Python 3 (ipykernel)",
   "language": "python",
   "name": "python3"
  },
  "language_info": {
   "codemirror_mode": {
    "name": "ipython",
    "version": 3
   },
   "file_extension": ".py",
   "mimetype": "text/x-python",
   "name": "python",
   "nbconvert_exporter": "python",
   "pygments_lexer": "ipython3",
   "version": "3.9.7"
  }
 },
 "nbformat": 4,
 "nbformat_minor": 5
}
