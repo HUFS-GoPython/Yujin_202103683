{
 "cells": [
  {
   "cell_type": "markdown",
   "id": "97ff2fdd",
   "metadata": {},
   "source": [
    "#### 객체  II\n",
    "- 상속(inheritance)\n",
    "- 재사용할 때, A vs. B\n",
    "    - \"A의 대부분을 쓰고, 나머지를 추가, 변경하고 싶다\"\n",
    "    - 부모(A클래스를 말함)의 모든 속성을 그대로 가져와서 쓰겠다.\n",
    "- 반복되는 부분을 가져오겠다. 물려받겠다.\n",
    "\n",
    "- A를 B가 물려 받았다면\n",
    "    - A: \"부모, 슈퍼, 베이스\" 클래스\n",
    "    - B: \"자식, 서브, derived\" 클래스\n",
    "\n",
    "- 자식 클래스는 부모 클래스를 구체화\n",
    "- is-a 관계: Car is-a Vehicle(포함된다는 뜻)"
   ]
  },
  {
   "cell_type": "code",
   "execution_count": 5,
   "id": "7674058d",
   "metadata": {},
   "outputs": [],
   "source": [
    "class Vehicle: #parent, super\n",
    "    def __init__(self, speed):\n",
    "        self.speed = speed\n",
    "    \n",
    "    def go(self):\n",
    "        print(f'{self.speed}의 속도로 달린다.')\n",
    "    \n",
    "\n",
    "    \n",
    "class Car(Vehicle): #child, sub\n",
    "    pass"
   ]
  },
  {
   "cell_type": "code",
   "execution_count": 6,
   "id": "acf90bdf",
   "metadata": {},
   "outputs": [
    {
     "name": "stdout",
     "output_type": "stream",
     "text": [
      "50km/h의 속도로 달린다.\n"
     ]
    }
   ],
   "source": [
    "car = Car('50km/h')\n",
    "\n",
    "car.go()"
   ]
  },
  {
   "cell_type": "markdown",
   "id": "3a40745f",
   "metadata": {},
   "source": [
    "### 변수 추가 및 변경\n",
    "- super() 사용"
   ]
  },
  {
   "cell_type": "code",
   "execution_count": 7,
   "id": "f7e830fe",
   "metadata": {},
   "outputs": [],
   "source": [
    "class Car(Vehicle): # childe, sub\n",
    "    def __init__(self, speed, brand):\n",
    "        #speed == 부모\n",
    "        #brand == 자식\n",
    "        \n",
    "        super().__init__(speed) #부모클래스에 접근, 상속받을 수 있음.\n",
    "                                #Vehicle().speed 같은 것\n",
    "            \n",
    "        self.brand = brand # 나의 고유한 특성이 됨"
   ]
  },
  {
   "cell_type": "code",
   "execution_count": 8,
   "id": "b48507a2",
   "metadata": {},
   "outputs": [
    {
     "data": {
      "text/plain": [
       "'kia'"
      ]
     },
     "execution_count": 8,
     "metadata": {},
     "output_type": "execute_result"
    }
   ],
   "source": [
    "car2 = Car('30km/h', 'kia')\n",
    "\n",
    "car2.brand"
   ]
  },
  {
   "cell_type": "code",
   "execution_count": 9,
   "id": "38a39ba5",
   "metadata": {},
   "outputs": [
    {
     "ename": "AttributeError",
     "evalue": "'Vehicle' object has no attribute 'brand'",
     "output_type": "error",
     "traceback": [
      "\u001b[1;31m---------------------------------------------------------------------------\u001b[0m",
      "\u001b[1;31mAttributeError\u001b[0m                            Traceback (most recent call last)",
      "\u001b[1;32m~\\AppData\\Local\\Temp/ipykernel_5360/3562759592.py\u001b[0m in \u001b[0;36m<module>\u001b[1;34m\u001b[0m\n\u001b[0;32m      1\u001b[0m \u001b[0mv\u001b[0m \u001b[1;33m=\u001b[0m \u001b[0mVehicle\u001b[0m\u001b[1;33m(\u001b[0m\u001b[1;34m'55km/h'\u001b[0m\u001b[1;33m)\u001b[0m\u001b[1;33m\u001b[0m\u001b[1;33m\u001b[0m\u001b[0m\n\u001b[0;32m      2\u001b[0m \u001b[1;33m\u001b[0m\u001b[0m\n\u001b[1;32m----> 3\u001b[1;33m \u001b[0mv\u001b[0m\u001b[1;33m.\u001b[0m\u001b[0mbrand\u001b[0m \u001b[1;31m#자식이 부모한테 상속X 에러 / 무조건 부모가 자식에게\u001b[0m\u001b[1;33m\u001b[0m\u001b[1;33m\u001b[0m\u001b[0m\n\u001b[0m",
      "\u001b[1;31mAttributeError\u001b[0m: 'Vehicle' object has no attribute 'brand'"
     ]
    }
   ],
   "source": [
    "v = Vehicle('55km/h')\n",
    "\n",
    "v.brand #자식이 부모한테 상속X 에러 / 무조건 부모가 자식에게"
   ]
  },
  {
   "cell_type": "markdown",
   "id": "d0fb9c3f",
   "metadata": {},
   "source": [
    "### 메소드 추가, 변경\n",
    "- override(재정의) 하면 부모의 메소드가 잊혀짐"
   ]
  },
  {
   "cell_type": "markdown",
   "id": "b0d88d48",
   "metadata": {},
   "source": [
    "class Car(Vehicle): # childe, sub\n",
    "    def __init__(self, speed, brand):\n",
    "        super().__init__(speed)\n",
    "        self.brand = brand\n",
    "        \n",
    "    #오버라이드(override) : 재정의\n",
    "    def go(self):\n",
    "        #부모의 go도 가져가고 싶으면?\n",
    "        super().go()\n",
    "        print(f'차종 {self.brand}의 속도 {self.speed}')\n",
    "    \n",
    "    #메소드 추가\n",
    "    def stop():\n",
    "        pass\n",
    "    \n",
    "car3 = Car('33km/h', 'sonata')\n",
    "car3.go()"
   ]
  },
  {
   "cell_type": "markdown",
   "id": "78a3d3b8",
   "metadata": {},
   "source": [
    "### 실습해보기\n",
    "- 기존 이름은 pablo 인데\n",
    "- Dr.pablo\n",
    "- Mr.pablo\n",
    "- Mrs.pablo   로 바꿔서 출력되게"
   ]
  },
  {
   "cell_type": "code",
   "execution_count": 16,
   "id": "609bd4ed",
   "metadata": {},
   "outputs": [],
   "source": [
    "class Person:\n",
    "    def __init__(self, name):\n",
    "        self.name = name # pablo\n",
    "        \n",
    "#--------------------------------\n",
    "\n",
    "class Doctor(Person): #Dr. pablo\n",
    "    def __init__(self, name):\n",
    "        super().__init__(name)\n",
    "        print(f'Dr.{name}')\n",
    "    \n",
    "class Male(Person): #Mr. pablo\n",
    "    def __init__(self, name):\n",
    "        super().__init__(name)\n",
    "        print(f'Mr.{name}')\n",
    "\n",
    "class Female(Person): # Mrs. pablo\n",
    "    def __init__(self, name):\n",
    "        super().__init__(name)\n",
    "        print(f'Mrs.{name}')"
   ]
  },
  {
   "cell_type": "code",
   "execution_count": 14,
   "id": "61821c42",
   "metadata": {},
   "outputs": [
    {
     "name": "stdout",
     "output_type": "stream",
     "text": [
      "Dr.pablo\n",
      "Mr.pablo\n",
      "Mrs.pablo\n"
     ]
    }
   ],
   "source": [
    "you = Doctor('pablo')\n",
    "he = Male('pablo')\n",
    "she = Female('pablo')"
   ]
  },
  {
   "cell_type": "markdown",
   "id": "350a7246",
   "metadata": {},
   "source": [
    "### 다중상속\n",
    "- 부모가 여러 명일때 누구 꺼를 override 할것인가! 가 문제\n",
    "- method resolution order(MRO)\n",
    "    - 어떤 부모랑 더 가까운지 확인하려면\n",
    "    - 클래스이름.mro()\n",
    "\n",
    "- Animal \n",
    "    - <- Horse\n",
    "    - <- Donkey\n",
    "        - <- Mule (Donkey > Horse)\n",
    "        - <- Hinny (Horse > Donkey)"
   ]
  },
  {
   "cell_type": "code",
   "execution_count": 17,
   "id": "a79ce86a",
   "metadata": {},
   "outputs": [],
   "source": [
    "class Animal:\n",
    "    def says(self):\n",
    "        return '동물이 운다.'\n",
    "    \n",
    "#자식\n",
    "class Horse(Animal):\n",
    "    def says(self):\n",
    "        #부모를 부르고 싶다면\n",
    "        super().says()\n",
    "        return '히히힝'\n",
    "    \n",
    "class Donkey(Animal):\n",
    "    def says(self):\n",
    "        return  '히이호'\n",
    "    \n",
    "#손주(실제 이런용어는 아니지만 이해상)\n",
    "class Mule (Donkey, Horse): #가까운 클래스를 먼저 써야함\n",
    "    pass\n",
    "\n",
    "class Hinny (Horse, Donkey):\n",
    "    pass"
   ]
  },
  {
   "cell_type": "code",
   "execution_count": 19,
   "id": "8b5b2218",
   "metadata": {},
   "outputs": [
    {
     "data": {
      "text/plain": [
       "'히이호'"
      ]
     },
     "execution_count": 19,
     "metadata": {},
     "output_type": "execute_result"
    }
   ],
   "source": [
    "m = Mule()\n",
    "h = Hinny()\n",
    "\n",
    "m.says()"
   ]
  },
  {
   "cell_type": "code",
   "execution_count": 20,
   "id": "48c35f80",
   "metadata": {},
   "outputs": [
    {
     "data": {
      "text/plain": [
       "'히히힝'"
      ]
     },
     "execution_count": 20,
     "metadata": {},
     "output_type": "execute_result"
    }
   ],
   "source": [
    "h.says()"
   ]
  },
  {
   "cell_type": "code",
   "execution_count": 21,
   "id": "98ccec2f",
   "metadata": {},
   "outputs": [
    {
     "data": {
      "text/plain": [
       "[__main__.Mule, __main__.Donkey, __main__.Horse, __main__.Animal, object]"
      ]
     },
     "execution_count": 21,
     "metadata": {},
     "output_type": "execute_result"
    }
   ],
   "source": [
    "Mule.mro() #어떤 부모랑 더 가까운지 확인"
   ]
  },
  {
   "cell_type": "markdown",
   "id": "d6d04aeb",
   "metadata": {},
   "source": [
    "### 다형성\n",
    "- 형태가 다른데 기능이 같다.\n",
    "- 객체가 다른데 같은 메소드를 가지고 있으면 같은 기능을 수행할 수 있다."
   ]
  },
  {
   "cell_type": "code",
   "execution_count": 22,
   "id": "f7c29eb9",
   "metadata": {},
   "outputs": [
    {
     "name": "stdout",
     "output_type": "stream",
     "text": [
      "히이호\n",
      "히이호\n",
      "동물이 운다.\n"
     ]
    }
   ],
   "source": [
    "for animal in [Mule(), Donkey(), Animal()]:\n",
    "    print(animal.says())"
   ]
  },
  {
   "cell_type": "markdown",
   "id": "885235ee",
   "metadata": {},
   "source": [
    "### 메서드 타입\n",
    "- 인스턴스 메서드\n",
    "    - self가 1번\n",
    "    - 객체 생성해야 사용 가능\n",
    "- 클래스 메서드\n",
    "    - 객체 생성하지 않아도 사용 가능\n",
    "    - 클래스에 접근하는 메서드\n",
    "    - @classmethod 사용\n",
    "    - 예약어: cls\n",
    "    - 함수(cls)가 첫 인자\n",
    "    - class Person, cls == Person\n",
    "- 정적 메서드\n",
    "    - 객체 생성하지 않고 접근 가능\n",
    "    - 클래스랑 전혀 상관이 없기 때문에 접근 가능\n",
    "    - 내용, 기능이 비슷해서 클래스 내에 묶어둠\n",
    "- 추상 메서드\n",
    "    - 추상 클래스를 선언하고 씀.\n",
    "        - abstract 이름만 존재하는 클래스\n",
    "        - method도 이름만, 변수도 이름만 존재\n",
    "    - 설계도 역할\n",
    "    - 상속하는 자식클래스 => 반드시 구현해야 하는 메소드를 정의."
   ]
  },
  {
   "cell_type": "code",
   "execution_count": 23,
   "id": "0e77ddb8",
   "metadata": {},
   "outputs": [
    {
     "data": {
      "text/plain": [
       "'히이호'"
      ]
     },
     "execution_count": 23,
     "metadata": {},
     "output_type": "execute_result"
    }
   ],
   "source": [
    "a = Mule() #객체 생성 - 붕어빵 찍는 것\n",
    "a.says()\n",
    "\n",
    "# Mule.says() 이렇게는 X"
   ]
  },
  {
   "cell_type": "code",
   "execution_count": 24,
   "id": "71d3ecef",
   "metadata": {},
   "outputs": [
    {
     "data": {
      "text/plain": [
       "10"
      ]
     },
     "execution_count": 24,
     "metadata": {},
     "output_type": "execute_result"
    }
   ],
   "source": [
    "class A:\n",
    "    cnt = 10\n",
    "\n",
    "    @classmethod\n",
    "    def move(cls):\n",
    "        return cls.cnt #A.cnt라고 쓰는 것 cls가 class 의미\n",
    "    \n",
    "    \n",
    "A.move()"
   ]
  },
  {
   "cell_type": "code",
   "execution_count": 36,
   "id": "4f422db1",
   "metadata": {},
   "outputs": [
    {
     "data": {
      "text/plain": [
       "'Hur'"
      ]
     },
     "execution_count": 36,
     "metadata": {},
     "output_type": "execute_result"
    }
   ],
   "source": [
    "class Person:\n",
    "    def __init__(self, name, age):\n",
    "        self.name = name\n",
    "        self.age = age\n",
    "    \n",
    "    @classmethod\n",
    "    def tuple_object(cls, args):\n",
    "        return cls(args[0], args[1])\n",
    "    \n",
    "name = 'Hur'\n",
    "age = 21\n",
    "#p = Person(name, age)\n",
    "\n",
    "info = name, age\n",
    "p = Person.tuple_object(info) # p객체 생성하게\n",
    "\n",
    "\n",
    "p.name"
   ]
  },
  {
   "cell_type": "code",
   "execution_count": 42,
   "id": "ff1ea2d5",
   "metadata": {},
   "outputs": [],
   "source": [
    "class A:\n",
    "    #붕어빵을 몇 개 찍었는지\n",
    "    #돌린만큼 출력되게 하는 법\n",
    "    \n",
    "    cnt = 0\n",
    "    \n",
    "    def __init__(self):\n",
    "        A.cnt += 1 \n",
    "        \n",
    "        \n",
    "    @classmethod\n",
    "    def count(cls):\n",
    "        return f'객체 수: {cls.cnt}'"
   ]
  },
  {
   "cell_type": "code",
   "execution_count": 43,
   "id": "1e01ab59",
   "metadata": {},
   "outputs": [
    {
     "data": {
      "text/plain": [
       "'객체 수: 5'"
      ]
     },
     "execution_count": 43,
     "metadata": {},
     "output_type": "execute_result"
    }
   ],
   "source": [
    "A()\n",
    "A()\n",
    "A()\n",
    "A()\n",
    "A()\n",
    "A.count()"
   ]
  },
  {
   "cell_type": "code",
   "execution_count": 46,
   "id": "cd5b2b63",
   "metadata": {},
   "outputs": [
    {
     "name": "stdout",
     "output_type": "stream",
     "text": [
      "안녀어엉\n"
     ]
    }
   ],
   "source": [
    "class Coyote:\n",
    "    @staticmethod\n",
    "    def says(): #self 안씀 (딕셔너리에서 변수 저장하는 것과 비슷)\n",
    "        #내용이나 기능 상 안에 있으면 좋을 것 같아서 쓰는 것임\n",
    "        print('안녀어엉')\n",
    "        \n",
    "\n",
    "Coyote.says()"
   ]
  },
  {
   "cell_type": "code",
   "execution_count": 47,
   "id": "d2f57aa5",
   "metadata": {},
   "outputs": [],
   "source": [
    "#추상클래스 설정법\n",
    "\n",
    "from abc import *\n",
    "class Vehicle(metaclass = ABCMeta):\n",
    "    \n",
    "    speed = '속도'    \n",
    "    \n",
    "    \n",
    "    @abstractmethod\n",
    "    def go(self):\n",
    "        print('교통수단이 간다')\n",
    "        \n",
    "    \n",
    "class Car(Vehicle): #상속\n",
    "    # 그냥 pass하고 선언하면 X (에러)\n",
    "    # 꼭 pass말고 무언가 활동을 넣어줘야 함\n",
    "    \n",
    "    def go(self):\n",
    "        print('출발한다~!!')"
   ]
  },
  {
   "cell_type": "code",
   "execution_count": 52,
   "id": "4d9fbad9",
   "metadata": {},
   "outputs": [
    {
     "data": {
      "text/plain": [
       "<__main__.Car at 0xf3194eceb0>"
      ]
     },
     "execution_count": 52,
     "metadata": {},
     "output_type": "execute_result"
    }
   ],
   "source": [
    "Car()"
   ]
  }
 ],
 "metadata": {
  "kernelspec": {
   "display_name": "Python 3 (ipykernel)",
   "language": "python",
   "name": "python3"
  },
  "language_info": {
   "codemirror_mode": {
    "name": "ipython",
    "version": 3
   },
   "file_extension": ".py",
   "mimetype": "text/x-python",
   "name": "python",
   "nbconvert_exporter": "python",
   "pygments_lexer": "ipython3",
   "version": "3.9.7"
  }
 },
 "nbformat": 4,
 "nbformat_minor": 5
}
