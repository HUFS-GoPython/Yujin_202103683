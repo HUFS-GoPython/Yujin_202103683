{
 "cells": [
  {
   "cell_type": "code",
   "execution_count": 50,
   "id": "19830fa3",
   "metadata": {},
   "outputs": [],
   "source": [
    "import nltk"
   ]
  },
  {
   "cell_type": "code",
   "execution_count": 51,
   "id": "1b02502d",
   "metadata": {
    "scrolled": true
   },
   "outputs": [
    {
     "data": {
      "text/plain": [
       "True"
      ]
     },
     "execution_count": 51,
     "metadata": {},
     "output_type": "execute_result"
    }
   ],
   "source": [
    "from nltk.book import *\n",
    "nltk.download('book', quiet=True)"
   ]
  },
  {
   "cell_type": "markdown",
   "id": "b325eb22",
   "metadata": {},
   "source": [
    "#### 내장함수\n",
    "- 형식: string1.method(string2)\n",
    "- list.method(string)\n",
    "\n",
    "- list.count(string): string이 나타나는 개수\n",
    "- replace(): A -> B로 변경하는 것\n",
    "- strip(): 공백 등을 제거하는 기능\n",
    "    - lstrip, rstrip (왼쪽공백/오른쪽공백)\n",
    "- find(string): 오프셋을 반환\n",
    "    - lfind, rfind 기능 (왼쪽 or 오른쪽 시작)\n",
    "    - 공백 포함\n",
    "    - 첫번째 값을 인덱스 \n",
    "    - 값이 없는 경우 -1이 반환\n",
    "- index(string): 오프셋을 반환\n",
    "    - 값이 없는 경우 에러"
   ]
  },
  {
   "cell_type": "code",
   "execution_count": 7,
   "id": "da5545e9",
   "metadata": {},
   "outputs": [
    {
     "data": {
      "text/plain": [
       "1661"
      ]
     },
     "execution_count": 7,
     "metadata": {},
     "output_type": "execute_result"
    }
   ],
   "source": [
    "text1.count('he')"
   ]
  },
  {
   "cell_type": "code",
   "execution_count": 8,
   "id": "525bd556",
   "metadata": {},
   "outputs": [
    {
     "data": {
      "text/plain": [
       "'Yujin'"
      ]
     },
     "execution_count": 8,
     "metadata": {},
     "output_type": "execute_result"
    }
   ],
   "source": [
    "'yujin'.replace('y', 'Y')"
   ]
  },
  {
   "cell_type": "code",
   "execution_count": 11,
   "id": "1b3b7d16",
   "metadata": {},
   "outputs": [
    {
     "data": {
      "text/plain": [
       "'hello'"
      ]
     },
     "execution_count": 11,
     "metadata": {},
     "output_type": "execute_result"
    }
   ],
   "source": [
    "'     \\t    hello'.lstrip()"
   ]
  },
  {
   "cell_type": "code",
   "execution_count": 13,
   "id": "eb44ee74",
   "metadata": {},
   "outputs": [
    {
     "name": "stdout",
     "output_type": "stream",
     "text": [
      "YujiN\n"
     ]
    }
   ],
   "source": [
    "name = '   \\t  yujin'\n",
    "name = name.replace('y', 'Y').strip().replace('n', 'N') #이렇게 여러개 가능\n",
    "\n",
    "print(name)"
   ]
  },
  {
   "cell_type": "code",
   "execution_count": 15,
   "id": "9f822820",
   "metadata": {},
   "outputs": [
    {
     "data": {
      "text/plain": [
       "7"
      ]
     },
     "execution_count": 15,
     "metadata": {},
     "output_type": "execute_result"
    }
   ],
   "source": [
    "fruit = '   apple   ee'\n",
    "\n",
    "fruit.find('e')"
   ]
  },
  {
   "cell_type": "code",
   "execution_count": 19,
   "id": "9b2c6372",
   "metadata": {},
   "outputs": [
    {
     "data": {
      "text/plain": [
       "-1"
      ]
     },
     "execution_count": 19,
     "metadata": {},
     "output_type": "execute_result"
    }
   ],
   "source": [
    "fruit.find('c') # 없으면 -1"
   ]
  },
  {
   "cell_type": "code",
   "execution_count": 20,
   "id": "570e07fc",
   "metadata": {},
   "outputs": [
    {
     "ename": "ValueError",
     "evalue": "substring not found",
     "output_type": "error",
     "traceback": [
      "\u001b[1;31m---------------------------------------------------------------------------\u001b[0m",
      "\u001b[1;31mValueError\u001b[0m                                Traceback (most recent call last)",
      "\u001b[1;32m~\\AppData\\Local\\Temp/ipykernel_8408/4104932283.py\u001b[0m in \u001b[0;36m<module>\u001b[1;34m\u001b[0m\n\u001b[1;32m----> 1\u001b[1;33m \u001b[0mfruit\u001b[0m\u001b[1;33m.\u001b[0m\u001b[0mindex\u001b[0m\u001b[1;33m(\u001b[0m\u001b[1;34m'c'\u001b[0m\u001b[1;33m)\u001b[0m\u001b[1;33m\u001b[0m\u001b[1;33m\u001b[0m\u001b[0m\n\u001b[0m",
      "\u001b[1;31mValueError\u001b[0m: substring not found"
     ]
    }
   ],
   "source": [
    "fruit.index('c') # 없는 것을 찾으면 오류발생"
   ]
  },
  {
   "cell_type": "markdown",
   "id": "0e5d78e3",
   "metadata": {},
   "source": [
    "#### NLTK 내장함수\n",
    "- list.method(var)\n",
    "- 자연어 처리 관련 함수들\n",
    "\n",
    "- concordance(): string의 앞뒤 문맥 알 수 있음\n",
    "- similar(): 문맥이 비슷한 단어\n",
    "- common_contexts([]): 주어진 스트링이 어떤 문맥을 공유하는지\n",
    "- dispersion_plot([]):주어진 스트링이 텍스트의 어느 위치에 있는지 그림으로 보여주는 함수"
   ]
  },
  {
   "cell_type": "code",
   "execution_count": 21,
   "id": "33dc3988",
   "metadata": {},
   "outputs": [
    {
     "name": "stdout",
     "output_type": "stream",
     "text": [
      "Displaying 25 of 1226 matches:\n",
      "s , and to teach them by what name a whale - fish is to be called in our tongue\n",
      "t which is not true .\" -- HACKLUYT \" WHALE . ... Sw . and Dan . HVAL . This ani\n",
      "ulted .\" -- WEBSTER ' S DICTIONARY \" WHALE . ... It is more immediately from th\n",
      "ISH . WAL , DUTCH . HWAL , SWEDISH . WHALE , ICELANDIC . WHALE , ENGLISH . BALE\n",
      "HWAL , SWEDISH . WHALE , ICELANDIC . WHALE , ENGLISH . BALEINE , FRENCH . BALLE\n",
      "least , take the higgledy - piggledy whale statements , however authentic , in \n",
      " dreadful gulf of this monster ' s ( whale ' s ) mouth , are immediately lost a\n",
      " patient Job .\" -- RABELAIS . \" This whale ' s liver was two cartloads .\" -- ST\n",
      " Touching that monstrous bulk of the whale or ork we have received nothing cert\n",
      " of oil will be extracted out of one whale .\" -- IBID . \" HISTORY OF LIFE AND D\n",
      "ise .\" -- KING HENRY . \" Very like a whale .\" -- HAMLET . \" Which to secure , n\n",
      "restless paine , Like as the wounded whale to shore flies thro ' the maine .\" -\n",
      ". OF SPERMA CETI AND THE SPERMA CETI WHALE . VIDE HIS V . E . \" Like Spencer ' \n",
      "t had been a sprat in the mouth of a whale .\" -- PILGRIM ' S PROGRESS . \" That \n",
      "EN ' S ANNUS MIRABILIS . \" While the whale is floating at the stern of the ship\n",
      "e ship called The Jonas - in - the - Whale . ... Some say the whale can ' t ope\n",
      " in - the - Whale . ... Some say the whale can ' t open his mouth , but that is\n",
      " masts to see whether they can see a whale , for the first discoverer has a duc\n",
      " for his pains . ... I was told of a whale taken near Shetland , that had above\n",
      "oneers told me that he caught once a whale in Spitzbergen that was white all ov\n",
      "2 , one eighty feet in length of the whale - bone kind came in , which ( as I w\n",
      "n master and kill this Sperma - ceti whale , for I could never hear of any of t\n",
      " . 1729 . \"... and the breath of the whale is frequendy attended with such an i\n",
      "ed with hoops and armed with ribs of whale .\" -- RAPE OF THE LOCK . \" If we com\n",
      "contemptible in the comparison . The whale is doubtless the largest animal in c\n"
     ]
    }
   ],
   "source": [
    "text1.concordance('whale') #whale 기준으로 앞뒤문맥"
   ]
  },
  {
   "cell_type": "code",
   "execution_count": 22,
   "id": "5577bbc1",
   "metadata": {},
   "outputs": [
    {
     "name": "stdout",
     "output_type": "stream",
     "text": [
      "ship boat sea time captain world man deck pequod other whales air\n",
      "water head crew line thing side way body\n"
     ]
    }
   ],
   "source": [
    "text1.similar('whale') #문맥 상 비슷한 단어"
   ]
  },
  {
   "cell_type": "code",
   "execution_count": 7,
   "id": "8a810a61",
   "metadata": {
    "scrolled": true
   },
   "outputs": [
    {
     "name": "stdout",
     "output_type": "stream",
     "text": [
      "am_glad a_pretty a_lucky is_pretty be_glad\n"
     ]
    }
   ],
   "source": [
    "text2.common_contexts(['monstrous', 'very']) #주어진 스트링이 공유하는 문맥"
   ]
  },
  {
   "cell_type": "markdown",
   "id": "456218cd",
   "metadata": {},
   "source": [
    "### Frequency Distribution\n",
    "- 단어의 빈도수를 활용할 수 있는 많은 메소드 제공\n",
    "- 인간언어 -> 컴퓨터가 인식\n",
    "    - 전체 단어 수\n",
    "    - 특정 빈도수"
   ]
  },
  {
   "cell_type": "code",
   "execution_count": 8,
   "id": "243c160a",
   "metadata": {},
   "outputs": [
    {
     "data": {
      "text/plain": [
       "[(',', 18713),\n",
       " ('the', 13721),\n",
       " ('.', 6862),\n",
       " ('of', 6536),\n",
       " ('and', 6024),\n",
       " ('a', 4569),\n",
       " ('to', 4542),\n",
       " (';', 4072),\n",
       " ('in', 3916),\n",
       " ('that', 2982)]"
      ]
     },
     "execution_count": 8,
     "metadata": {},
     "output_type": "execute_result"
    }
   ],
   "source": [
    "fdist = FreqDist(text1)\n",
    "fdist.most_common(10) #가장 빈번한 단어 출력"
   ]
  },
  {
   "cell_type": "code",
   "execution_count": 9,
   "id": "09e4d3e0",
   "metadata": {},
   "outputs": [
    {
     "data": {
      "text/plain": [
       "(906, 906)"
      ]
     },
     "execution_count": 9,
     "metadata": {},
     "output_type": "execute_result"
    }
   ],
   "source": [
    "fdist['whale'], text1.count('whale') #count랑 똑같"
   ]
  },
  {
   "cell_type": "code",
   "execution_count": 10,
   "id": "50363548",
   "metadata": {},
   "outputs": [
    {
     "data": {
      "text/plain": [
       "0.003473673313677301"
      ]
     },
     "execution_count": 10,
     "metadata": {},
     "output_type": "execute_result"
    }
   ],
   "source": [
    "fdist.freq('whale') #단어가 차지하는 비율 소수점으로 반환"
   ]
  },
  {
   "cell_type": "code",
   "execution_count": 11,
   "id": "39402096",
   "metadata": {},
   "outputs": [
    {
     "name": "stderr",
     "output_type": "stream",
     "text": [
      "Matplotlib is building the font cache; this may take a moment.\n"
     ]
    },
    {
     "data": {
      "image/png": "[encoded data removed]",
      "text/plain": [
       "<Figure size 432x288 with 1 Axes>"
      ]
     },
     "metadata": {
      "needs_background": "light"
     },
     "output_type": "display_data"
    },
    {
     "data": {
      "text/plain": [
       "<AxesSubplot:xlabel='Samples', ylabel='Counts'>"
      ]
     },
     "execution_count": 11,
     "metadata": {},
     "output_type": "execute_result"
    }
   ],
   "source": [
    "fdist.plot(50, cumulative=False) # 제일 빈번한 것부터 그림으로"
   ]
  },
  {
   "cell_type": "code",
   "execution_count": 12,
   "id": "04c923d0",
   "metadata": {},
   "outputs": [
    {
     "data": {
      "text/plain": [
       "9002"
      ]
     },
     "execution_count": 12,
     "metadata": {},
     "output_type": "execute_result"
    }
   ],
   "source": [
    "#hapaxes() 한 번 나타나는 단어들 반환\n",
    "len(fdist.hapaxes())"
   ]
  },
  {
   "cell_type": "markdown",
   "id": "555c1652",
   "metadata": {},
   "source": [
    "### 리스트, 리스트 컴프리핸션\n",
    "- 리스트(list): 배열(array)\n",
    "- 하나의 변수에 여러 값을 할당하는 자료형\n",
    "    - a = [1, 2, 3, 4]\n",
    "- 대괄호로 선언\n",
    "- 내부 요소들은 자료형이 달라도 된다\n",
    "- 순서가 있다 => 인덱싱, 슬라이싱 가능\n",
    "- 빈 리스트 선언: list(), []"
   ]
  },
  {
   "cell_type": "code",
   "execution_count": 13,
   "id": "162a62d3",
   "metadata": {},
   "outputs": [
    {
     "data": {
      "text/plain": [
       "'rum'"
      ]
     },
     "execution_count": 13,
     "metadata": {},
     "output_type": "execute_result"
    }
   ],
   "source": [
    "drinks = ['rum','mojito','soju']\n",
    "drinks[0]"
   ]
  },
  {
   "cell_type": "code",
   "execution_count": 14,
   "id": "73bf1d5b",
   "metadata": {},
   "outputs": [
    {
     "data": {
      "text/plain": [
       "2"
      ]
     },
     "execution_count": 14,
     "metadata": {},
     "output_type": "execute_result"
    }
   ],
   "source": [
    "#drinks에서 소주의 위치(오프셋)을 알고 싶다\n",
    "drinks.index('soju')"
   ]
  },
  {
   "cell_type": "markdown",
   "id": "43460aaa",
   "metadata": {},
   "source": [
    "#### list comprehension\n",
    "- 지능형 리스트\n",
    "- 주어진 리스트를 포함하는 새로운 리스트 형성\n",
    "- list + for_loop 한 줄로 해결하는 방식\n",
    "- [A for a' in B]\n",
    "   - B에 있는 A'에서 A를 가진 리스트를 반환\n",
    "   - B: 기존 리스트\n",
    "   - A': B의 자료 형태\n",
    "   - A: 출력값 / 새로운 리스트의 요소\n",
    "   \n",
    "\n",
    "- 조건 더하기: [A for a' in B if <조건식>]\n",
    "    [A for a' in B if <조건식>and<조건식>...]"
   ]
  },
  {
   "cell_type": "code",
   "execution_count": 16,
   "id": "300b22c1",
   "metadata": {},
   "outputs": [
    {
     "data": {
      "text/plain": [
       "['rum', 'mojito', 'soju']"
      ]
     },
     "execution_count": 16,
     "metadata": {},
     "output_type": "execute_result"
    }
   ],
   "source": [
    "[d for d in drinks]"
   ]
  },
  {
   "cell_type": "code",
   "execution_count": 17,
   "id": "0cf51b30",
   "metadata": {},
   "outputs": [
    {
     "data": {
      "text/plain": [
       "['r', 'm', 's']"
      ]
     },
     "execution_count": 17,
     "metadata": {},
     "output_type": "execute_result"
    }
   ],
   "source": [
    "[d[0] for d in drinks]"
   ]
  },
  {
   "cell_type": "code",
   "execution_count": 22,
   "id": "6a25bf6f",
   "metadata": {},
   "outputs": [
    {
     "data": {
      "text/plain": [
       "['characteristically', 'uninterpenetratingly']"
      ]
     },
     "execution_count": 22,
     "metadata": {},
     "output_type": "execute_result"
    }
   ],
   "source": [
    "[a for a in text1 if len(a) >= 18]"
   ]
  },
  {
   "cell_type": "code",
   "execution_count": 21,
   "id": "5c04c73f",
   "metadata": {},
   "outputs": [
    {
     "data": {
      "text/plain": [
       "['sovereignty',\n",
       " 'sovereignty',\n",
       " 'sovereignty',\n",
       " 'sovereignty',\n",
       " 'sovereignty',\n",
       " 'sovereignty',\n",
       " 'sovereignty',\n",
       " 'sovereignty',\n",
       " 'sovereignty',\n",
       " 'sovereignties',\n",
       " 'sovereignties',\n",
       " 'sovereignty',\n",
       " 'sovereignties',\n",
       " 'sovereignty',\n",
       " 'sovereignty',\n",
       " 'sovereignty',\n",
       " 'sovereignty',\n",
       " 'sovereignty',\n",
       " 'sovereignty',\n",
       " 'sovereignty',\n",
       " 'sovereignty',\n",
       " 'sovereignty',\n",
       " 'sovereignty',\n",
       " 'sovereignty',\n",
       " 'sovereignty',\n",
       " 'sovereignty',\n",
       " 'sovereignties',\n",
       " 'sovereignty',\n",
       " 'Sovereignty',\n",
       " 'sovereignty',\n",
       " 'sovereignty']"
      ]
     },
     "execution_count": 21,
     "metadata": {},
     "output_type": "execute_result"
    }
   ],
   "source": [
    "[word for word in text4 if 'gnt' in word]"
   ]
  },
  {
   "cell_type": "code",
   "execution_count": 28,
   "id": "e59396b2",
   "metadata": {},
   "outputs": [
    {
     "name": "stdout",
     "output_type": "stream",
     "text": [
      "3 2\n"
     ]
    }
   ],
   "source": [
    "#set 위치에 따른 차이\n",
    "\n",
    "a = [word.lower() for word in set(text4) if 'gnt' in word] \n",
    "# 중복 없앰 -> 연산\n",
    "# (the, The 는 중복 X)\n",
    "\n",
    "b = set([word.lower() for word in text4 if 'gnt' in word])\n",
    "# 연산 -> 중복 없앰\n",
    "\n",
    "print(len(a), len(b))"
   ]
  },
  {
   "cell_type": "markdown",
   "id": "7aad3716",
   "metadata": {},
   "source": [
    "### 조건을 위한 함수: uncased, cased\n",
    "- 'the' != 'The'\n",
    "- upper(), lower(), title() / title 은 The 이런애들 upper은 THE 이런애들\n",
    "- capitalize(), swapcase()\n",
    "- isupper() 대문자인지 물어보는 것 / islower() / istitle()\n",
    "- endswith(), startwith() 뭘로 시작하고 뭘로 끝나냐\n",
    "- isalpha() 전체 텍스트에서 알파벳만 골라내고 싶을 때 쓰는 함수"
   ]
  },
  {
   "cell_type": "code",
   "execution_count": null,
   "id": "1a9ddb54",
   "metadata": {},
   "outputs": [],
   "source": [
    "#text1에서 ableness로 끝나는단어 반환\n",
    "[word for word in text 1 if word.endswith('ableness')]"
   ]
  },
  {
   "cell_type": "code",
   "execution_count": null,
   "id": "10a4ba11",
   "metadata": {},
   "outputs": [],
   "source": [
    "#text3에서 대문자로 시작하는 단어들 중에 길이가 3 이상인 단어, 중복없이\n",
    "\n",
    "[word.upper() for word in set(text3) if word.istitle() and len(word) >= 3]\n",
    "\n",
    "#거르고 god, God 안걸러짐\n",
    "#결과계산\n",
    "#중복이 남는 형태\n",
    "\n",
    "\n",
    "set([word for word in text 3 if word[0].isupper() and len(word)>= 3]) #내가쓴거\n",
    "\n",
    "#계산하고 god, God가 둘다 God God가 됨\n",
    "#중복걸러짐 God만 남음"
   ]
  },
  {
   "cell_type": "code",
   "execution_count": null,
   "id": "d61980ea",
   "metadata": {},
   "outputs": [],
   "source": [
    "# text4에서 알파벳인 단어 중, 길이가 4개 이상, 빈도수가 5 이상인 단어의 길이 반환\n",
    "[len(word) for word in text4 if word.isalpha() and (len(word) >= 4) and fdist[word] >= 5]"
   ]
  },
  {
   "cell_type": "markdown",
   "id": "b15e8b48",
   "metadata": {},
   "source": [
    "### 리스트, 스트링 변환\n",
    "- str.split(sep) str -> list\n",
    "- sep.join() list -> str"
   ]
  },
  {
   "cell_type": "code",
   "execution_count": 34,
   "id": "457f4b30",
   "metadata": {},
   "outputs": [
    {
     "data": {
      "text/plain": [
       "['I', ' am', ' thirsty']"
      ]
     },
     "execution_count": 34,
     "metadata": {},
     "output_type": "execute_result"
    }
   ],
   "source": [
    "sent = \"I, am, thirsty\"\n",
    "\n",
    "sent.split(',')"
   ]
  },
  {
   "cell_type": "code",
   "execution_count": 35,
   "id": "65a0cd8e",
   "metadata": {},
   "outputs": [
    {
     "data": {
      "text/plain": [
       "['I', 'am', 'thirsty']"
      ]
     },
     "execution_count": 35,
     "metadata": {},
     "output_type": "execute_result"
    }
   ],
   "source": [
    "#위의 식에서 여백 없애기\n",
    "#list comprehension 써야함\n",
    "\n",
    "tokens = sent.split(',')\n",
    "\n",
    "[word.strip() for word in tokens]"
   ]
  },
  {
   "cell_type": "code",
   "execution_count": 36,
   "id": "97d12ebe",
   "metadata": {},
   "outputs": [
    {
     "data": {
      "text/plain": [
       "'I- am- thirsty'"
      ]
     },
     "execution_count": 36,
     "metadata": {},
     "output_type": "execute_result"
    }
   ],
   "source": [
    "'-'.join(tokens) #join을 쓰려면 구분자가 먼저 나온다는 점"
   ]
  },
  {
   "cell_type": "markdown",
   "id": "b6279c52",
   "metadata": {},
   "source": [
    "### 반복문\n",
    "- [word for word on text1] 에서 for~ 부터 부분\n",
    "- 자료구조를 순회할 때 사용\n",
    "- 정해진 동작 반복 수행할 때 내리는 명령어\n",
    "- 시작조건, 종료조건, 수행명령으로 구성됨\n",
    "- for 요소 in 반복범위:\n",
    "    수행명령\n",
    "    \n",
    "- for, while 들여쓰기, 블록 -> 논리구조\n",
    "- 무한루프가 되지 않도록 주의"
   ]
  },
  {
   "cell_type": "code",
   "execution_count": 37,
   "id": "414ee9c2",
   "metadata": {},
   "outputs": [
    {
     "name": "stdout",
     "output_type": "stream",
     "text": [
      "[\n",
      "Moby\n",
      "Dick\n",
      "by\n",
      "Herman\n",
      "Melville\n",
      "1851\n",
      "]\n",
      "ETYMOLOGY\n",
      ".\n"
     ]
    }
   ],
   "source": [
    "for word in text1[:10]:\n",
    "    print(word)"
   ]
  },
  {
   "cell_type": "code",
   "execution_count": 38,
   "id": "1eea871d",
   "metadata": {},
   "outputs": [
    {
     "name": "stdout",
     "output_type": "stream",
     "text": [
      "0\n",
      "1\n",
      "2\n",
      "3\n",
      "4\n",
      "5\n",
      "6\n",
      "7\n",
      "8\n",
      "9\n"
     ]
    }
   ],
   "source": [
    "#숫자 반복: range()\n",
    "#range(시작,끝,스텝)\n",
    "\n",
    "for i in range(10):\n",
    "    print(i)"
   ]
  },
  {
   "cell_type": "code",
   "execution_count": 42,
   "id": "df323529",
   "metadata": {},
   "outputs": [
    {
     "name": "stdout",
     "output_type": "stream",
     "text": [
      "260819\n",
      "141576\n",
      "44764\n",
      "152901\n",
      "45010\n",
      "16967\n",
      "100676\n",
      "4867\n",
      "69213\n"
     ]
    }
   ],
   "source": [
    "#text1-9 각 텍스트의 단어 수를 반환\n",
    "    #10만 20만 24만 ...\n",
    "\n",
    "texts = [text1, text2, text3, text4, text5, text6, text7, text8, text9]\n",
    "\n",
    "for text in texts:\n",
    "    print(len(text))"
   ]
  },
  {
   "cell_type": "markdown",
   "id": "137968ca",
   "metadata": {},
   "source": [
    "### 출력 포매팅\n",
    "- 1. f'str .. {변수 var}'\n",
    "    - t, F 둘다 가능\n",
    "- 2. %마크 쓰는 법 %이랑 변수형같이 써줘야함 (옛날방식\n",
    "    - '... %s' %var\n",
    "- 3. ' ...{}'.format(var)\n",
    "\n",
    "- 1, 3번을 주로 쓴다\n",
    "- 두개의 차이는 가독성"
   ]
  },
  {
   "cell_type": "code",
   "execution_count": 43,
   "id": "c65e0c0b",
   "metadata": {},
   "outputs": [
    {
     "name": "stdout",
     "output_type": "stream",
     "text": [
      "My name is lee\n"
     ]
    }
   ],
   "source": [
    "name = 'lee'\n",
    "print(f'My name is {name}')"
   ]
  },
  {
   "cell_type": "code",
   "execution_count": 44,
   "id": "61136d8e",
   "metadata": {},
   "outputs": [
    {
     "name": "stdout",
     "output_type": "stream",
     "text": [
      "My name is lee\n"
     ]
    }
   ],
   "source": [
    "print('My name is %s' %name)"
   ]
  },
  {
   "cell_type": "code",
   "execution_count": 45,
   "id": "06424888",
   "metadata": {},
   "outputs": [
    {
     "name": "stdout",
     "output_type": "stream",
     "text": [
      "My name is lee\n"
     ]
    }
   ],
   "source": [
    "print('My name is {}'.format(name))"
   ]
  },
  {
   "cell_type": "code",
   "execution_count": 46,
   "id": "a41d3602",
   "metadata": {},
   "outputs": [
    {
     "name": "stdout",
     "output_type": "stream",
     "text": [
      "My name is lee and I am 21 years old\n",
      "My name is lee and I am 21 years old\n"
     ]
    }
   ],
   "source": [
    "#가독성의 차이\n",
    "print(f'My name is {name} and I am {age} years old')\n",
    "print('My name is {} and I am {} years old'.format(name, age))"
   ]
  },
  {
   "cell_type": "code",
   "execution_count": 47,
   "id": "5189f873",
   "metadata": {},
   "outputs": [
    {
     "name": "stdout",
     "output_type": "stream",
     "text": [
      "my name is 0.556\n"
     ]
    }
   ],
   "source": [
    "a = 0.55555\n",
    "print('my name is %.3f'%a)"
   ]
  }
 ],
 "metadata": {
  "kernelspec": {
   "display_name": "Python 3 (ipykernel)",
   "language": "python",
   "name": "python3"
  },
  "language_info": {
   "codemirror_mode": {
    "name": "ipython",
    "version": 3
   },
   "file_extension": ".py",
   "mimetype": "text/x-python",
   "name": "python",
   "nbconvert_exporter": "python",
   "pygments_lexer": "ipython3",
   "version": "3.9.7"
  }
 },
 "nbformat": 4,
 "nbformat_minor": 5
}
