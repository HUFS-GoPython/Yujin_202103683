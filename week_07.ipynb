{
 "cells": [
  {
   "cell_type": "markdown",
   "id": "265412dc",
   "metadata": {},
   "source": [
    "### 함수\n",
    "1. 정의\n",
    "2. 인수\n",
    "3. 호출방식\n",
    "\n",
    "#### 1. 정의\n",
    "- 코드의 덩어리, 코드의 묶음\n",
    "- 간편한 재사용을 위해서 쓴다. 한줄로 재사용 가능\n",
    "- 정의 (define) 부분 + 호출(call) 부분\n",
    "    - 정의 \n",
    "        def 함수이름(매개변수):\n",
    "            수행문1\n",
    "            수행문2\n",
    "            \n",
    "            return 반환값\n",
    "    - 호출 = 함수 이름(인수1, 2, 3...)\n",
    "\n",
    "\n",
    "- 매개변수, 반환값은 있어도 되고 없어도 됨 (경우의 수 = 4)\n",
    "\n",
    "    1. 둘 다 있는\n",
    "    2. 둘 다 없는\n",
    "    3. 매개변수만 있는\n",
    "    4. 반환값만 있는\n",
    "    \n",
    "#### def 함수 이름 짓기\n",
    "- 소문자만 사용\n",
    "  - split_word -> 선호하는 방식\n",
    "  - splitWord -> 가능은 함\n",
    "\n",
    "- 동작이랑 관련되어 있으니까 주로 \"동사+명사\"형태\n",
    "  - i.e., 클래스는 명사 def split_word() 같은 위주로\n",
    "  - 줄임말 쓰지 말것 \n",
    "      - ex) splt_word (X)\n",
    "      - calculate = calc 등 이미 정해진 줄임말은 써도 됨"
   ]
  },
  {
   "cell_type": "code",
   "execution_count": null,
   "id": "ba791779",
   "metadata": {},
   "outputs": [],
   "source": [
    "y = x + 1 #매개변수, y=반환값, x+1은 수행문"
   ]
  },
  {
   "cell_type": "code",
   "execution_count": 2,
   "id": "ba223727",
   "metadata": {},
   "outputs": [
    {
     "data": {
      "text/plain": [
       "4"
      ]
     },
     "execution_count": 2,
     "metadata": {},
     "output_type": "execute_result"
    }
   ],
   "source": [
    "#1) 둘 다 있는\n",
    "def ex(x):\n",
    "    y = x+1\n",
    "    \n",
    "    return y\n",
    "\n",
    "ex(3) #호출"
   ]
  },
  {
   "cell_type": "code",
   "execution_count": 3,
   "id": "f20d8f99",
   "metadata": {},
   "outputs": [
    {
     "name": "stdout",
     "output_type": "stream",
     "text": [
      "quack\n"
     ]
    }
   ],
   "source": [
    "#2) 둘다 없는\n",
    "def make_sound():\n",
    "    print('quack')\n",
    "\n",
    "make_sound() #프린트는 되는데 변수를 받을 순 없음. 값이 없으니까"
   ]
  },
  {
   "cell_type": "code",
   "execution_count": 4,
   "id": "da2a80bb",
   "metadata": {},
   "outputs": [
    {
     "name": "stdout",
     "output_type": "stream",
     "text": [
      "yay\n"
     ]
    }
   ],
   "source": [
    "#3) 매개변수만 있는\n",
    "def make_sound(sound):\n",
    "    print(sound)\n",
    "\n",
    "make_sound('yay')"
   ]
  },
  {
   "cell_type": "code",
   "execution_count": 5,
   "id": "34f6b611",
   "metadata": {},
   "outputs": [
    {
     "name": "stdout",
     "output_type": "stream",
     "text": [
      "Splendid\n"
     ]
    }
   ],
   "source": [
    "#4) 반환값만 있는\n",
    "def agree():\n",
    "    return True\n",
    "\n",
    "if agree():\n",
    "    print('Splendid')\n",
    "else:\n",
    "    print('unexpected')"
   ]
  },
  {
   "cell_type": "markdown",
   "id": "67e51c71",
   "metadata": {},
   "source": [
    "#### 2. 인수\n",
    "- 매개변수 vs. 인수\n",
    "    - 매개변수: 함수 내(\"인터페이스\")에서 유효한 변수\n",
    "    - 인수: 실제 매개변수에 대입되는 변수\n",
    "    - 호출 시에 인수가 매개변수에 복제됨 yay->sound로\n",
    "- 위치 인수\n",
    "    - positional argument\n",
    "    - 매개변수를 순서에 맞게 복제\n",
    "- 키워드 인수\n",
    "    - keyword argument\n",
    "    - 매개변수 키워드에 맞게 넣기 (위치 상관 X)\n",
    "- 디폴트 인수\n",
    "    - default argument\n",
    "    - 매개변수 정의할 때 값을 미리 지정해두는 것\n",
    "    - 호출 시에 값이 입력되지 않으면 디폴트값 사용\n",
    "    - 디폴트 값은 맨 뒤에 (언디폴트 값 앞에 위치할 수 없다)"
   ]
  },
  {
   "cell_type": "code",
   "execution_count": 8,
   "id": "d3631ffb",
   "metadata": {},
   "outputs": [
    {
     "name": "stdout",
     "output_type": "stream",
     "text": [
      "yay\n"
     ]
    }
   ],
   "source": [
    "#sound 매개변수, yay 인수\n",
    "def make_sound(sound): \n",
    "    print(sound)\n",
    "yay = 'yay'\n",
    "\n",
    "make_sound(yay)"
   ]
  },
  {
   "cell_type": "code",
   "execution_count": 9,
   "id": "ee9a1a84",
   "metadata": {},
   "outputs": [
    {
     "data": {
      "text/plain": [
       "'black'"
      ]
     },
     "execution_count": 9,
     "metadata": {},
     "output_type": "execute_result"
    }
   ],
   "source": [
    "def commentary(color):\n",
    "    if color == 'g':\n",
    "        return 'green'\n",
    "    else: \n",
    "        return 'black'\n",
    "    \n",
    "color = 'white' # 이건 들여쓰지 않는 거 주의\n",
    "commentary(color)"
   ]
  },
  {
   "cell_type": "code",
   "execution_count": 10,
   "id": "aa6050e2",
   "metadata": {},
   "outputs": [
    {
     "name": "stdout",
     "output_type": "stream",
     "text": [
      "green\n",
      "black\n",
      "black\n"
     ]
    }
   ],
   "source": [
    "colors = ['g','b','t']\n",
    "\n",
    "for color in colors:\n",
    "    print(commentary(color))"
   ]
  },
  {
   "cell_type": "code",
   "execution_count": 11,
   "id": "370ef9d9",
   "metadata": {},
   "outputs": [
    {
     "data": {
      "text/plain": [
       "{'wine': 'a', 'entree': 'b', 'dessert': 'c'}"
      ]
     },
     "execution_count": 11,
     "metadata": {},
     "output_type": "execute_result"
    }
   ],
   "source": [
    "#위치 인수 (위치에 따라 넣어짐)\n",
    "def menu(wine, entree, dessert):\n",
    "    return {'wine':wine, 'entree': entree, 'dessert': dessert}\n",
    "\n",
    "menu('a','b','c')"
   ]
  },
  {
   "cell_type": "code",
   "execution_count": 12,
   "id": "502281d2",
   "metadata": {},
   "outputs": [
    {
     "data": {
      "text/plain": [
       "{'wine': 'c', 'entree': 'a', 'dessert': 'b'}"
      ]
     },
     "execution_count": 12,
     "metadata": {},
     "output_type": "execute_result"
    }
   ],
   "source": [
    "#키워드 인수 (키워드에 맞춰서 넣어짐)\n",
    "menu(entree = 'a', dessert = 'b', wine = 'c')"
   ]
  },
  {
   "cell_type": "code",
   "execution_count": 13,
   "id": "81d9b032",
   "metadata": {},
   "outputs": [
    {
     "data": {
      "text/plain": [
       "{'wine': 'rioja', 'entree': 'egg', 'dessert': 'banana'}"
      ]
     },
     "execution_count": 13,
     "metadata": {},
     "output_type": "execute_result"
    }
   ],
   "source": [
    "#디폴트 인수\n",
    "def menu2(wine, entree, dessert = 'banana'): #디폴트 값은 무조건 맨 뒤에 와야함\n",
    "    return {'wine':wine, 'entree': entree, 'dessert': dessert}\n",
    "\n",
    "menu2('rioja', 'egg') #딱히 값을 안넣으면 디폴트값으로 출력"
   ]
  },
  {
   "cell_type": "code",
   "execution_count": 14,
   "id": "08c9713e",
   "metadata": {},
   "outputs": [
    {
     "data": {
      "text/plain": [
       "{'wine': 'rioja', 'entree': 'egg', 'dessert': 'strawberry'}"
      ]
     },
     "execution_count": 14,
     "metadata": {},
     "output_type": "execute_result"
    }
   ],
   "source": [
    "menu2('rioja', 'egg','strawberry') #넣으면 넣은 값으로 나옴"
   ]
  },
  {
   "cell_type": "markdown",
   "id": "d865dc00",
   "metadata": {},
   "source": [
    "#### 3. 호출방식\n",
    "- 정의 부분은 호출 시 실행\n",
    "- 메모리에 저장되어 있다가 호출 시 실행\n",
    "- 매개변수 vs 인수"
   ]
  },
  {
   "cell_type": "code",
   "execution_count": 16,
   "id": "3fe78b44",
   "metadata": {},
   "outputs": [
    {
     "name": "stdout",
     "output_type": "stream",
     "text": [
      "2\n",
      "3\n",
      "1\n",
      "4\n"
     ]
    }
   ],
   "source": [
    "def multiply(x,y):\n",
    "    print('1')\n",
    "    return x * y\n",
    "\n",
    "print('2')\n",
    "i = 2\n",
    "j = 4\n",
    "\n",
    "print('3')\n",
    "multiply(i,j)\n",
    "\n",
    "print('4')"
   ]
  },
  {
   "cell_type": "code",
   "execution_count": 17,
   "id": "6d7ba66e",
   "metadata": {},
   "outputs": [
    {
     "name": "stdout",
     "output_type": "stream",
     "text": [
      "['a']\n",
      "['a', 'b']\n"
     ]
    }
   ],
   "source": [
    "def buggy(arg, result=[]):\n",
    "    result.append(arg)\n",
    "    print(result)\n",
    "    \n",
    "a, b = 'a', 'b'\n",
    "buggy(a)\n",
    "buggy(b)"
   ]
  },
  {
   "cell_type": "code",
   "execution_count": 18,
   "id": "dc0efc2d",
   "metadata": {},
   "outputs": [
    {
     "name": "stdout",
     "output_type": "stream",
     "text": [
      "['c', 'a']\n",
      "['c', 'a', 'b']\n"
     ]
    }
   ],
   "source": [
    "def nonbuggy(arg, result=None): #default\n",
    "    if result is None:\n",
    "    #리스트 없으면 빈 리스트 생성하고, 있으면 있는거 쓰기\n",
    "        result = []\n",
    "        \n",
    "    result.append(arg)\n",
    "    print(result)\n",
    "    \n",
    "# 없는 값. 아무것도 없다 = None\n",
    "empty = ['c']\n",
    "nonbuggy(a, empty)\n",
    "nonbuggy(b, empty)"
   ]
  },
  {
   "cell_type": "code",
   "execution_count": 19,
   "id": "01fb6a4a",
   "metadata": {},
   "outputs": [
    {
     "name": "stdout",
     "output_type": "stream",
     "text": [
      "None\n"
     ]
    }
   ],
   "source": [
    "thing = None\n",
    "if thing:\n",
    "    print('True')\n",
    "\n",
    "elif thing == False:\n",
    "    print('False')\n",
    "    \n",
    "else:\n",
    "    print('None')\n",
    "\n",
    "# ' None' 은 True,False랑 다름. 그냥 None이다"
   ]
  },
  {
   "cell_type": "markdown",
   "id": "04a422bf",
   "metadata": {},
   "source": [
    "#### 전역변수  vs 지역변수\n",
    "- 전역변수 : 프로그램 내에서(전체에서) 쓸 수 있는 변수\n",
    "- 지역변수 : 함수 안에서만 쓸 수 있는 변수"
   ]
  },
  {
   "cell_type": "code",
   "execution_count": 23,
   "id": "bb6594e9",
   "metadata": {},
   "outputs": [
    {
     "name": "stdout",
     "output_type": "stream",
     "text": [
      "london\n",
      "london ==london?\n"
     ]
    }
   ],
   "source": [
    "def fx():\n",
    "    global city #전역 변수\n",
    "    city = 'london' #지역변수\n",
    "    print(city)\n",
    "\n",
    "city = 'paris'\n",
    "fx() # 여기서 city = london\n",
    "print(city, '==london?')"
   ]
  },
  {
   "cell_type": "markdown",
   "id": "5396badf",
   "metadata": {},
   "source": [
    "#### doc string\n",
    "- 함수 설명\n",
    "- 함수아래에 \"\"\"독스트링\"\"\" 으로 적음\n",
    "- 매개변수 타입, 의미, 함수 기능\n",
    "- \"\"\"독스트링\n",
    "\"\"\""
   ]
  },
  {
   "cell_type": "code",
   "execution_count": 3,
   "id": "6ef79b91",
   "metadata": {},
   "outputs": [],
   "source": [
    "def buggy(arg, result = []):\n",
    "    \"\"\"\n",
    "    arg = str, 꽃 이름\n",
    "    result: list, xxxxx\n",
    "    꽃 이름을 리스트에 추가한다\n",
    "    \"\"\"\n",
    "    #위에거가 독스트링\n",
    "    \n",
    "    if arg == thing:\n",
    "        new_list = []\n",
    "        new.list.append(arg)\n",
    "    else:\n",
    "        result.append(arg)"
   ]
  },
  {
   "cell_type": "code",
   "execution_count": 6,
   "id": "6b804e6e",
   "metadata": {},
   "outputs": [
    {
     "name": "stdout",
     "output_type": "stream",
     "text": [
      "Help on function buggy in module __main__:\n",
      "\n",
      "buggy(arg, result=[])\n",
      "    arg = str, 꽃 이름\n",
      "    result: list, xxxxx\n",
      "    꽃 이름을 리스트에 추가한다\n",
      "\n"
     ]
    }
   ],
   "source": [
    "#독스트링 확인법 1\n",
    "help(buggy)"
   ]
  },
  {
   "cell_type": "code",
   "execution_count": 7,
   "id": "4ce964ce",
   "metadata": {},
   "outputs": [
    {
     "data": {
      "text/plain": [
       "'\\n    arg = str, 꽃 이름\\n    result: list, xxxxx\\n    꽃 이름을 리스트에 추가한다\\n    '"
      ]
     },
     "execution_count": 7,
     "metadata": {},
     "output_type": "execute_result"
    }
   ],
   "source": [
    "#독스트링 확인법 2\n",
    "buggy.__doc__"
   ]
  },
  {
   "cell_type": "markdown",
   "id": "9a6ad36f",
   "metadata": {},
   "source": [
    "#### quiz\n",
    "- 나이 -> 연도\n",
    "- 함수: 입력값 = 나이, 반환 = 연도 (2022-나이+1)\n",
    "- 나이 = input 받기"
   ]
  },
  {
   "cell_type": "code",
   "execution_count": 8,
   "id": "6406476b",
   "metadata": {},
   "outputs": [
    {
     "name": "stdout",
     "output_type": "stream",
     "text": [
      "나이를 입력하세요:21\n",
      "2002\n"
     ]
    }
   ],
   "source": [
    "def calc_birthyear(age):\n",
    "    year = 2022 - age + 1\n",
    "    return year\n",
    "\n",
    "age = int(input('나이를 입력하세요:'))\n",
    "print(calc_birthyear(age))"
   ]
  },
  {
   "cell_type": "markdown",
   "id": "aa23a069",
   "metadata": {},
   "source": [
    "### Brown 정제\n",
    "1. 문장 분절\n",
    "2. 단어 분절\n",
    "3. 문장부호, -, 's 등 제거\n",
    "4. 함수로 만들기"
   ]
  },
  {
   "cell_type": "code",
   "execution_count": 10,
   "id": "06a55c83",
   "metadata": {},
   "outputs": [],
   "source": [
    "import string\n",
    "import nltk"
   ]
  },
  {
   "cell_type": "code",
   "execution_count": 11,
   "id": "f33509f8",
   "metadata": {},
   "outputs": [
    {
     "name": "stderr",
     "output_type": "stream",
     "text": [
      "[nltk_data] Downloading package brown to\n",
      "[nltk_data]     C:\\Users\\Yujin\\AppData\\Roaming\\nltk_data...\n",
      "[nltk_data]   Package brown is already up-to-date!\n"
     ]
    }
   ],
   "source": [
    "nltk.download('brown')\n",
    "brown = nltk.corpus.brown\n",
    "romance = brown.raw(categories = 'romance')[:500]"
   ]
  },
  {
   "cell_type": "code",
   "execution_count": 12,
   "id": "b8a9c832",
   "metadata": {},
   "outputs": [
    {
     "data": {
      "text/plain": [
       "'They/ppss neither/cc liked/vbd nor/cc disliked/vbd the/at Old/jj-tl Man/nn-tl .'"
      ]
     },
     "execution_count": 12,
     "metadata": {},
     "output_type": "execute_result"
    }
   ],
   "source": [
    "# 문장 분절\n",
    "# ./. 에서 분절 or \\n으로 할 수도 있음\n",
    "\n",
    "sentences = [sent.strip() for sent in romance.split('/.')]\n",
    "sentences = [s for s in sentences if s != '!'] # ! 삭제\n",
    "sentences[0]"
   ]
  },
  {
   "cell_type": "code",
   "execution_count": 13,
   "id": "103aafb6",
   "metadata": {},
   "outputs": [
    {
     "data": {
      "text/plain": [
       "['They', 'neither', 'liked', 'nor', 'disliked', 'the', 'Old', 'Man', '.']"
      ]
     },
     "execution_count": 13,
     "metadata": {},
     "output_type": "execute_result"
    }
   ],
   "source": [
    "#단어 분절\n",
    "#문장에서 POS제거하고 분절\n",
    "\n",
    "SLASH = '/' #자주쓰는 기호는 대문자로 바꿔놓으면 코드 전반적으로 쓰기 편함\n",
    "\n",
    "example = sentences[0]\n",
    "[word[:word.find(SLASH)] if word[:word.find(SLASH)] else word for word in example.split()]"
   ]
  },
  {
   "cell_type": "code",
   "execution_count": 32,
   "id": "5dc4d85e",
   "metadata": {},
   "outputs": [
    {
     "name": "stdout",
     "output_type": "stream",
     "text": [
      "[['They', 'neither', 'liked', 'nor', 'disliked', 'the', 'Old', 'Man', '.'], ['To', 'them', 'he', 'could', 'have', 'been', 'the', 'broken', 'bell', 'in', 'the', 'church', 'tower', 'which', 'rang', 'before', 'and', 'after', 'Mass', ',', 'and', 'at', 'noon', ',', 'and', 'at', 'six', 'each', 'evening', '--', 'its', 'tone', ',', 'repetitive', ',', 'monotonous', ',', 'never', 'breaking', 'the', 'boredom', 'of', 'the', 'streets', '.'], ['The', 'Old', 'Man', 'was', 'unimportant', '.'], []]\n"
     ]
    }
   ],
   "source": [
    "# 전체 문장 적용\n",
    "\n",
    "sentences_tokens = [[word[:word.find(SLASH)] \\\n",
    "              if word[:word.find(SLASH)] else word \\\n",
    "              for word in example.split()] for example in sentences]\n",
    "\n",
    "print(sentences_tokens[:100])"
   ]
  },
  {
   "cell_type": "code",
   "execution_count": 33,
   "id": "fd2260cc",
   "metadata": {},
   "outputs": [
    {
     "name": "stdout",
     "output_type": "stream",
     "text": [
      "['!', '\"', '#', '$', '%', '&', \"'\", '(', ')', '*', '+', ',', '-', '.', '/', ':', ';', '<', '=', '>', '?', '@', '[', '\\\\', ']', '^', '_', '`', '{', '|', '}', '~']\n"
     ]
    }
   ],
   "source": [
    "# punctuations\n",
    "# 먼저 punct 리스트 만들기\n",
    "punct = list(string.punctuation)\n",
    "print(punct)"
   ]
  },
  {
   "cell_type": "code",
   "execution_count": 34,
   "id": "e57d012d",
   "metadata": {},
   "outputs": [
    {
     "data": {
      "text/plain": [
       "[['They', 'neither', 'liked', 'nor', 'disliked', 'the', 'Old', 'Man'],\n",
       " ['To',\n",
       "  'them',\n",
       "  'he',\n",
       "  'could',\n",
       "  'have',\n",
       "  'been',\n",
       "  'the',\n",
       "  'broken',\n",
       "  'bell',\n",
       "  'in',\n",
       "  'the',\n",
       "  'church',\n",
       "  'tower',\n",
       "  'which',\n",
       "  'rang',\n",
       "  'before',\n",
       "  'and',\n",
       "  'after',\n",
       "  'Mass',\n",
       "  'and',\n",
       "  'at',\n",
       "  'noon',\n",
       "  'and',\n",
       "  'at',\n",
       "  'six',\n",
       "  'each',\n",
       "  'evening',\n",
       "  'its',\n",
       "  'tone',\n",
       "  'repetitive',\n",
       "  'monotonous',\n",
       "  'never',\n",
       "  'breaking',\n",
       "  'the',\n",
       "  'boredom',\n",
       "  'of',\n",
       "  'the',\n",
       "  'streets'],\n",
       " ['The', 'Old', 'Man', 'was', 'unimportant'],\n",
       " []]"
      ]
     },
     "execution_count": 34,
     "metadata": {},
     "output_type": "execute_result"
    }
   ],
   "source": [
    "# punct만 일단 빼내기\n",
    "# 단어 사이의 '-', isn't의 apostrophe 는 남겨두기\n",
    "# word[0].isalnum() 으로 알파벳이나 숫자가 아닌 애들 빼기\n",
    "\n",
    "[[word for word in sent if word[0].isalnum() and word not in punct] for sent in sentences_tokens][:10]"
   ]
  },
  {
   "cell_type": "code",
   "execution_count": 35,
   "id": "673d398d",
   "metadata": {},
   "outputs": [
    {
     "name": "stdout",
     "output_type": "stream",
     "text": [
      "{'--'}\n",
      "['!', '\"', '#', '$', '%', '&', \"'\", '(', ')', '*', '+', ',', '-', '.', '/', ':', ';', '<', '=', '>', '?', '@', '[', '\\\\', ']', '^', '_', '`', '{', '|', '}', '~', '--']\n"
     ]
    }
   ],
   "source": [
    "# punct에 없는 것 찾아서 punct 리스트 확장\n",
    "# my_punct로 저장한 뒤 punct.extend 사용\n",
    "\n",
    "my_punct = set([word for sent in sentences_tokens for word in sent if (not word[0].isalnum()) and (word not in punct)])\n",
    "print(my_punct)\n",
    "#punct 포함된 단어들도 걸러짐\n",
    "\n",
    "punct.extend(list(my_punct))\n",
    "print(punct)"
   ]
  },
  {
   "cell_type": "code",
   "execution_count": 36,
   "id": "d85dddb4",
   "metadata": {},
   "outputs": [
    {
     "data": {
      "text/plain": [
       "('she', \"'s\")"
      ]
     },
     "execution_count": 36,
     "metadata": {},
     "output_type": "execute_result"
    }
   ],
   "source": [
    "#하이픈 fur-piece's\n",
    "'fur-piece'.split('-')\n",
    "\n",
    "#apostrophe 's\n",
    "word = 'she\\'s'\n",
    "index = word.find('\\'')\n",
    "\n",
    "word[:index], word[index:] # She's에서 she 랑 's 를 나눈거\n",
    "\n",
    "# 위의 식을 for loop으로 전체 단어에 돌리면 해결 가능"
   ]
  }
 ],
 "metadata": {
  "kernelspec": {
   "display_name": "Python 3 (ipykernel)",
   "language": "python",
   "name": "python3"
  },
  "language_info": {
   "codemirror_mode": {
    "name": "ipython",
    "version": 3
   },
   "file_extension": ".py",
   "mimetype": "text/x-python",
   "name": "python",
   "nbconvert_exporter": "python",
   "pygments_lexer": "ipython3",
   "version": "3.9.7"
  }
 },
 "nbformat": 4,
 "nbformat_minor": 5
}
