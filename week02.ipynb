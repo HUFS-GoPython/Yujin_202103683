{
 "cells": [
  {
   "cell_type": "markdown",
   "id": "dc72b653",
   "metadata": {},
   "source": [
    "# CH02. Variable\n",
    "\n",
    "### 자료형 변환, 형 변환\n",
    "- str(), int(), float(), bool()\n",
    "- 자료형은 불변객체"
   ]
  },
  {
   "cell_type": "code",
   "execution_count": 6,
   "id": "ecbaccb9",
   "metadata": {},
   "outputs": [],
   "source": [
    "a = 10"
   ]
  },
  {
   "cell_type": "code",
   "execution_count": 4,
   "id": "01eb04ca",
   "metadata": {},
   "outputs": [
    {
     "data": {
      "text/plain": [
       "'10'"
      ]
     },
     "execution_count": 4,
     "metadata": {},
     "output_type": "execute_result"
    }
   ],
   "source": [
    "str(a) #문자열 변환"
   ]
  },
  {
   "cell_type": "code",
   "execution_count": 7,
   "id": "20b80e89",
   "metadata": {},
   "outputs": [
    {
     "data": {
      "text/plain": [
       "10"
      ]
     },
     "execution_count": 7,
     "metadata": {},
     "output_type": "execute_result"
    }
   ],
   "source": [
    "int(a) #정수형으로 변환"
   ]
  },
  {
   "cell_type": "code",
   "execution_count": 8,
   "id": "a838239d",
   "metadata": {},
   "outputs": [
    {
     "data": {
      "text/plain": [
       "10.0"
      ]
     },
     "execution_count": 8,
     "metadata": {},
     "output_type": "execute_result"
    }
   ],
   "source": [
    "float(a) #소수점있는 형태로 변환 ex)5.1 / 8.5 등"
   ]
  },
  {
   "cell_type": "code",
   "execution_count": 9,
   "id": "9a65f182",
   "metadata": {},
   "outputs": [
    {
     "data": {
      "text/plain": [
       "True"
      ]
     },
     "execution_count": 9,
     "metadata": {},
     "output_type": "execute_result"
    }
   ],
   "source": [
    "bool(a) #참과 거짓 판단하는 형태 #어떤값이 False로 변환하는지만 기억(경우의 수가 더 적음)"
   ]
  },
  {
   "cell_type": "markdown",
   "id": "622e7143",
   "metadata": {},
   "source": [
    "- 주의사항 1) float를 int로 변환할때는 소수점을 내림"
   ]
  },
  {
   "cell_type": "code",
   "execution_count": null,
   "id": "e8d38e40",
   "metadata": {},
   "outputs": [],
   "source": [
    "x = 23.8\n",
    "int(x)"
   ]
  },
  {
   "cell_type": "code",
   "execution_count": 18,
   "id": "a19b069a",
   "metadata": {},
   "outputs": [
    {
     "name": "stdout",
     "output_type": "stream",
     "text": [
      "46\n",
      "45\n"
     ]
    }
   ],
   "source": [
    "y = 22.3\n",
    "\n",
    "print(int(x + y))\n",
    "print(int(x) + int(y))\n",
    "# 두개의 값이 다름 \n",
    "#소수점을 내리고 계산 or 안내리고 계산 후에 내리는 것 차이"
   ]
  },
  {
   "cell_type": "markdown",
   "id": "dfe8dc6b",
   "metadata": {},
   "source": [
    "- 주의사항 2) str을 int나 float로 바꿀 때 float값으로 나올 값을 int로 받으면 오류남"
   ]
  },
  {
   "cell_type": "code",
   "execution_count": 19,
   "id": "093534b9",
   "metadata": {},
   "outputs": [
    {
     "data": {
      "text/plain": [
       "(10, 10.0)"
      ]
     },
     "execution_count": 19,
     "metadata": {},
     "output_type": "execute_result"
    }
   ],
   "source": [
    "i = '10'\n",
    "int(i), float(i) #int값으로 나올 것이라고 예상되는 값은 상관없음"
   ]
  },
  {
   "cell_type": "code",
   "execution_count": 21,
   "id": "4dac0a27",
   "metadata": {
    "scrolled": true
   },
   "outputs": [
    {
     "ename": "ValueError",
     "evalue": "invalid literal for int() with base 10: '10.5'",
     "output_type": "error",
     "traceback": [
      "\u001b[1;31m---------------------------------------------------------------------------\u001b[0m",
      "\u001b[1;31mValueError\u001b[0m                                Traceback (most recent call last)",
      "\u001b[1;32m~\\AppData\\Local\\Temp/ipykernel_8376/2480507385.py\u001b[0m in \u001b[0;36m<module>\u001b[1;34m\u001b[0m\n\u001b[0;32m      1\u001b[0m \u001b[0mj\u001b[0m \u001b[1;33m=\u001b[0m \u001b[1;34m'10.5'\u001b[0m\u001b[1;33m\u001b[0m\u001b[1;33m\u001b[0m\u001b[0m\n\u001b[1;32m----> 2\u001b[1;33m \u001b[0mint\u001b[0m\u001b[1;33m(\u001b[0m\u001b[0mj\u001b[0m\u001b[1;33m)\u001b[0m\u001b[1;33m,\u001b[0m \u001b[0mfloat\u001b[0m\u001b[1;33m(\u001b[0m\u001b[0mj\u001b[0m\u001b[1;33m)\u001b[0m \u001b[1;31m#float값으로 예상되는데 int로 받아서 오류남\u001b[0m\u001b[1;33m\u001b[0m\u001b[1;33m\u001b[0m\u001b[0m\n\u001b[0m",
      "\u001b[1;31mValueError\u001b[0m: invalid literal for int() with base 10: '10.5'"
     ]
    }
   ],
   "source": [
    "j = '10.5'\n",
    "int(j), float(j) #float값으로 예상되는데 int로 받아서 오류남"
   ]
  },
  {
   "cell_type": "markdown",
   "id": "c75fffc8",
   "metadata": {},
   "source": [
    "### print할 때 꿀팁\n",
    "#### print() 함수에서 결과 연결할때\n",
    "- 도출된 값 사이에 space 두는 방법"
   ]
  },
  {
   "cell_type": "code",
   "execution_count": 28,
   "id": "c31016e9",
   "metadata": {},
   "outputs": [
    {
     "name": "stdout",
     "output_type": "stream",
     "text": [
      "applebananaorange\n",
      "apple banana orange\n",
      "apple,banana,orange\n",
      "apple&banana&orange\n"
     ]
    }
   ],
   "source": [
    "apple = 'apple'\n",
    "banana = 'banana'\n",
    "orange = 'orange'\n",
    "\n",
    "print(apple + banana + orange) #결과 값 사이에 공간 없음\n",
    "print(apple, banana, orange) # 공간 있음\n",
    "\n",
    "#sep=''이랑 줄바꾸기는 default\n",
    "# 바꾸고 싶으면 sep='' 사이에 콤마 등등 넣으면 됨\n",
    "\n",
    "print(apple, banana, orange, sep=',') #콤마로 나눈 경우\n",
    "print(apple, banana, orange, sep='&') #&로 나눈 경우"
   ]
  },
  {
   "cell_type": "markdown",
   "id": "6b1d7494",
   "metadata": {},
   "source": [
    "#### 문자열 사이에 값을 넣고 싶을 때\n",
    "- 문자열 앞에 f를 쓰고 {}를 쓰면 됨"
   ]
  },
  {
   "cell_type": "code",
   "execution_count": 29,
   "id": "3ada12aa",
   "metadata": {},
   "outputs": [
    {
     "name": "stdout",
     "output_type": "stream",
     "text": [
      "My favorite fruit is apple !\n",
      "My favorite fruit is apple!\n"
     ]
    }
   ],
   "source": [
    "print('My favorite fruit is', apple, '!') #불편함\n",
    "\n",
    "print(f'My favorite fruit is {apple}!') #간편함"
   ]
  },
  {
   "cell_type": "markdown",
   "id": "0740c359",
   "metadata": {},
   "source": [
    "#### 코드 줄이 짧을 때\n",
    "- 한 줄에 넣고 싶으면 ;(세미콜론) 사용"
   ]
  },
  {
   "cell_type": "code",
   "execution_count": 33,
   "id": "93203dd9",
   "metadata": {},
   "outputs": [
    {
     "name": "stdout",
     "output_type": "stream",
     "text": [
      "banana\n"
     ]
    }
   ],
   "source": [
    "apple = 'apple' ; banana = 'banana' ; orange = 'orange' #보기도 깔끔함\n",
    "\n",
    "print(banana)"
   ]
  },
  {
   "cell_type": "markdown",
   "id": "ca71f576",
   "metadata": {},
   "source": [
    "## input() 함수\n",
    "- 콘솔에서 사용자가 입력하는 값을 '받는' 함수\n",
    "- 입력받은 값은 문자열 str (숫자면 형 변환 필요)\n",
    "- 입력받은 값은 꼭 변수에 담아서 사용해야함"
   ]
  },
  {
   "cell_type": "code",
   "execution_count": 34,
   "id": "2162514f",
   "metadata": {},
   "outputs": [
    {
     "name": "stdout",
     "output_type": "stream",
     "text": [
      "만나서 반가워요네\n"
     ]
    },
    {
     "data": {
      "text/plain": [
       "'네'"
      ]
     },
     "execution_count": 34,
     "metadata": {},
     "output_type": "execute_result"
    }
   ],
   "source": [
    "input('만나서 반가워요')"
   ]
  },
  {
   "cell_type": "code",
   "execution_count": 37,
   "id": "a17dba2e",
   "metadata": {},
   "outputs": [
    {
     "name": "stdout",
     "output_type": "stream",
     "text": [
      "몇살이세요?21\n"
     ]
    },
    {
     "data": {
      "text/plain": [
       "21"
      ]
     },
     "execution_count": 37,
     "metadata": {},
     "output_type": "execute_result"
    }
   ],
   "source": [
    "int(input('몇살이세요?')) # 입력받은 값을 정수형int로 바꿔줌"
   ]
  },
  {
   "cell_type": "markdown",
   "id": "b28aca52",
   "metadata": {},
   "source": [
    "#### 변수에 할당하기"
   ]
  },
  {
   "cell_type": "code",
   "execution_count": 39,
   "id": "3aab0d83",
   "metadata": {},
   "outputs": [
    {
     "name": "stdout",
     "output_type": "stream",
     "text": [
      "몇살이세요?21\n",
      "21\n"
     ]
    }
   ],
   "source": [
    "# 방법 1\n",
    "\n",
    "age = input('몇살이세요?') #변수에 할당\n",
    "\n",
    "print(age)"
   ]
  },
  {
   "cell_type": "code",
   "execution_count": 40,
   "id": "fa7af682",
   "metadata": {},
   "outputs": [
    {
     "name": "stdout",
     "output_type": "stream",
     "text": [
      "몇살이세요?\n",
      "21\n"
     ]
    }
   ],
   "source": [
    "# 방법 2\n",
    "\n",
    "print('몇살이세요?')\n",
    "\n",
    "age = input() #변수에 할당"
   ]
  },
  {
   "cell_type": "markdown",
   "id": "e4144032",
   "metadata": {},
   "source": [
    "### Quiz 1\n",
    "- 섭씨를 화씨로 변환\n",
    "- 섭씨 + 1.8 + 21 = 화씨"
   ]
  },
  {
   "cell_type": "code",
   "execution_count": 50,
   "id": "d26743a0",
   "metadata": {},
   "outputs": [
    {
     "name": "stdout",
     "output_type": "stream",
     "text": [
      "섭씨온도를 입력하세요\n",
      "85\n",
      "화씨온도는 185.0도 입니다.\n"
     ]
    }
   ],
   "source": [
    "print(\"섭씨온도를 입력하세요\")\n",
    "\n",
    "Celsius = input()\n",
    "Fahrenheit = (int(Celsius)*1.8+32)\n",
    "\n",
    "print(f'화씨온도는 {Fahrenheit}도 입니다.')"
   ]
  },
  {
   "cell_type": "markdown",
   "id": "4aee7523",
   "metadata": {},
   "source": [
    "### Quiz 2\n",
    "-택배 정보 입력 받고 총 합계 계산하기\n",
    "\n",
    "- 출력값:\n",
    "    ==택배 정보==\n",
    "    수취인 성명: <이름>\n",
    "    수취인 주소: <주소>\n",
    "    배송비: 3000원\n",
    "    물건 비용: <가격>원\n",
    "    총 합계: <가격>원\n",
    "\n",
    "- 물건비용 = 무게 * 5\n",
    "- 합계 = 배송비 + 물건비용"
   ]
  },
  {
   "cell_type": "code",
   "execution_count": 51,
   "id": "332f1d54",
   "metadata": {},
   "outputs": [
    {
     "name": "stdout",
     "output_type": "stream",
     "text": [
      "배송정보를 입력하세요. 수취인 성명을 입력하세요\n",
      "김외대\n",
      "수취인 주소를 입력하세요\n",
      "한국외대\n",
      "물건의 무게를 입력하세요(g)\n",
      "600\n",
      "==택배 정보==\n",
      "수취인 성명: 김외대\n",
      "수취인 주소: 한국외대\n",
      "배송비: 3000원\n",
      "물건 비용: 3000원\n",
      "총 합계: 6000원\n"
     ]
    }
   ],
   "source": [
    "print('배송정보를 입력하세요. 수취인 성명을 입력하세요')\n",
    "name = input()\n",
    "print('수취인 주소를 입력하세요')\n",
    "adress = str(input())\n",
    "print('물건의 무게를 입력하세요(g)')\n",
    "package_price = float(input())*5\n",
    "\n",
    "total_price = 3000 + package_price\n",
    "\n",
    "print('==택배 정보==')\n",
    "print('수취인 성명:', name)\n",
    "print('수취인 주소:', adress)\n",
    "print('배송비: 3000원')\n",
    "print(f'물건 비용: {int(package_price)}원')\n",
    "print(f'총 합계: {int(total_price)}원')"
   ]
  },
  {
   "cell_type": "markdown",
   "id": "ec1c15f4",
   "metadata": {},
   "source": [
    "# CH03. Numbers\n",
    "\n",
    "### boolean\n",
    "- True / False 값\n",
    "    - False 인 경우: '',공백, 0 등등\n",
    "- 보통 조건식에서 많이 쓰임\n",
    "    ex) 만약 이 조건이 true라면~"
   ]
  },
  {
   "cell_type": "code",
   "execution_count": 47,
   "id": "25816575",
   "metadata": {},
   "outputs": [
    {
     "data": {
      "text/plain": [
       "True"
      ]
     },
     "execution_count": 47,
     "metadata": {},
     "output_type": "execute_result"
    }
   ],
   "source": [
    "bool(21)"
   ]
  },
  {
   "cell_type": "code",
   "execution_count": 49,
   "id": "7743432a",
   "metadata": {},
   "outputs": [
    {
     "data": {
      "text/plain": [
       "False"
      ]
     },
     "execution_count": 49,
     "metadata": {},
     "output_type": "execute_result"
    }
   ],
   "source": [
    "bool() #공백은 false"
   ]
  },
  {
   "cell_type": "markdown",
   "id": "42d0ec40",
   "metadata": {},
   "source": [
    "### integer\n",
    "- 소수점 없는 정수형\n",
    "- default는 양수, 음수는 - 붙이기\n",
    "- 숫자 앞에 0을 붙여서 05로 쓰기 X\n",
    "    - 예외적으로 다른 진수 표현 할 때 0bxxx로 씀 # 우린 10진수만 써서 안씀\n",
    "- 리터럴: 4 (글자 자체)\n",
    "- 중간에 공백 많은 것은 무시됨\n",
    "- 10,000은 10이랑 000으로 나눠짐 -> 언더바_사용\n",
    "    - 10_000"
   ]
  },
  {
   "cell_type": "code",
   "execution_count": 52,
   "id": "e84d1812",
   "metadata": {},
   "outputs": [
    {
     "data": {
      "text/plain": [
       "-5"
      ]
     },
     "execution_count": 52,
     "metadata": {},
     "output_type": "execute_result"
    }
   ],
   "source": [
    "a = -10\n",
    "5 + a"
   ]
  },
  {
   "cell_type": "code",
   "execution_count": 53,
   "id": "5e20edd8",
   "metadata": {},
   "outputs": [
    {
     "ename": "SyntaxError",
     "evalue": "leading zeros in decimal integer literals are not permitted; use an 0o prefix for octal integers (Temp/ipykernel_8376/4254210067.py, line 1)",
     "output_type": "error",
     "traceback": [
      "\u001b[1;36m  File \u001b[1;32m\"C:\\Users\\Yujin\\AppData\\Local\\Temp/ipykernel_8376/4254210067.py\"\u001b[1;36m, line \u001b[1;32m1\u001b[0m\n\u001b[1;33m    a = 03\u001b[0m\n\u001b[1;37m         ^\u001b[0m\n\u001b[1;31mSyntaxError\u001b[0m\u001b[1;31m:\u001b[0m leading zeros in decimal integer literals are not permitted; use an 0o prefix for octal integers\n"
     ]
    }
   ],
   "source": [
    "a = 03 #0 못씀"
   ]
  },
  {
   "cell_type": "code",
   "execution_count": 55,
   "id": "86064e3a",
   "metadata": {},
   "outputs": [
    {
     "data": {
      "text/plain": [
       "-2"
      ]
     },
     "execution_count": 55,
     "metadata": {},
     "output_type": "execute_result"
    }
   ],
   "source": [
    "- 10 + 5             +3 #중간 공백 무시"
   ]
  },
  {
   "cell_type": "markdown",
   "id": "246ea86b",
   "metadata": {},
   "source": [
    "#### 연산\n",
    "- 연산자|operator: +, -, *, /\n",
    "    - 거듭제곱은 **\n",
    "- 피연산자|operand: 2, 3 (연산을 당하는 수들)\n",
    "- 수식|expression\n",
    "\n",
    "#### 나눗셈에서 주의할 사항\n",
    "- 0으로 나누기 X\n",
    "- 몫과 나머지 확인"
   ]
  },
  {
   "cell_type": "code",
   "execution_count": 60,
   "id": "85779420",
   "metadata": {},
   "outputs": [
    {
     "data": {
      "text/plain": [
       "(0.23076923076923078, 0, 3)"
      ]
     },
     "execution_count": 60,
     "metadata": {},
     "output_type": "execute_result"
    }
   ],
   "source": [
    "x = 3 ; y = 13\n",
    "\n",
    "x / y, x // y, x % y #나눗셈, 몫, 나머지 순"
   ]
  },
  {
   "cell_type": "code",
   "execution_count": 61,
   "id": "b6b1ec96",
   "metadata": {},
   "outputs": [
    {
     "data": {
      "text/plain": [
       "(0, 3)"
      ]
     },
     "execution_count": 61,
     "metadata": {},
     "output_type": "execute_result"
    }
   ],
   "source": [
    "divmod(x, y) #x나누기 y를 한 값의 몫과 나머지를 한번에"
   ]
  },
  {
   "cell_type": "markdown",
   "id": "b48b0185",
   "metadata": {},
   "source": [
    "#### 복합 대입 연산자|compound assignment operator"
   ]
  },
  {
   "cell_type": "code",
   "execution_count": 62,
   "id": "9d1ffbb6",
   "metadata": {},
   "outputs": [
    {
     "name": "stdout",
     "output_type": "stream",
     "text": [
      "5\n"
     ]
    }
   ],
   "source": [
    "a = 5\n",
    "a - 3\n",
    "print(a)"
   ]
  },
  {
   "cell_type": "code",
   "execution_count": 65,
   "id": "6791357e",
   "metadata": {},
   "outputs": [],
   "source": [
    "a = a-3\n",
    "#1. a-3 계산\n",
    "#2 임시변수 temp = a-3으로 저장됨\n",
    "#3. a = a-3을 다시 할당\n",
    "# 줄여서 \n",
    "a-= 3"
   ]
  },
  {
   "cell_type": "code",
   "execution_count": 66,
   "id": "00c31f41",
   "metadata": {},
   "outputs": [],
   "source": [
    "a += 3\n",
    "a -= 3\n",
    "a *= 3\n",
    "a /= 3\n",
    "\n",
    "#이런식으로 대입, 대신 변수는 값을 초기화해야함"
   ]
  },
  {
   "cell_type": "markdown",
   "id": "5ec8025a",
   "metadata": {},
   "source": [
    "### Quiz 3\n",
    "- 정수를 입력받고 3의 배수인지 확인\n",
    "- 홀수인지 확\\인"
   ]
  },
  {
   "cell_type": "code",
   "execution_count": 67,
   "id": "9f7488d3",
   "metadata": {},
   "outputs": [
    {
     "name": "stdout",
     "output_type": "stream",
     "text": [
      "정수를 입력하세요\n",
      "5\n"
     ]
    },
    {
     "data": {
      "text/plain": [
       "False"
      ]
     },
     "execution_count": 67,
     "metadata": {},
     "output_type": "execute_result"
    }
   ],
   "source": [
    "# 3의 배수인지 확인\n",
    "print('정수를 입력하세요')\n",
    "number = int(input())\n",
    "number % 3 == 0"
   ]
  },
  {
   "cell_type": "code",
   "execution_count": 69,
   "id": "16afa778",
   "metadata": {},
   "outputs": [
    {
     "name": "stdout",
     "output_type": "stream",
     "text": [
      "정수를 입력하세요\n",
      "8\n"
     ]
    },
    {
     "data": {
      "text/plain": [
       "True"
      ]
     },
     "execution_count": 69,
     "metadata": {},
     "output_type": "execute_result"
    }
   ],
   "source": [
    "# 2의 배수인지 확인\n",
    "print('정수를 입력하세요')\n",
    "num = int(input())\n",
    "num % 2 == 0"
   ]
  },
  {
   "cell_type": "markdown",
   "id": "f5c8a73a",
   "metadata": {},
   "source": [
    "### 지수표현\n",
    "- e, E 둘다 가능\n",
    "- 앞부분은 float, int\n",
    "- 뒷부분은 int만 가능\n",
    "    - 양수면 0 앞, 음수면 0 뒤로 (소수점) 옮겨감"
   ]
  },
  {
   "cell_type": "code",
   "execution_count": 88,
   "id": "137b3315",
   "metadata": {},
   "outputs": [
    {
     "data": {
      "text/plain": [
       "10000.0"
      ]
     },
     "execution_count": 88,
     "metadata": {},
     "output_type": "execute_result"
    }
   ],
   "source": [
    "1.0e4 #float"
   ]
  },
  {
   "cell_type": "code",
   "execution_count": 90,
   "id": "653893b4",
   "metadata": {},
   "outputs": [
    {
     "data": {
      "text/plain": [
       "0.0001"
      ]
     },
     "execution_count": 90,
     "metadata": {},
     "output_type": "execute_result"
    }
   ],
   "source": [
    "1.0e-4 #위 의 식이랑 비교하면 양수랑 음수 적용 차이"
   ]
  },
  {
   "cell_type": "code",
   "execution_count": 84,
   "id": "c9618058",
   "metadata": {},
   "outputs": [
    {
     "data": {
      "text/plain": [
       "0.000789"
      ]
     },
     "execution_count": 84,
     "metadata": {},
     "output_type": "execute_result"
    }
   ],
   "source": [
    "# 0.000789 가 나오게 하려면\n",
    "7.89e-4"
   ]
  },
  {
   "cell_type": "markdown",
   "id": "691a6a65",
   "metadata": {},
   "source": [
    "### 코드 짜는 규칙\n",
    "- 주석 다는 방법\n",
    "    - 의도를 표현하는 설명\n",
    "    - #, hast, sharp 등 사용\n",
    "    - 시작된 부분부터 그 라인 끝까지가 주석\n",
    "    - #가 문자열 안에 들어있으면 문자열로 인식\n",
    "    - 여러줄의 주석을 달아야 할 때: \"\"\"<주석>\"\"\"\n",
    "\n",
    "-  라인 유지\n",
    "    - 들여쓰기, 공백 4개, 탭 1개 (다 같은거)\n",
    "    - if절에서 보통 씀\n",
    "    - 한 줄에 최대 80자 안넘는게 암묵적인 룰\n",
    "    - 백슬래시로 끊기 (\\\\)"
   ]
  },
  {
   "cell_type": "code",
   "execution_count": 92,
   "id": "7a20b7bb",
   "metadata": {},
   "outputs": [
    {
     "name": "stdout",
     "output_type": "stream",
     "text": [
      "hello ##\n"
     ]
    },
    {
     "data": {
      "text/plain": [
       "'\\n안녕\\n주석이\\n길면\\n이렇게\\n쓰면돼\\n'"
      ]
     },
     "execution_count": 92,
     "metadata": {},
     "output_type": "execute_result"
    }
   ],
   "source": [
    "example = 'hello ##'\n",
    "print(example)\n",
    "\n",
    "\"\"\"\n",
    "안녕\n",
    "주석이\n",
    "길면\n",
    "이렇게\n",
    "쓰면돼\n",
    "\"\"\" \n",
    "#보이긴 하는데 코드에 영향 X"
   ]
  },
  {
   "cell_type": "markdown",
   "id": "ea804de6",
   "metadata": {},
   "source": [
    "### if의 3가지 방법\n",
    "- 조건 1개\n",
    "    - if <조건식>: <실행할 코드>\n",
    "   \n",
    "   \n",
    "- 조건 2개\n",
    "   \n",
    "   if <조건식>:\n",
    "       <실행할 코드>\n",
    "   else: \n",
    "       <실행할 코드 2>\n",
    "   \n",
    "- 조건 3개\n",
    "\n",
    "    if <조건식>:\n",
    "        <실행할 코드>\n",
    "    elif <조건식 2>: \n",
    "        <실행할 코드 2>\n",
    "    else:\n",
    "        <실행할 코드3>"
   ]
  },
  {
   "cell_type": "code",
   "execution_count": 97,
   "id": "5c8c7fda",
   "metadata": {},
   "outputs": [
    {
     "name": "stdout",
     "output_type": "stream",
     "text": [
      "정수를 입력하세요\n",
      "5\n",
      "틀렸습니다.\n"
     ]
    }
   ],
   "source": [
    "print('정수를 입력하세요')\n",
    "a = int(input())\n",
    "\n",
    "if a == 10: \n",
    "    print('정답입니다!')\n",
    "else: \n",
    "    print('틀렸습니다.')"
   ]
  },
  {
   "cell_type": "markdown",
   "id": "05c475b2",
   "metadata": {},
   "source": [
    "### 비교연산자\n",
    "- x < y, x <= y (미만, 이하)\n",
    "- x > y, X >= y (초과, 이상)\n",
    "- x == y (값이 동일)\n",
    "- x != y (값이 다름)\n",
    "- x is y (값, 메모리주소 둘 다 같아야 함)\n",
    "- x is not y"
   ]
  },
  {
   "cell_type": "markdown",
   "id": "c68e4eb6",
   "metadata": {},
   "source": [
    "### Quiz 4 \n",
    "- 학점 부여\n",
    "- 학점을 입력 받아서 \n",
    "    - 90점 이상이면 A\n",
    "    - 80은 B\n",
    "    - 70은 C\n",
    "    - 그 외에는 D\n",
    "- 변수 설정에 유의"
   ]
  },
  {
   "cell_type": "code",
   "execution_count": 106,
   "id": "27a32fac",
   "metadata": {},
   "outputs": [
    {
     "name": "stdout",
     "output_type": "stream",
     "text": [
      "점수를 입력하세요\n",
      "78\n",
      "당신의 학점은 C 입니다.\n"
     ]
    }
   ],
   "source": [
    "print('점수를 입력하세요')\n",
    "score = float(input())\n",
    "\n",
    "if score >= 90:\n",
    "    grade = 'A'\n",
    "\n",
    "elif score >= 80:\n",
    "    grade = 'B'\n",
    "\n",
    "elif score >= 70:\n",
    "    grade = 'C'\n",
    "\n",
    "else :\n",
    "    grade = 'D'\n",
    "\n",
    "    \n",
    "print(f'당신의 학점은 {grade} 입니다.')"
   ]
  },
  {
   "cell_type": "markdown",
   "id": "97e2501f",
   "metadata": {},
   "source": [
    "### Quiz 5\n",
    "- 아이디와 비번 입력받아서 둘 다 일치하면 로그인하기\n",
    "- 아이디, 비번 각자 정해놓기\n",
    "- 일치하지 않으면 창의적인 다른 걸로 반환하기"
   ]
  },
  {
   "cell_type": "code",
   "execution_count": 121,
   "id": "94d89c5a",
   "metadata": {},
   "outputs": [
    {
     "name": "stdout",
     "output_type": "stream",
     "text": [
      "아이디를 입력하세요\n",
      "hufs_2021\n",
      "비밀번호를 입력하세요\n",
      "Yujin\n",
      "성공적으로 로그인 되었습니다\n"
     ]
    }
   ],
   "source": [
    "real_id = 'hufs_2021'\n",
    "real_password = 'Yujin'\n",
    "\n",
    "print('아이디를 입력하세요')\n",
    "your_id = str(input())\n",
    "print('비밀번호를 입력하세요')\n",
    "your_password = input()\n",
    "\n",
    "if real_id == your_id:\n",
    "  if real_password == your_password:\n",
    "    print('성공적으로 로그인 되었습니다')\n",
    "  else:\n",
    "    print('잘못된 비밀번호 입니다.')\n",
    "else :\n",
    "  print('잘못된 아이디입니다.')"
   ]
  },
  {
   "cell_type": "markdown",
   "id": "3969e3d0",
   "metadata": {},
   "source": [
    "### 논리연산자\n",
    "- 여러 조건식을 비교할 때\n",
    "- 10 < x < 20 일 때\n",
    "    - 파이썬에서만 가능한 표현\n",
    "    - (x>10) 혹은 (X<20)\n",
    "\n",
    "- and, &는 둘다 참일때 True\n",
    "- or, |는 둘 중 하나만 참이면 True\n",
    "- not: T -> F / F -> T\n"
   ]
  },
  {
   "cell_type": "markdown",
   "id": "5ff403a8",
   "metadata": {},
   "source": [
    "### Quiz 6\n",
    "- Quiz 4의 확장버전\n",
    "- 결석횟수를 입력받기\n",
    "- 점수가 80점 이상인데 결석이 2번 이상이면 F, 나머지는 점수대로\n",
    "    - 논리연산자 사용\n",
    "    - if 구조를 크게 2번\n"
   ]
  },
  {
   "cell_type": "code",
   "execution_count": 123,
   "id": "29038470",
   "metadata": {},
   "outputs": [
    {
     "name": "stdout",
     "output_type": "stream",
     "text": [
      "점수를 입력하세요\n",
      "88\n",
      "결석 횟수를 입력하세요\n",
      "2\n",
      "당신의 학점은 F 입니다.\n"
     ]
    }
   ],
   "source": [
    "print('점수를 입력하세요')\n",
    "score = float(input())\n",
    "print('결석 횟수를 입력하세요')\n",
    "absent = int(input())\n",
    "\n",
    "if score >= 80:\n",
    "    \n",
    "    if absent >=2:\n",
    "        grade = 'F'\n",
    "    \n",
    "    elif score >= 90 and absent < 2 : \n",
    "        grade = 'A'\n",
    "    \n",
    "    else:\n",
    "        grade = 'B'\n",
    "\n",
    "elif score >= 70:\n",
    "    grade = 'C'\n",
    "\n",
    "else :\n",
    "    grade = 'D'\n",
    "\n",
    "    \n",
    "print(f'당신의 학점은 {grade} 입니다.')"
   ]
  }
 ],
 "metadata": {
  "kernelspec": {
   "display_name": "Python 3 (ipykernel)",
   "language": "python",
   "name": "python3"
  },
  "language_info": {
   "codemirror_mode": {
    "name": "ipython",
    "version": 3
   },
   "file_extension": ".py",
   "mimetype": "text/x-python",
   "name": "python",
   "nbconvert_exporter": "python",
   "pygments_lexer": "ipython3",
   "version": "3.9.7"
  }
 },
 "nbformat": 4,
 "nbformat_minor": 5
}
