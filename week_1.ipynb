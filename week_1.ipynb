{
 "cells": [
  {
   "cell_type": "markdown",
   "id": "eda1dd97-692a-4da7-bad6-65000e38392e",
   "metadata": {},
   "source": [
    "- #은 코드에서 주석 달 때 사용\n",
    "- 한 줄은 셀, 왼쪽 파란 부분 + b 하면 새로운 셀 생성\n",
    "- 셀 지울 때는 왼쪽 파란 부분 + dd"
   ]
  },
  {
   "cell_type": "markdown",
   "id": "0ffc3593-273b-49ab-a897-1b454d3720f1",
   "metadata": {},
   "source": [
    "markdown은 번호 없음\n",
    "왼쪽 파란색 부분 + m (markdown줄임말)\n",
    "\n",
    "- #개수로 글자 크기 조절\n",
    "- #개수가 많으면 글자가 작아짐\n",
    "\n",
    "# Heading 1\n",
    "## Heading 2\n",
    "### Heading 3\n",
    "\n",
    "-는 item\n",
    "- item1\n",
    "- item2\n",
    "\n",
    "run (실행) : shift + Enter"
   ]
  },
  {
   "cell_type": "markdown",
   "id": "42a4af55-5e13-4726-96b5-9a0b0e6f47e0",
   "metadata": {},
   "source": [
    "## 프로그래밍\n",
    "    - 프로그래밍 언어를 사용해 프로그램을 개발하는 것\n",
    "    - 논리적 사고를 키울 수 있음\n",
    "\n",
    "## programming language?\n",
    "    - 프로그램 개발 시 사용하는 도구\n",
    "    - 인간이 원하는 것을 컴퓨터에게 명령할 때 쓰는 컴퓨터가 이해할 수 있는 언어\n",
    "\n",
    "## 파이썬\n",
    "    - 왜 배우는가? 쉽고 간결하고, 라이브러리가 많기 때문에 배움."
   ]
  },
  {
   "cell_type": "markdown",
   "id": "6167f0bf-cb15-4cb2-845b-c3ea5fe1d010",
   "metadata": {},
   "source": [
    "## Chapter 2.Data : Types, Values, Variables, and Names"
   ]
  },
  {
   "cell_type": "code",
   "execution_count": 10,
   "id": "9fcc61dd-c2db-4eb6-bc70-e520975e2a92",
   "metadata": {},
   "outputs": [
    {
     "data": {
      "text/plain": [
       "2"
      ]
     },
     "execution_count": 10,
     "metadata": {},
     "output_type": "execute_result"
    }
   ],
   "source": [
    "a = 2\n",
    "a"
   ]
  },
  {
   "cell_type": "code",
   "execution_count": 11,
   "id": "708de136-d263-4577-bd60-1bff23ea64bb",
   "metadata": {},
   "outputs": [
    {
     "data": {
      "text/plain": [
       "True"
      ]
     },
     "execution_count": 11,
     "metadata": {},
     "output_type": "execute_result"
    }
   ],
   "source": [
    "a == 2"
   ]
  },
  {
   "cell_type": "markdown",
   "id": "4a6237de-b32e-4139-aa24-aa8fb276e2b8",
   "metadata": {},
   "source": [
    "- 변수|variable: 특정 값을 저장하는 공간\n",
    "    a\n",
    "- 값|value\n",
    "    2\n",
    "- 할당하다|assign: 변수에 값을 넣는 과정\n",
    "    \"2를 a에 넣었다\"\n",
    "    \n",
    "** 'a는 2다'는 a == 2 로 표현하니까 혼동 X\n",
    "\n",
    "- 자료형| type: 데이터의 형태 (정수인지, 문자인지 등등)\n",
    "    데이터 a의 형태는 inter (int타입) 정수"
   ]
  },
  {
   "cell_type": "code",
   "execution_count": 41,
   "id": "44e30564-fd6a-40f9-82bb-8a5adb6c16f1",
   "metadata": {},
   "outputs": [
    {
     "name": "stdout",
     "output_type": "stream",
     "text": [
      "2\n"
     ]
    },
    {
     "data": {
      "text/plain": [
       "int"
      ]
     },
     "execution_count": 41,
     "metadata": {},
     "output_type": "execute_result"
    }
   ],
   "source": [
    "# 출력: print()\n",
    "print (a)\n",
    "\n",
    "#타입을 알고싶으면: type()\n",
    "type (a)"
   ]
  },
  {
   "cell_type": "code",
   "execution_count": 17,
   "id": "7af76485-ac21-46c8-b41d-e78b62e1023b",
   "metadata": {},
   "outputs": [
    {
     "data": {
      "text/plain": [
       "bool"
      ]
     },
     "execution_count": 17,
     "metadata": {},
     "output_type": "execute_result"
    }
   ],
   "source": [
    "type (a==2) \n",
    "# bool, boolean True or False"
   ]
  },
  {
   "cell_type": "markdown",
   "id": "393732dd-255c-4803-8671-14808d4d379c",
   "metadata": {},
   "source": [
    "### Type\n",
    "- integer|정수: 1, 2, 3 등등\n",
    "    (int)\n",
    "- floating point number|부동소수점: 1.0, 2.1 등등\n",
    "    (float)\n",
    "- string|문자열: \"\"이나 '' 안에 넣으면 숫자든 글이든 다 문자열\n",
    "    (str)\n",
    "- bool|불리언: True or False로 나옴 (bool)"
   ]
  },
  {
   "cell_type": "code",
   "execution_count": 19,
   "id": "f0c98a34-0f1b-4a90-b8c7-5ccb65880b2e",
   "metadata": {},
   "outputs": [
    {
     "data": {
      "text/plain": [
       "int"
      ]
     },
     "execution_count": 19,
     "metadata": {},
     "output_type": "execute_result"
    }
   ],
   "source": [
    "type(1)"
   ]
  },
  {
   "cell_type": "code",
   "execution_count": 20,
   "id": "b28ee279-c504-4743-8cf7-9e783c40cb32",
   "metadata": {
    "tags": []
   },
   "outputs": [
    {
     "data": {
      "text/plain": [
       "str"
      ]
     },
     "execution_count": 20,
     "metadata": {},
     "output_type": "execute_result"
    }
   ],
   "source": [
    "type(\"1\")"
   ]
  },
  {
   "cell_type": "code",
   "execution_count": 21,
   "id": "0dc52db1-7148-459b-85e1-e34c0c69a982",
   "metadata": {},
   "outputs": [
    {
     "data": {
      "text/plain": [
       "str"
      ]
     },
     "execution_count": 21,
     "metadata": {},
     "output_type": "execute_result"
    }
   ],
   "source": [
    "type('apple') #따옴표 없이 쓰면 변수명으로 인식되어서 에러남"
   ]
  },
  {
   "cell_type": "code",
   "execution_count": 23,
   "id": "105f5e16-0b74-43cb-aa81-2c72f6e28294",
   "metadata": {},
   "outputs": [],
   "source": [
    "name = 'kim'"
   ]
  },
  {
   "cell_type": "code",
   "execution_count": 24,
   "id": "7c6f3a9a-42ed-4551-a790-1c95be380df4",
   "metadata": {},
   "outputs": [
    {
     "name": "stdout",
     "output_type": "stream",
     "text": [
      "kim\n"
     ]
    }
   ],
   "source": [
    "print(name)"
   ]
  },
  {
   "cell_type": "markdown",
   "id": "825c3247-289a-4279-a3cb-398c0ab0d8f7",
   "metadata": {
    "tags": []
   },
   "source": [
    "### 할당\n",
    "- = 기호를 사용해 변수에 값을 넣는 것\n",
    "- 수학에서는 '양변이 같다' / 프로그래밍에서는 '할당하다'의미로 쓰임\n",
    "- \"오른쪽의 값을 왼쪽에 할당한다\"\n",
    "\n",
    "- 1.오른쪽에 있는 모든 것은 값을 가져야 함. (초기화를 해야 한다)\n",
    "   - y = x + 3 에서 일단 x값이 정해져 있어야 한다. 처음에 값을 정해주는 게 초기화\n",
    "- 2.같은 변수에 다른 값을 넣을 수 있다.\n",
    "    가장 마지막에 넣은 값으로 받아들임\n",
    "- (수학과 같은 의미로는 == 사용)\n",
    "### 변수의 특징"
   ]
  },
  {
   "cell_type": "code",
   "execution_count": 28,
   "id": "761a9065-97a2-49e2-afcd-fc6890c19f96",
   "metadata": {},
   "outputs": [],
   "source": [
    "x = 4 #초기화하는 것\n",
    "y = x + 3"
   ]
  },
  {
   "cell_type": "code",
   "execution_count": 27,
   "id": "7d9d4fce-2bf0-4c84-b478-f079c57199b7",
   "metadata": {},
   "outputs": [
    {
     "name": "stdout",
     "output_type": "stream",
     "text": [
      "4 7\n"
     ]
    }
   ],
   "source": [
    "print(x,y)"
   ]
  },
  {
   "cell_type": "code",
   "execution_count": 40,
   "id": "1c69b473-4fa8-4039-945b-5c63486a17e6",
   "metadata": {},
   "outputs": [
    {
     "name": "stdout",
     "output_type": "stream",
     "text": [
      "5\n"
     ]
    }
   ],
   "source": [
    "name = 'kim'\n",
    "name = 'lee'\n",
    "name = 'park'\n",
    "name = 5\n",
    "print (name) # 변수명 동일하게 쓰지 말기"
   ]
  },
  {
   "cell_type": "markdown",
   "id": "a7eb0a64-e033-410c-859e-7753cda12f64",
   "metadata": {},
   "source": [
    "### 변수명 정하기\n",
    "- 나쁜 변수명: 의미없는 a, b, c, a1, b1 등등\n",
    "- 코딩은 나를 위한 게 아니라 남을 위한 거라 남이 이해하고 확인 할 수 있도록 해야함\n",
    "- 의미있는 이름으로 선언하는 게 규\n",
    "- 소문자, 대문자, 숫자, 언더바 사\n",
    "    예: name, name2, my_name, Name, NAME"
   ]
  },
  {
   "cell_type": "code",
   "execution_count": 43,
   "id": "37e7d056-6f1e-405e-bd9b-69355fbfcc5c",
   "metadata": {},
   "outputs": [
    {
     "name": "stdout",
     "output_type": "stream",
     "text": [
      "Juliette Jessica laura\n",
      "Juliette,Jessica,laura\n"
     ]
    }
   ],
   "source": [
    "name = 'Juliette'\n",
    "name1 = 'Jessica'\n",
    "my_name = 'laura'\n",
    "\n",
    "#myName -> 카멜표기법이라고 함\n",
    "\n",
    "print(name, name1, my_name)\n",
    "print(name, name1, my_name, sep=',')\n",
    "#sep=','를 쓰면 값 사이를 콤마로 나눠줌. separate의 약자"
   ]
  },
  {
   "cell_type": "markdown",
   "id": "17513068-85e8-4276-b775-ce98d265b906",
   "metadata": {},
   "source": [
    "- 안되는 것\n",
    "    - 숫자로 시작하기 안됨\n",
    "         예: 22name, 22_name\n",
    "    - 예약어로는 선언 불가능\n",
    "         예: def, false, if, 등등"
   ]
  },
  {
   "cell_type": "code",
   "execution_count": 1,
   "id": "74601b89-9b45-4414-9d98-c55a7efa7a2f",
   "metadata": {},
   "outputs": [
    {
     "name": "stdout",
     "output_type": "stream",
     "text": [
      "\n",
      "Here is a list of the Python keywords.  Enter any keyword to get more help.\n",
      "\n",
      "False               break               for                 not\n",
      "None                class               from                or\n",
      "True                continue            global              pass\n",
      "__peg_parser__      def                 if                  raise\n",
      "and                 del                 import              return\n",
      "as                  elif                in                  try\n",
      "assert              else                is                  while\n",
      "async               except              lambda              with\n",
      "await               finally             nonlocal            yield\n",
      "\n"
     ]
    }
   ],
   "source": [
    "#예약어 종류 모를 때\n",
    "help(\"keywords\")"
   ]
  },
  {
   "cell_type": "markdown",
   "id": "4cadf168-e1e4-467d-99f4-b3c8032fcd51",
   "metadata": {},
   "source": [
    "- 조심할 것: 특별한 용도가 있어서\n",
    "    - 언더바로 시작하는 변수명: _name\n",
    "    - 더블 언더바로 시작하는 변수명: _name_\n",
    "    - 대문자로 시작하는 변수명: Name\n",
    "    - 전체 대문자인 변수명: NAME\n",
    "    \n",
    "- 용도를 모르면 약속된 것들이 있으니까 그냥 쓰지 말기\n",
    "    - name! a_b_c_____99 이런 쓰지 않기"
   ]
  },
  {
   "cell_type": "code",
   "execution_count": 42,
   "id": "4e4b29fb-c118-4ed8-be4a-e63e174887fa",
   "metadata": {},
   "outputs": [],
   "source": [
    "#변수명은 대소문자 구분함\n",
    "num = 43\n",
    "Num = 50"
   ]
  },
  {
   "cell_type": "code",
   "execution_count": 36,
   "id": "eda98112-4f32-41bf-b2c1-faa8df5243f4",
   "metadata": {},
   "outputs": [
    {
     "data": {
      "text/plain": [
       "False"
      ]
     },
     "execution_count": 36,
     "metadata": {},
     "output_type": "execute_result"
    }
   ],
   "source": [
    "num == Num"
   ]
  },
  {
   "cell_type": "code",
   "execution_count": 37,
   "id": "deb62713-9834-448c-953a-d71535c04297",
   "metadata": {},
   "outputs": [
    {
     "data": {
      "text/plain": [
       "False"
      ]
     },
     "execution_count": 37,
     "metadata": {},
     "output_type": "execute_result"
    }
   ],
   "source": [
    "num = 'number'\n",
    "Num = 'Number'\n",
    "\n",
    "num == Num"
   ]
  },
  {
   "cell_type": "code",
   "execution_count": 39,
   "id": "b7b67709-4dab-4570-9862-6cd74526fa87",
   "metadata": {},
   "outputs": [
    {
     "data": {
      "text/plain": [
       "True"
      ]
     },
     "execution_count": 39,
     "metadata": {},
     "output_type": "execute_result"
    }
   ],
   "source": [
    "# '같다'는 ==, '다르다'는 !=\n",
    "num != Num"
   ]
  },
  {
   "cell_type": "markdown",
   "id": "7dc2a6b8-6ae2-4b41-9112-5e0640d35ba9",
   "metadata": {},
   "source": [
    "#### 변수는 처음에 정해두고 나중에 초기화 값만 바꾸면 전체 식이 바뀌니까 변수명을 설정하는 습관을 들이는 게 좋다."
   ]
  }
 ],
 "metadata": {
  "kernelspec": {
   "display_name": "Python 3 (ipykernel)",
   "language": "python",
   "name": "python3"
  },
  "language_info": {
   "codemirror_mode": {
    "name": "ipython",
    "version": 3
   },
   "file_extension": ".py",
   "mimetype": "text/x-python",
   "name": "python",
   "nbconvert_exporter": "python",
   "pygments_lexer": "ipython3",
   "version": "3.9.7"
  }
 },
 "nbformat": 4,
 "nbformat_minor": 5
}
