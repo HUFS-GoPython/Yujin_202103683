{
  "nbformat": 4,
  "nbformat_minor": 0,
  "metadata": {
    "colab": {
      "name": "week_05.ipynb",
      "provenance": [],
      "collapsed_sections": []
    },
    "kernelspec": {
      "name": "python3",
      "display_name": "Python 3"
    },
    "language_info": {
      "name": "python"
    }
  },
  "cells": [
    {
      "cell_type": "markdown",
      "source": [
        "### 반복문\n",
        "- while, for loop\n",
        "\n",
        "#### while loop\n",
        "- 어떤 조건이 만족하는 동안 명령블록 수행\n",
        "- if + for loop\n",
        "- 해당 조건이 거짓이면 멈춤 (언제 멈추는지 정확히 파악해야함)\n",
        "\n",
        "#### for vs. while\n",
        "- for: 반복 횟수 정해져 있고 정확. 변하지 않음\n",
        "  - ex) 성적 산출\n",
        "- while: 횟수 정해지지 않음. 중요X, 어떤 조건을 만족시킬때 빠져나오게 하는 게 중요할 때 사용\n",
        "  - ex) 가위바위보"
      ],
      "metadata": {
        "id": "XonA55ujW62k"
      }
    },
    {
      "cell_type": "code",
      "source": [
        "for i in range(10):\n",
        "  print(i)"
      ],
      "metadata": {
        "colab": {
          "base_uri": "https://localhost:8080/"
        },
        "id": "DKOeo6ulW37A",
        "outputId": "8cc9d4d0-bc16-4174-c276-bb18282d796e"
      },
      "execution_count": null,
      "outputs": [
        {
          "output_type": "stream",
          "name": "stdout",
          "text": [
            "0\n",
            "1\n",
            "2\n",
            "3\n",
            "4\n",
            "5\n",
            "6\n",
            "7\n",
            "8\n",
            "9\n"
          ]
        }
      ]
    },
    {
      "cell_type": "code",
      "source": [
        "j = 0\n",
        "while j < 3:   #0,1,2,false\n",
        "  j += 1\n",
        "  print(j)      #0,1,2\n",
        "#j += 1 -> 1,2,3으로 변화"
      ],
      "metadata": {
        "colab": {
          "base_uri": "https://localhost:8080/"
        },
        "id": "h2UPrjnuW39w",
        "outputId": "409d023f-a8fc-453f-9d65-5f95b047affd"
      },
      "execution_count": null,
      "outputs": [
        {
          "output_type": "stream",
          "name": "stdout",
          "text": [
            "1\n",
            "2\n",
            "3\n"
          ]
        }
      ]
    },
    {
      "cell_type": "code",
      "source": [
        "abcd = ['a','b','c','d']\n",
        "for ch in abcd:\n",
        "    print(ch)\n",
        "#while loop으로 바꾸면!"
      ],
      "metadata": {
        "colab": {
          "base_uri": "https://localhost:8080/"
        },
        "id": "gxOzjFAEfJEv",
        "outputId": "b7b2395e-f950-47d3-dc67-318c5b3777e8"
      },
      "execution_count": 1,
      "outputs": [
        {
          "output_type": "stream",
          "name": "stdout",
          "text": [
            "a\n",
            "b\n",
            "c\n",
            "d\n"
          ]
        }
      ]
    },
    {
      "cell_type": "code",
      "source": [
        "i = 0\n",
        "while i < len(abcd):\n",
        "    print(abcd[i])\n",
        "    i += 1"
      ],
      "metadata": {
        "colab": {
          "base_uri": "https://localhost:8080/"
        },
        "id": "axi_gi1lfQXo",
        "outputId": "baa27173-1e86-48ed-9645-d9af1f76ccbb"
      },
      "execution_count": 2,
      "outputs": [
        {
          "output_type": "stream",
          "name": "stdout",
          "text": [
            "a\n",
            "b\n",
            "c\n",
            "d\n"
          ]
        }
      ]
    },
    {
      "cell_type": "markdown",
      "source": [
        "### 반복문 제어\n",
        "- 되도록 사용하지 않음 (생각지못하게 종료될수도)\n",
        "- break: 논리적으로 종료시킬때\n",
        "- else: 조건이 완전히 끝났을 때 한 번 더 실행함. break 시에는 실행 안됨\n",
        "    - 어느 지점에서 종료되었는지 확인\n",
        "- continue: 특정 조건 건너뛰고 다음 조건 실행"
      ],
      "metadata": {
        "id": "X0O7Q3mQfV7f"
      }
    },
    {
      "cell_type": "code",
      "source": [
        "j = 0 # 초기화\n",
        "while j < 10:\n",
        "    print(j)\n",
        "    if j == 6: break\n",
        "    j+= 1"
      ],
      "metadata": {
        "colab": {
          "base_uri": "https://localhost:8080/"
        },
        "id": "mfX52-l0fTLQ",
        "outputId": "80ef7aee-1ad2-4d8f-f6b3-0a1bc825b838"
      },
      "execution_count": 3,
      "outputs": [
        {
          "output_type": "stream",
          "name": "stdout",
          "text": [
            "0\n",
            "1\n",
            "2\n",
            "3\n",
            "4\n",
            "5\n",
            "6\n"
          ]
        }
      ]
    },
    {
      "cell_type": "code",
      "source": [
        "j = 0 # 초기화\n",
        "while j < 10:\n",
        "    print(j)\n",
        "    if j == 16: break #break자리에 continue넣고 16을 6으로 바꾸면 무한루프됨\n",
        "    j+= 1\n",
        "else:    \n",
        "    print('ended')  \n",
        "# 같은 라인 탄다"
      ],
      "metadata": {
        "colab": {
          "base_uri": "https://localhost:8080/"
        },
        "id": "UjInq3oRfTVJ",
        "outputId": "608bf259-cb40-4237-dbdb-5eceedd04568"
      },
      "execution_count": 4,
      "outputs": [
        {
          "output_type": "stream",
          "name": "stdout",
          "text": [
            "0\n",
            "1\n",
            "2\n",
            "3\n",
            "4\n",
            "5\n",
            "6\n",
            "7\n",
            "8\n",
            "9\n",
            "ended\n"
          ]
        }
      ]
    },
    {
      "cell_type": "markdown",
      "source": [
        "---------------------------\n",
        "### 구구단 Gugudan\n",
        "변수 입력받기.\n",
        "- n단 출력\n",
        "- 1-n단 출력\n",
        "- n,m 모두 입력받아서 출력\n",
        "  n>m\n",
        "- 프로그램으로 만듦\n",
        "  - 메뉴: n / 1-n / n-m단\n",
        "  - 메뉴에 없는 옵션 선택할 때"
      ],
      "metadata": {
        "id": "7M4Gy4WhbXbI"
      }
    },
    {
      "cell_type": "code",
      "source": [
        "# n단 출력\n",
        "dan = int(input('단수를 입력하세요:'))\n",
        "print(f'======{dan}단======')\n",
        "for i in range (1,10):\n",
        "  print(f'{dan} X {i} = {i * dan}')"
      ],
      "metadata": {
        "colab": {
          "base_uri": "https://localhost:8080/"
        },
        "id": "JYMlNCfcczeR",
        "outputId": "cf8a92c0-7413-4a70-e52e-4b7597208ea8"
      },
      "execution_count": null,
      "outputs": [
        {
          "output_type": "stream",
          "name": "stdout",
          "text": [
            "단수를 입력하세요:4\n",
            "======4단======\n",
            "4 X 1 = 4\n",
            "4 X 2 = 8\n",
            "4 X 3 = 12\n",
            "4 X 4 = 16\n",
            "4 X 5 = 20\n",
            "4 X 6 = 24\n",
            "4 X 7 = 28\n",
            "4 X 8 = 32\n",
            "4 X 9 = 36\n"
          ]
        }
      ]
    },
    {
      "cell_type": "code",
      "source": [
        "# 1-n단 출력하기\n",
        "dan = int(input('단수를 입력하세요:'))\n",
        "for i in range(1, dan+1):\n",
        "  print(f'======{i}단======')\n",
        "  for j in range(1, 10):\n",
        "    print(f'{i} X {j} = {i * j}')\n",
        "  "
      ],
      "metadata": {
        "colab": {
          "base_uri": "https://localhost:8080/"
        },
        "id": "fomfDIzlW4AV",
        "outputId": "5a4d51d5-d09e-4bf7-b0bb-dd69a5a92a23"
      },
      "execution_count": null,
      "outputs": [
        {
          "output_type": "stream",
          "name": "stdout",
          "text": [
            "단수를 입력하세요:3\n",
            "======1단======\n",
            "1 X 1 = 1\n",
            "1 X 2 = 2\n",
            "1 X 3 = 3\n",
            "1 X 4 = 4\n",
            "1 X 5 = 5\n",
            "1 X 6 = 6\n",
            "1 X 7 = 7\n",
            "1 X 8 = 8\n",
            "1 X 9 = 9\n",
            "======2단======\n",
            "2 X 1 = 2\n",
            "2 X 2 = 4\n",
            "2 X 3 = 6\n",
            "2 X 4 = 8\n",
            "2 X 5 = 10\n",
            "2 X 6 = 12\n",
            "2 X 7 = 14\n",
            "2 X 8 = 16\n",
            "2 X 9 = 18\n",
            "======3단======\n",
            "3 X 1 = 3\n",
            "3 X 2 = 6\n",
            "3 X 3 = 9\n",
            "3 X 4 = 12\n",
            "3 X 5 = 15\n",
            "3 X 6 = 18\n",
            "3 X 7 = 21\n",
            "3 X 8 = 24\n",
            "3 X 9 = 27\n"
          ]
        }
      ]
    },
    {
      "cell_type": "code",
      "source": [
        "# n부터 m까지 출력\n",
        "n = int(input('구구단을 몇단부터 시작할까요?:'))\n",
        "m = int(input('구구단을 몇단까지 출력할까요?:'))\n",
        "for i in range(n, m+1):\n",
        "  print(f'======{i}단======')\n",
        "  for j in range(1, 10):\n",
        "    print(f'{i} X {j} = {i * j}')  "
      ],
      "metadata": {
        "colab": {
          "base_uri": "https://localhost:8080/"
        },
        "id": "8ctgb1pBW4DL",
        "outputId": "cc8f0769-251b-4fbb-876a-9cf538501efd"
      },
      "execution_count": null,
      "outputs": [
        {
          "output_type": "stream",
          "name": "stdout",
          "text": [
            "구구단을 몇단부터 시작할까요?:2\n",
            "구구단을 몇단까지 출력할까요?:4\n",
            "======2단======\n",
            "2 X 1 = 2\n",
            "2 X 2 = 4\n",
            "2 X 3 = 6\n",
            "2 X 4 = 8\n",
            "2 X 5 = 10\n",
            "2 X 6 = 12\n",
            "2 X 7 = 14\n",
            "2 X 8 = 16\n",
            "2 X 9 = 18\n",
            "======3단======\n",
            "3 X 1 = 3\n",
            "3 X 2 = 6\n",
            "3 X 3 = 9\n",
            "3 X 4 = 12\n",
            "3 X 5 = 15\n",
            "3 X 6 = 18\n",
            "3 X 7 = 21\n",
            "3 X 8 = 24\n",
            "3 X 9 = 27\n",
            "======4단======\n",
            "4 X 1 = 4\n",
            "4 X 2 = 8\n",
            "4 X 3 = 12\n",
            "4 X 4 = 16\n",
            "4 X 5 = 20\n",
            "4 X 6 = 24\n",
            "4 X 7 = 28\n",
            "4 X 8 = 32\n",
            "4 X 9 = 36\n"
          ]
        }
      ]
    },
    {
      "cell_type": "code",
      "source": [
        "import nltk\n",
        "nltk.download('book', quiet=True)"
      ],
      "metadata": {
        "colab": {
          "base_uri": "https://localhost:8080/"
        },
        "id": "5Jala1p7W4Fp",
        "outputId": "97e10f63-ca11-499f-8738-ab49a1538cde"
      },
      "execution_count": null,
      "outputs": [
        {
          "output_type": "execute_result",
          "data": {
            "text/plain": [
              "True"
            ]
          },
          "metadata": {},
          "execution_count": 19
        }
      ]
    },
    {
      "cell_type": "code",
      "source": [
        "from nltk import book"
      ],
      "metadata": {
        "colab": {
          "base_uri": "https://localhost:8080/"
        },
        "id": "9irLQSAoW4N7",
        "outputId": "bfb747ea-9a4e-4159-aa0e-11c8c507ce80"
      },
      "execution_count": null,
      "outputs": [
        {
          "output_type": "stream",
          "name": "stdout",
          "text": [
            "*** Introductory Examples for the NLTK Book ***\n",
            "Loading text1, ..., text9 and sent1, ..., sent9\n",
            "Type the name of the text or sentence to view it.\n",
            "Type: 'texts()' or 'sents()' to list the materials.\n",
            "text1: Moby Dick by Herman Melville 1851\n",
            "text2: Sense and Sensibility by Jane Austen 1811\n",
            "text3: The Book of Genesis\n",
            "text4: Inaugural Address Corpus\n",
            "text5: Chat Corpus\n",
            "text6: Monty Python and the Holy Grail\n",
            "text7: Wall Street Journal\n",
            "text8: Personals Corpus\n",
            "text9: The Man Who Was Thursday by G . K . Chesterton 1908\n"
          ]
        }
      ]
    },
    {
      "cell_type": "code",
      "source": [
        "from nltk.book import *\n",
        "nltk.download('book', quiet=True)"
      ],
      "metadata": {
        "colab": {
          "base_uri": "https://localhost:8080/"
        },
        "id": "4xnNZRzzW4Qo",
        "outputId": "0045c884-c208-4248-de92-4fc53261266e"
      },
      "execution_count": null,
      "outputs": [
        {
          "output_type": "execute_result",
          "data": {
            "text/plain": [
              "True"
            ]
          },
          "metadata": {},
          "execution_count": 21
        }
      ]
    },
    {
      "cell_type": "code",
      "source": [
        "#text5에서 중복된 단어 거르고 각 단어의 길이출력\n"
      ],
      "metadata": {
        "id": "axoDFjy1W4TM"
      },
      "execution_count": null,
      "outputs": []
    },
    {
      "cell_type": "markdown",
      "source": [
        "### NLTK corpus\n",
        "- 코퍼스 + 테마\n",
        "- 종류\n",
        "  - brown\n",
        "  - gutenberg (저작권 만료된 문학작품 모아둔 코퍼스)\n",
        "  - inaugural\n",
        "- methods\n",
        "  - words() #tokens랑 같은거\n",
        "  - sents()\n",
        "  - raw()\n",
        "  - fileids() #파일이름"
      ],
      "metadata": {
        "id": "3yYJD8cgnRBd"
      }
    },
    {
      "cell_type": "code",
      "source": [
        "from nltk.corpus import gutenberg\n",
        "nltk.download(['brown','gutenberg','inaugural'])"
      ],
      "metadata": {
        "colab": {
          "base_uri": "https://localhost:8080/"
        },
        "id": "Vt-Nq28DnlqZ",
        "outputId": "1b8be94c-52c0-41fb-e31d-363020f4e9cb"
      },
      "execution_count": null,
      "outputs": [
        {
          "output_type": "stream",
          "name": "stdout",
          "text": [
            "[nltk_data] Downloading package brown to /root/nltk_data...\n",
            "[nltk_data]   Package brown is already up-to-date!\n",
            "[nltk_data] Downloading package gutenberg to /root/nltk_data...\n",
            "[nltk_data]   Package gutenberg is already up-to-date!\n",
            "[nltk_data] Downloading package inaugural to /root/nltk_data...\n",
            "[nltk_data]   Package inaugural is already up-to-date!\n"
          ]
        },
        {
          "output_type": "execute_result",
          "data": {
            "text/plain": [
              "True"
            ]
          },
          "metadata": {},
          "execution_count": 22
        }
      ]
    },
    {
      "cell_type": "code",
      "source": [
        "gutenberg.fileids()"
      ],
      "metadata": {
        "colab": {
          "base_uri": "https://localhost:8080/"
        },
        "id": "ge0kCajlnzMT",
        "outputId": "dfe84760-ca14-494c-f627-43537658867e"
      },
      "execution_count": null,
      "outputs": [
        {
          "output_type": "execute_result",
          "data": {
            "text/plain": [
              "['austen-emma.txt',\n",
              " 'austen-persuasion.txt',\n",
              " 'austen-sense.txt',\n",
              " 'bible-kjv.txt',\n",
              " 'blake-poems.txt',\n",
              " 'bryant-stories.txt',\n",
              " 'burgess-busterbrown.txt',\n",
              " 'carroll-alice.txt',\n",
              " 'chesterton-ball.txt',\n",
              " 'chesterton-brown.txt',\n",
              " 'chesterton-thursday.txt',\n",
              " 'edgeworth-parents.txt',\n",
              " 'melville-moby_dick.txt',\n",
              " 'milton-paradise.txt',\n",
              " 'shakespeare-caesar.txt',\n",
              " 'shakespeare-hamlet.txt',\n",
              " 'shakespeare-macbeth.txt',\n",
              " 'whitman-leaves.txt']"
            ]
          },
          "metadata": {},
          "execution_count": 24
        }
      ]
    },
    {
      "cell_type": "code",
      "source": [
        "gutenberg.words(fileids=['carroll-alice.txt','austen-emma.txt']) #gutenberg에서 가져오기"
      ],
      "metadata": {
        "colab": {
          "base_uri": "https://localhost:8080/"
        },
        "id": "Rl8gBAE1n4AL",
        "outputId": "7f0c7525-7ca8-4262-ce99-a168e3e95a6d"
      },
      "execution_count": null,
      "outputs": [
        {
          "output_type": "execute_result",
          "data": {
            "text/plain": [
              "['[', 'Alice', \"'\", 's', 'Adventures', 'in', ...]"
            ]
          },
          "metadata": {},
          "execution_count": 27
        }
      ]
    },
    {
      "cell_type": "code",
      "source": [
        "# 각 파일마다 word, character, sentence 개수 출력하기\n",
        "for txt in gutenberg.fileids():\n",
        "  words = len(gutenberg.words(fileids=txt))\n",
        "  sentences = len(gutenberg.sents(fileids=txt))\n",
        "  characters = len(gutenberg.raw(fileids=txt))\n",
        "  print(f'{txt} | 글자 수={words}개, 단어 수={characters}개, 문장 수={sentences}개')"
      ],
      "metadata": {
        "colab": {
          "base_uri": "https://localhost:8080/"
        },
        "id": "QKUR9BtGoCWd",
        "outputId": "a63c1053-fbfa-457d-f1e4-a61ca3e8dfa1"
      },
      "execution_count": null,
      "outputs": [
        {
          "output_type": "stream",
          "name": "stdout",
          "text": [
            "austen-emma.txt | 글자 수=192427개, 단어 수=887071개, 문장 수=7752개\n",
            "austen-persuasion.txt | 글자 수=98171개, 단어 수=466292개, 문장 수=3747개\n",
            "austen-sense.txt | 글자 수=141576개, 단어 수=673022개, 문장 수=4999개\n",
            "bible-kjv.txt | 글자 수=1010654개, 단어 수=4332554개, 문장 수=30103개\n",
            "blake-poems.txt | 글자 수=8354개, 단어 수=38153개, 문장 수=438개\n",
            "bryant-stories.txt | 글자 수=55563개, 단어 수=249439개, 문장 수=2863개\n",
            "burgess-busterbrown.txt | 글자 수=18963개, 단어 수=84663개, 문장 수=1054개\n",
            "carroll-alice.txt | 글자 수=34110개, 단어 수=144395개, 문장 수=1703개\n",
            "chesterton-ball.txt | 글자 수=96996개, 단어 수=457450개, 문장 수=4779개\n",
            "chesterton-brown.txt | 글자 수=86063개, 단어 수=406629개, 문장 수=3806개\n",
            "chesterton-thursday.txt | 글자 수=69213개, 단어 수=320525개, 문장 수=3742개\n",
            "edgeworth-parents.txt | 글자 수=210663개, 단어 수=935158개, 문장 수=10230개\n",
            "melville-moby_dick.txt | 글자 수=260819개, 단어 수=1242990개, 문장 수=10059개\n",
            "milton-paradise.txt | 글자 수=96825개, 단어 수=468220개, 문장 수=1851개\n",
            "shakespeare-caesar.txt | 글자 수=25833개, 단어 수=112310개, 문장 수=2163개\n",
            "shakespeare-hamlet.txt | 글자 수=37360개, 단어 수=162881개, 문장 수=3106개\n",
            "shakespeare-macbeth.txt | 글자 수=23140개, 단어 수=100351개, 문장 수=1907개\n",
            "whitman-leaves.txt | 글자 수=154883개, 단어 수=711215개, 문장 수=4250개\n"
          ]
        }
      ]
    },
    {
      "cell_type": "markdown",
      "source": [
        "### NLTK - Gutenberg\n",
        "- 1. shakespeare-caesar의 중복 단어를 거르고 각 단어의 길이 출력\n",
        "- 2. chesterton-thursday에서 길이가 4자 이하인 알파벳 중 ie를 포함하는 단어를 소문자로 출력,개수세기\n",
        "- 3. bryant-stories에서 ch로 끝나는 단어 출력, 중복X, 첫글자(소문자)와 끝ch만 남기고 나머지 글자 모두 -\n",
        "  - ex) much -> m-ch"
      ],
      "metadata": {
        "id": "ZNkKCiWJuV_8"
      }
    },
    {
      "cell_type": "code",
      "source": [
        "# shakespeare-caesar에서 중복단어 거르고 각 단어 길이 출력\n",
        "set([len(word) for word in gutenberg.words('shakespeare-caesar.txt')])\n"
      ],
      "metadata": {
        "colab": {
          "base_uri": "https://localhost:8080/"
        },
        "id": "7xgOO-Y5uQK3",
        "outputId": "07b5c868-e313-4839-8672-5fea885d3724"
      },
      "execution_count": null,
      "outputs": [
        {
          "output_type": "execute_result",
          "data": {
            "text/plain": [
              "{1, 2, 3, 4, 5, 6, 7, 8, 9, 10, 11, 12, 13, 15}"
            ]
          },
          "metadata": {},
          "execution_count": 44
        }
      ]
    },
    {
      "cell_type": "code",
      "source": [
        "# chesterton-thursday에서 길이가 4자 이하인 알파벳 중 ie를 포함하는 단어를 소문자로 출력, 개수세기\n",
        "# 길어서 중복은 없애봄\n",
        "words = [word.lower() for word in gutenberg.words('chesterton-thursday.txt') if (len(word) <= 4) and 'ie' in word]\n",
        "print(f'총 {len(words)}개')"
      ],
      "metadata": {
        "colab": {
          "base_uri": "https://localhost:8080/"
        },
        "id": "aWWbtd6dvoun",
        "outputId": "2ac46a72-c638-46a8-bb54-68b811f96d9a"
      },
      "execution_count": null,
      "outputs": [
        {
          "output_type": "stream",
          "name": "stdout",
          "text": [
            "총 37개\n"
          ]
        }
      ]
    },
    {
      "cell_type": "code",
      "source": [
        "#bryant-stories에서 ch로 끝나는 단어 출력, 중복X, 첫 글자랑 끝 ch만 남기고 나머지 -로\n",
        "#ch_words = set([word for word in gutenberg.words('bryant-stories.txt') if word.endswith('ch')])"
      ],
      "metadata": {
        "id": "j6yU72BGwYyr"
      },
      "execution_count": null,
      "outputs": []
    },
    {
      "cell_type": "code",
      "source": [
        "text = gutenberg.words('bryant-stories.txt')\n",
        "ch_words = set([word.lower().replace(word[1:-2], '-') for word in text if word.endswith('ch') ])\n",
        "print(ch_words)"
      ],
      "metadata": {
        "colab": {
          "base_uri": "https://localhost:8080/"
        },
        "id": "ei46PE9qxoUi",
        "outputId": "7a964c0b-f3df-447f-b7f5-42c05b7df113"
      },
      "execution_count": null,
      "outputs": [
        {
          "output_type": "stream",
          "name": "stdout",
          "text": [
            "{'b-ch', 't-ch', 'l-ch', 'f-ch', 'e-ch', 'r-ch', 'c-ch', 'w-ch', 'p-ch', 'a-ch', 'm-ch', 's-ch'}\n"
          ]
        }
      ]
    },
    {
      "cell_type": "markdown",
      "source": [
        "### Brown\n",
        "- categories() (카테고리가 있다)"
      ],
      "metadata": {
        "id": "hSqkSidB-si7"
      }
    },
    {
      "cell_type": "code",
      "source": [
        "brown = nltk.corpus.brown #brown import하기"
      ],
      "metadata": {
        "id": "Yt8TxlWn-Le4"
      },
      "execution_count": null,
      "outputs": []
    },
    {
      "cell_type": "code",
      "source": [
        "brown.categories()"
      ],
      "metadata": {
        "colab": {
          "base_uri": "https://localhost:8080/"
        },
        "id": "EKUBnzEP-4aF",
        "outputId": "a81d9ab3-b5d9-4fa0-ae41-1fd8b4f58a94"
      },
      "execution_count": null,
      "outputs": [
        {
          "output_type": "execute_result",
          "data": {
            "text/plain": [
              "['adventure',\n",
              " 'belles_lettres',\n",
              " 'editorial',\n",
              " 'fiction',\n",
              " 'government',\n",
              " 'hobbies',\n",
              " 'humor',\n",
              " 'learned',\n",
              " 'lore',\n",
              " 'mystery',\n",
              " 'news',\n",
              " 'religion',\n",
              " 'reviews',\n",
              " 'romance',\n",
              " 'science_fiction']"
            ]
          },
          "metadata": {},
          "execution_count": 71
        }
      ]
    },
    {
      "cell_type": "code",
      "source": [
        "fdist = nltk.FreqDist([w.lower() for w in brown.words(categories = 'adventure')])\n",
        "                                            #categories라고 꼭 넣어야 한다\n",
        "fdist['men']"
      ],
      "metadata": {
        "colab": {
          "base_uri": "https://localhost:8080/"
        },
        "id": "q3Gc0qTM_AGe",
        "outputId": "b11b4147-3214-429f-a472-5581d48d1ac3"
      },
      "execution_count": null,
      "outputs": [
        {
          "output_type": "execute_result",
          "data": {
            "text/plain": [
              "83"
            ]
          },
          "metadata": {},
          "execution_count": 75
        }
      ]
    },
    {
      "cell_type": "code",
      "source": [
        "#modal verbs\n",
        "modals = ['can', 'could', 'will', 'would', 'may', 'might']\n",
        "\n",
        "for verb in modals:\n",
        "  print(verb, fdist[verb])"
      ],
      "metadata": {
        "colab": {
          "base_uri": "https://localhost:8080/"
        },
        "id": "XHTeFj92B8fE",
        "outputId": "d54cabba-4ff7-47d9-f97d-afd20d994928"
      },
      "execution_count": null,
      "outputs": [
        {
          "output_type": "stream",
          "name": "stdout",
          "text": [
            "can 48\n",
            "could 154\n",
            "will 51\n",
            "would 194\n",
            "may 7\n",
            "might 59\n"
          ]
        }
      ]
    },
    {
      "cell_type": "markdown",
      "source": [
        "### conditional frequency distribution\n",
        "- 조건에 따른 fdist"
      ],
      "metadata": {
        "id": "hsCoqlVwCh_B"
      }
    },
    {
      "cell_type": "code",
      "source": [
        "cfd = nltk.ConditionalFreqDist(\n",
        "  #각 장르 별 frequency distribution만들기\n",
        "  (genre, word.lower())\n",
        "  for genre in brown.categories()\n",
        "  for word in brown.words(categories = genre)\n",
        ")"
      ],
      "metadata": {
        "id": "8AJysj5ZCfA0"
      },
      "execution_count": null,
      "outputs": []
    },
    {
      "cell_type": "code",
      "source": [
        "cfd['romance']['love']"
      ],
      "metadata": {
        "colab": {
          "base_uri": "https://localhost:8080/"
        },
        "id": "AXovUkT9C9qf",
        "outputId": "afdf09c8-1c25-4a3b-bf61-87f2b72fd3e7"
      },
      "execution_count": null,
      "outputs": [
        {
          "output_type": "execute_result",
          "data": {
            "text/plain": [
              "36"
            ]
          },
          "metadata": {},
          "execution_count": 79
        }
      ]
    },
    {
      "cell_type": "code",
      "source": [
        ""
      ],
      "metadata": {
        "id": "jHfMf57sDLFi"
      },
      "execution_count": null,
      "outputs": []
    }
  ]
}