{
 "cells": [
  {
   "cell_type": "markdown",
   "id": "949309f6",
   "metadata": {},
   "source": [
    "### 함수 II\n",
    "- 일급 객체\n",
    "- 중첩 함수\n",
    "- 익명 함수\n",
    "- 제너레이터\n",
    "- 재귀 함수"
   ]
  },
  {
   "cell_type": "markdown",
   "id": "60e9472c",
   "metadata": {},
   "source": [
    "#### 일급객체\n",
    "- first class object, first class citizen\n",
    "- (함수도 파이썬에서는 일급 객체)\n",
    "- 일급 객체의 조건\n",
    "    - 함수의 인자로 전달\n",
    "        - def fx(func):으로 인자에 func함수가 들어갈 수 있다.\n",
    "    - 함수의 반환값이 된다.\n",
    "        - return func으로 내보낼 수 있다.\n",
    "        - return func() 아니어도 된다.\n",
    "    -  수정, 할당이 된다.\n",
    "        - var = fx()"
   ]
  },
  {
   "cell_type": "code",
   "execution_count": 1,
   "id": "68a1497c",
   "metadata": {},
   "outputs": [
    {
     "name": "stdout",
     "output_type": "stream",
     "text": [
      "42\n"
     ]
    }
   ],
   "source": [
    "def answer():\n",
    "    print(42)\n",
    "    \n",
    "def run_sth(func):\n",
    "    func() # func이랑 func()이랑 구분\n",
    "    \n",
    "run_sth(answer)"
   ]
  },
  {
   "cell_type": "code",
   "execution_count": 3,
   "id": "3a69308d",
   "metadata": {},
   "outputs": [
    {
     "name": "stdout",
     "output_type": "stream",
     "text": [
      "8\n"
     ]
    }
   ],
   "source": [
    "def add_args(arg1, arg2):\n",
    "    print(arg1 + arg2)\n",
    "    \n",
    "def run_sth2(func, *arg):\n",
    "    func(*arg)\n",
    "    \n",
    "run_sth2(add_args, 3, 5)"
   ]
  },
  {
   "cell_type": "markdown",
   "id": "31d8f27c",
   "metadata": {},
   "source": [
    "#### 중첩함수\n",
    "- 일급객체 내용을 활용해서 함수 안에서 함수를 한 번 더 정의\n",
    "- 내부함수 캡슐화(외부에서 건드리지 못하게)\n",
    "    - 메모리 절약 가능\n",
    "    - 변수가 섞여서 불필요하게 충돌하는 것 방지"
   ]
  },
  {
   "cell_type": "code",
   "execution_count": 4,
   "id": "73bf10a7",
   "metadata": {},
   "outputs": [
    {
     "data": {
      "text/plain": [
       "6"
      ]
     },
     "execution_count": 4,
     "metadata": {},
     "output_type": "execute_result"
    }
   ],
   "source": [
    "def outer(a, b): # 외부함수\n",
    "    def inner(c, d): #내부함수\n",
    "        return c + d\n",
    "    return inner(a, b)\n",
    "\n",
    "outer(1, 5)\n",
    "#inner(1, 5)로 실행하면 에러\n",
    "#(내부함수) - 안에 있기 때문에 외부에서 건드리면 에러"
   ]
  },
  {
   "cell_type": "code",
   "execution_count": 5,
   "id": "54220a13",
   "metadata": {},
   "outputs": [],
   "source": [
    "def knight(saying):\n",
    "    def inner():\n",
    "        return f'We are the knights who say: {saying}'\n",
    "    return inner\n",
    "\n",
    "a = knight('Hi')\n",
    "b = knight('안녕')"
   ]
  },
  {
   "cell_type": "markdown",
   "id": "884c7860",
   "metadata": {},
   "source": [
    "- 외부함수의 인자를 \"참조\"할 수 있다.\n",
    "    - 위에 inner()에서 saying을 안받았는데 return값에 saying 썼음\n",
    "- 수정/활용은 안됨"
   ]
  },
  {
   "cell_type": "code",
   "execution_count": 7,
   "id": "c0a039c9",
   "metadata": {},
   "outputs": [
    {
     "data": {
      "text/plain": [
       "(<function __main__.knight.<locals>.inner()>,\n",
       " <function __main__.knight.<locals>.inner()>)"
      ]
     },
     "execution_count": 7,
     "metadata": {},
     "output_type": "execute_result"
    }
   ],
   "source": [
    "a, b #둘 다 function임"
   ]
  },
  {
   "cell_type": "code",
   "execution_count": 9,
   "id": "0db36f0b",
   "metadata": {},
   "outputs": [
    {
     "data": {
      "text/plain": [
       "('We are the knights who say: Hi', 'We are the knights who say: 안녕')"
      ]
     },
     "execution_count": 9,
     "metadata": {},
     "output_type": "execute_result"
    }
   ],
   "source": [
    "a(), b() #이렇게 해야 실행"
   ]
  },
  {
   "cell_type": "markdown",
   "id": "a33c7edb",
   "metadata": {},
   "source": [
    "#### 클로저 | closure\n",
    "- 조건\n",
    "    1. 중첩함수일 것\n",
    "    2. 내부함수가 외부함수의 상태값을 참조할 것\n",
    "    3. 외부함수의 return값이 내부함수일 것\n",
    "- 정의: 외부함수의 상태값을 기억하는 함수. (호출 시 사용 가능)"
   ]
  },
  {
   "cell_type": "code",
   "execution_count": 16,
   "id": "4746fc46",
   "metadata": {},
   "outputs": [],
   "source": [
    "def multiply(x): \n",
    "    def inner(y): #조건1 - 중첩함수\n",
    "        return x * y #조건2 - 외부함수 참조\n",
    "    return inner #조건3 - return 값이 내부함수"
   ]
  },
  {
   "cell_type": "code",
   "execution_count": 17,
   "id": "7e24bebf",
   "metadata": {},
   "outputs": [
    {
     "data": {
      "text/plain": [
       "(<function __main__.multiply.<locals>.inner(y)>,\n",
       " <function __main__.multiply.<locals>.inner(y)>)"
      ]
     },
     "execution_count": 17,
     "metadata": {},
     "output_type": "execute_result"
    }
   ],
   "source": [
    "m = multiply(5)\n",
    "n = multiply(6)\n",
    "\n",
    "m, n #func임"
   ]
  },
  {
   "cell_type": "code",
   "execution_count": 22,
   "id": "a15e15e8",
   "metadata": {},
   "outputs": [
    {
     "data": {
      "text/plain": [
       "(25, 120)"
      ]
     },
     "execution_count": 22,
     "metadata": {},
     "output_type": "execute_result"
    }
   ],
   "source": [
    "m(5), n(20)"
   ]
  },
  {
   "cell_type": "code",
   "execution_count": 20,
   "id": "a99f12b9",
   "metadata": {},
   "outputs": [],
   "source": [
    "del(multiply) #지웠다"
   ]
  },
  {
   "cell_type": "code",
   "execution_count": 21,
   "id": "20a3fc15",
   "metadata": {
    "scrolled": true
   },
   "outputs": [
    {
     "ename": "NameError",
     "evalue": "name 'multiply' is not defined",
     "output_type": "error",
     "traceback": [
      "\u001b[1;31m---------------------------------------------------------------------------\u001b[0m",
      "\u001b[1;31mNameError\u001b[0m                                 Traceback (most recent call last)",
      "\u001b[1;32m~\\AppData\\Local\\Temp/ipykernel_7292/330517852.py\u001b[0m in \u001b[0;36m<module>\u001b[1;34m\u001b[0m\n\u001b[1;32m----> 1\u001b[1;33m \u001b[0mmultiply\u001b[0m\u001b[1;33m\u001b[0m\u001b[1;33m\u001b[0m\u001b[0m\n\u001b[0m",
      "\u001b[1;31mNameError\u001b[0m: name 'multiply' is not defined"
     ]
    }
   ],
   "source": [
    "multiply #not defined 이지만 위에 m(5), n(20)은 여전히 작동, 그래서 효율적으로 쓸 수 있다."
   ]
  },
  {
   "cell_type": "code",
   "execution_count": 44,
   "id": "edec8077",
   "metadata": {},
   "outputs": [],
   "source": [
    "def add(a, b):\n",
    "    return a + b\n",
    "\n",
    "def square(func):\n",
    "    def inner(a, b):\n",
    "        result = func(a,b)\n",
    "        return result * result\n",
    "    return inner"
   ]
  },
  {
   "cell_type": "code",
   "execution_count": 45,
   "id": "3d2b0458",
   "metadata": {},
   "outputs": [
    {
     "data": {
      "text/plain": [
       "81"
      ]
     },
     "execution_count": 45,
     "metadata": {},
     "output_type": "execute_result"
    }
   ],
   "source": [
    "fx = square(add)\n",
    "fx(4,5)"
   ]
  },
  {
   "cell_type": "markdown",
   "id": "a283ad58",
   "metadata": {},
   "source": [
    "#### 데코레이터\n",
    "- 클로저는 데코레이터 사용 가능\n",
    "- 내가 정의한 함수를 데코레이터로"
   ]
  },
  {
   "cell_type": "code",
   "execution_count": 47,
   "id": "b51f7a6c",
   "metadata": {},
   "outputs": [
    {
     "data": {
      "text/plain": [
       "49"
      ]
     },
     "execution_count": 47,
     "metadata": {},
     "output_type": "execute_result"
    }
   ],
   "source": [
    "@square #위에 함수 참고\n",
    "def plus(a, b):\n",
    "    return a + b\n",
    "\n",
    "plus(2, 5)"
   ]
  },
  {
   "cell_type": "markdown",
   "id": "31f5fde9",
   "metadata": {},
   "source": [
    "#### scope | 범위\n",
    "- 전역: global\n",
    "- 지역: local\n",
    "- nonlocal\n",
    "- local에 이는 함수는 참조만 가능 / 활용하고싶으면 nonlocal 활용"
   ]
  },
  {
   "cell_type": "code",
   "execution_count": null,
   "id": "116812cb",
   "metadata": {},
   "outputs": [],
   "source": [
    "a = 1 #global\n",
    "def add(a, b):\n",
    "    x = 2 # local\n",
    "    return a+b"
   ]
  },
  {
   "cell_type": "code",
   "execution_count": null,
   "id": "c75ac23e",
   "metadata": {},
   "outputs": [],
   "source": [
    "def square(func):\n",
    "    #local\n",
    "    def inner(a, b):\n",
    "        result = func(a,b) #nonlocal\n",
    "        return result * result\n",
    "    return inner"
   ]
  },
  {
   "cell_type": "code",
   "execution_count": 51,
   "id": "8a468295",
   "metadata": {},
   "outputs": [],
   "source": [
    "a = 3 #global\n",
    "def outer(c): #c=9\n",
    "    b = 5 #local\n",
    "    def inner():\n",
    "        #여기까지 c=9임\n",
    "        c = 999 #nonlocal\n",
    "        return\n",
    "    return inner()\n",
    "\n",
    "outer(9)\n",
    "\n",
    "#아래처럼 함수 수정하면"
   ]
  },
  {
   "cell_type": "code",
   "execution_count": 53,
   "id": "92a90e41",
   "metadata": {},
   "outputs": [
    {
     "data": {
      "text/plain": [
       "10"
      ]
     },
     "execution_count": 53,
     "metadata": {},
     "output_type": "execute_result"
    }
   ],
   "source": [
    "a = 3 #global\n",
    "def outer(c): #c=9\n",
    "    b = 5 #local\n",
    "    def inner():\n",
    "        #여기까지 c=9임\n",
    "        nonlocal c\n",
    "        c += 1\n",
    "        return c\n",
    "    return inner()\n",
    "\n",
    "outer(9)"
   ]
  },
  {
   "cell_type": "markdown",
   "id": "2808f5fa",
   "metadata": {},
   "source": [
    "#### 실습\n",
    "- fx1: speed, limit 내 속도가 제한 속도를 위반하는지 T/F\n",
    "- fx2: 클로저. 초과할 경우 얼마나 초과하는지 프린트하는 함수\n",
    "- 실행은 데코레이터로"
   ]
  },
  {
   "cell_type": "code",
   "execution_count": 31,
   "id": "c2a2d52a",
   "metadata": {},
   "outputs": [],
   "source": [
    "def exceed_speed(func):\n",
    "    def inner(speed, limit):\n",
    "        exceed = speed - limit\n",
    "        if func(speed, limit): #True면~\n",
    "            return f'적정속도에서 {exceed}km/h 를 초과하였습니다.'\n",
    "        else:\n",
    "            return f'현재 시속 {speed}km/h로 적정속도입니다.'\n",
    "    return inner\n",
    "\n",
    "@exceed_speed\n",
    "def check_speed(speed, limit):\n",
    "    return speed > limit #True & False 반환"
   ]
  },
  {
   "cell_type": "code",
   "execution_count": 34,
   "id": "f940c953",
   "metadata": {},
   "outputs": [
    {
     "data": {
      "text/plain": [
       "'현재 시속 55km/h로 적정속도입니다.'"
      ]
     },
     "execution_count": 34,
     "metadata": {},
     "output_type": "execute_result"
    }
   ],
   "source": [
    "check_speed(55, 80)"
   ]
  },
  {
   "cell_type": "code",
   "execution_count": 35,
   "id": "33e1501d",
   "metadata": {},
   "outputs": [
    {
     "data": {
      "text/plain": [
       "'적정속도에서 120km/h 를 초과하였습니다.'"
      ]
     },
     "execution_count": 35,
     "metadata": {},
     "output_type": "execute_result"
    }
   ],
   "source": [
    "check_speed(180, 60)"
   ]
  },
  {
   "cell_type": "markdown",
   "id": "3942ba7a",
   "metadata": {},
   "source": [
    "#### 익명함수 | lambda\n",
    "- 이름이 없다. (def is_speeding(): 이런 이름)\n",
    "- def, return\n",
    "- 이름은 써도 되고, 안써도 됨\n",
    "- 재사용할 일이 없는 함수, 단순한 용도의 함수가 필요할 때 씀\n",
    "- 잦은 사용은 권하지 않음\n",
    "- 형식: lambda x: <x를 사용할 코드 정의>"
   ]
  },
  {
   "cell_type": "code",
   "execution_count": 108,
   "id": "f8e96de6",
   "metadata": {},
   "outputs": [
    {
     "data": {
      "text/plain": [
       "3"
      ]
     },
     "execution_count": 108,
     "metadata": {},
     "output_type": "execute_result"
    }
   ],
   "source": [
    "(lambda x: x+1)(2) #def로 가면 두 줄정도로 길어지니까 불편"
   ]
  },
  {
   "cell_type": "code",
   "execution_count": 109,
   "id": "064830a4",
   "metadata": {},
   "outputs": [
    {
     "data": {
      "text/plain": [
       "6"
      ]
     },
     "execution_count": 109,
     "metadata": {},
     "output_type": "execute_result"
    }
   ],
   "source": [
    "f = lambda x: x+1 #이름 만드는 경우\n",
    "\n",
    "f(5)"
   ]
  },
  {
   "cell_type": "code",
   "execution_count": 110,
   "id": "8424c1a9",
   "metadata": {},
   "outputs": [
    {
     "data": {
      "text/plain": [
       "15"
      ]
     },
     "execution_count": 110,
     "metadata": {},
     "output_type": "execute_result"
    }
   ],
   "source": [
    "f2 = lambda x, y: x * y\n",
    "\n",
    "f2(3, 5)"
   ]
  },
  {
   "cell_type": "markdown",
   "id": "a5fd1d12",
   "metadata": {},
   "source": [
    "##### 실습\n",
    "- 단어가 들어왔을 때 첫글자를 대문자로 바꾸고 단어 끝에 !를 붙이도록 lambda 만들기\n",
    "- ex) hello -> Hello!"
   ]
  },
  {
   "cell_type": "code",
   "execution_count": 36,
   "id": "52d3bcd1",
   "metadata": {},
   "outputs": [],
   "source": [
    "fx = lambda word: word.capitalize() + '!'"
   ]
  },
  {
   "cell_type": "code",
   "execution_count": 37,
   "id": "07064118",
   "metadata": {},
   "outputs": [
    {
     "data": {
      "text/plain": [
       "'Hello!'"
      ]
     },
     "execution_count": 37,
     "metadata": {},
     "output_type": "execute_result"
    }
   ],
   "source": [
    "fx('hello')"
   ]
  },
  {
   "cell_type": "markdown",
   "id": "e589026f",
   "metadata": {},
   "source": [
    "#### 제너레이터\n",
    "- return -> yield 사용\n",
    "- 시퀀스 순회 시 시퀀스를 생성하는 객체\n",
    "- 한 번 꺼내서 사용되고 사라짐 -> 메모리 효율 좋다"
   ]
  },
  {
   "cell_type": "code",
   "execution_count": 120,
   "id": "2d57e284",
   "metadata": {},
   "outputs": [
    {
     "data": {
      "text/plain": [
       "<generator object print_number at 0x00000002C50A1970>"
      ]
     },
     "execution_count": 120,
     "metadata": {},
     "output_type": "execute_result"
    }
   ],
   "source": [
    "def print_number(num):\n",
    "    for i in range(num):\n",
    "        yield i\n",
    "        \n",
    "print_number(5)"
   ]
  },
  {
   "cell_type": "code",
   "execution_count": 122,
   "id": "710c66ec",
   "metadata": {},
   "outputs": [
    {
     "name": "stdout",
     "output_type": "stream",
     "text": [
      "0\n",
      "1\n",
      "2\n",
      "3\n",
      "4\n"
     ]
    }
   ],
   "source": [
    "fx = print_number(5)\n",
    "\n",
    "for i in fx:\n",
    "    print(i)"
   ]
  },
  {
   "cell_type": "markdown",
   "id": "7a8f5e9b",
   "metadata": {},
   "source": [
    "##### 실습\n",
    "range()구현하기\n",
    "- 제너레이터 사용 (range 안쓰고 range 만들기)\n",
    "- def my_range(start, end, step):\n",
    "    yield    \n",
    "ranger = my_range(a, b, c)"
   ]
  },
  {
   "cell_type": "code",
   "execution_count": 42,
   "id": "5d52d52b",
   "metadata": {},
   "outputs": [
    {
     "name": "stdout",
     "output_type": "stream",
     "text": [
      "0\n",
      "4\n",
      "8\n",
      "12\n",
      "16\n",
      "20\n"
     ]
    }
   ],
   "source": [
    "def my_range(start, end, step = 1):\n",
    "    i = start\n",
    "    while i < end:\n",
    "        yield i\n",
    "        i += step\n",
    "        \n",
    "ranger = my_range(0, 21, 4)\n",
    "for i in ranger:\n",
    "    print(i)"
   ]
  },
  {
   "cell_type": "markdown",
   "id": "62133457",
   "metadata": {},
   "source": [
    "### 재귀함수\n",
    "- 자기 자신을 호출하는 함수\n",
    "- 너무 깊으면 예외 발생 -> 주의\n",
    "- [[1,2,3],[[[1,1]],[4,5]]  -> [1,2,3,1,1,4,5]"
   ]
  },
  {
   "cell_type": "code",
   "execution_count": 4,
   "id": "e519d092",
   "metadata": {},
   "outputs": [],
   "source": [
    "def flatten(sent):\n",
    "    for word in sent:\n",
    "        if isinstance(word, list):\n",
    "            #true\n",
    "            for sub_word in flatten(word):\n",
    "                yield sub_word\n",
    "                \n",
    "            #파이썬 3.3 부터는 위에 2줄을\n",
    "            # yield from flatten(word) 로 줄일 수 있음\n",
    "            \n",
    "        else:\n",
    "            #false\n",
    "            yield word"
   ]
  },
  {
   "cell_type": "code",
   "execution_count": 5,
   "id": "d68a5b90",
   "metadata": {},
   "outputs": [
    {
     "data": {
      "text/plain": [
       "False"
      ]
     },
     "execution_count": 5,
     "metadata": {},
     "output_type": "execute_result"
    }
   ],
   "source": [
    "isinstance('h', int)"
   ]
  },
  {
   "cell_type": "code",
   "execution_count": 6,
   "id": "e648fe27",
   "metadata": {},
   "outputs": [
    {
     "ename": "SyntaxError",
     "evalue": "invalid syntax (Temp/ipykernel_5516/1033482829.py, line 3)",
     "output_type": "error",
     "traceback": [
      "\u001b[1;36m  File \u001b[1;32m\"C:\\Users\\Yujin\\AppData\\Local\\Temp/ipykernel_5516/1033482829.py\"\u001b[1;36m, line \u001b[1;32m3\u001b[0m\n\u001b[1;33m    flatten(a)\u001b[0m\n\u001b[1;37m    ^\u001b[0m\n\u001b[1;31mSyntaxError\u001b[0m\u001b[1;31m:\u001b[0m invalid syntax\n"
     ]
    }
   ],
   "source": [
    "a = [[1,2,3],[[[1,1]],[4,5]]\n",
    "     \n",
    "flatten(a)"
   ]
  },
  {
   "cell_type": "markdown",
   "id": "285c884e",
   "metadata": {},
   "source": [
    "#### 예외처리 | exception handling\n",
    "- 목적: 프로그램 정상 종료\n",
    "- 예외발생시, 사용자에게 알리고 조치 취함\n",
    "- 소프트 랜딩\n",
    "- exception 잡는 위치가 중요함"
   ]
  },
  {
   "cell_type": "code",
   "execution_count": 58,
   "id": "150e1dd9",
   "metadata": {},
   "outputs": [
    {
     "ename": "ZeroDivisionError",
     "evalue": "division by zero",
     "output_type": "error",
     "traceback": [
      "\u001b[1;31m---------------------------------------------------------------------------\u001b[0m",
      "\u001b[1;31mZeroDivisionError\u001b[0m                         Traceback (most recent call last)",
      "\u001b[1;32m~\\AppData\\Local\\Temp/ipykernel_9912/1725448531.py\u001b[0m in \u001b[0;36m<module>\u001b[1;34m\u001b[0m\n\u001b[1;32m----> 1\u001b[1;33m \u001b[1;36m10\u001b[0m \u001b[1;33m/\u001b[0m \u001b[1;36m0\u001b[0m\u001b[1;33m\u001b[0m\u001b[1;33m\u001b[0m\u001b[0m\n\u001b[0m",
      "\u001b[1;31mZeroDivisionError\u001b[0m: division by zero"
     ]
    }
   ],
   "source": [
    "10 / 0"
   ]
  },
  {
   "cell_type": "code",
   "execution_count": 59,
   "id": "e1e07b99",
   "metadata": {},
   "outputs": [
    {
     "ename": "ValueError",
     "evalue": "invalid literal for int() with base 10: 'abcdefg'",
     "output_type": "error",
     "traceback": [
      "\u001b[1;31m---------------------------------------------------------------------------\u001b[0m",
      "\u001b[1;31mValueError\u001b[0m                                Traceback (most recent call last)",
      "\u001b[1;32m~\\AppData\\Local\\Temp/ipykernel_9912/1815894612.py\u001b[0m in \u001b[0;36m<module>\u001b[1;34m\u001b[0m\n\u001b[1;32m----> 1\u001b[1;33m \u001b[0mint\u001b[0m\u001b[1;33m(\u001b[0m\u001b[1;34m'abcdefg'\u001b[0m\u001b[1;33m)\u001b[0m\u001b[1;33m\u001b[0m\u001b[1;33m\u001b[0m\u001b[0m\n\u001b[0m",
      "\u001b[1;31mValueError\u001b[0m: invalid literal for int() with base 10: 'abcdefg'"
     ]
    }
   ],
   "source": [
    "int('abcdefg')"
   ]
  },
  {
   "cell_type": "code",
   "execution_count": 60,
   "id": "2141f7c4",
   "metadata": {
    "scrolled": true
   },
   "outputs": [
    {
     "ename": "NameError",
     "evalue": "name 'hello' is not defined",
     "output_type": "error",
     "traceback": [
      "\u001b[1;31m---------------------------------------------------------------------------\u001b[0m",
      "\u001b[1;31mNameError\u001b[0m                                 Traceback (most recent call last)",
      "\u001b[1;32m~\\AppData\\Local\\Temp/ipykernel_9912/1315523702.py\u001b[0m in \u001b[0;36m<module>\u001b[1;34m\u001b[0m\n\u001b[1;32m----> 1\u001b[1;33m \u001b[0mhello\u001b[0m \u001b[1;33m+=\u001b[0m \u001b[1;36m1\u001b[0m\u001b[1;33m\u001b[0m\u001b[1;33m\u001b[0m\u001b[0m\n\u001b[0m",
      "\u001b[1;31mNameError\u001b[0m: name 'hello' is not defined"
     ]
    }
   ],
   "source": [
    "hello += 1"
   ]
  },
  {
   "cell_type": "code",
   "execution_count": 61,
   "id": "12249d9b",
   "metadata": {},
   "outputs": [
    {
     "ename": "IndexError",
     "evalue": "string index out of range",
     "output_type": "error",
     "traceback": [
      "\u001b[1;31m---------------------------------------------------------------------------\u001b[0m",
      "\u001b[1;31mIndexError\u001b[0m                                Traceback (most recent call last)",
      "\u001b[1;32m~\\AppData\\Local\\Temp/ipykernel_9912/3634869202.py\u001b[0m in \u001b[0;36m<module>\u001b[1;34m\u001b[0m\n\u001b[1;32m----> 1\u001b[1;33m \u001b[1;34m'abcde'\u001b[0m\u001b[1;33m[\u001b[0m\u001b[1;36m10\u001b[0m\u001b[1;33m]\u001b[0m\u001b[1;33m\u001b[0m\u001b[1;33m\u001b[0m\u001b[0m\n\u001b[0m",
      "\u001b[1;31mIndexError\u001b[0m: string index out of range"
     ]
    }
   ],
   "source": [
    "'abcde'[10]"
   ]
  },
  {
   "cell_type": "code",
   "execution_count": null,
   "id": "20aecb16",
   "metadata": {},
   "outputs": [],
   "source": [
    "#형식\n",
    "try:\n",
    "    <에러 발생될 법한 코드 블럭>\n",
    "except <에러타입>:\n",
    "    <처리할 방법>"
   ]
  },
  {
   "cell_type": "code",
   "execution_count": 63,
   "id": "e90351a2",
   "metadata": {},
   "outputs": [
    {
     "name": "stdout",
     "output_type": "stream",
     "text": [
      "0으로는 나눌 수 없습니다.\n"
     ]
    }
   ],
   "source": [
    "try:\n",
    "    10/0\n",
    "    \n",
    "except ZeroDivisionError:\n",
    "    print('0으로는 나눌 수 없습니다.')"
   ]
  },
  {
   "cell_type": "code",
   "execution_count": 65,
   "id": "7cf97f2f",
   "metadata": {},
   "outputs": [
    {
     "name": "stdout",
     "output_type": "stream",
     "text": [
      "ERROR\n",
      "10.0\n",
      "5.0\n",
      "3.3333333333333335\n",
      "2.5\n",
      "2.0\n",
      "1.6666666666666667\n",
      "1.4285714285714286\n",
      "1.25\n",
      "1.1111111111111112\n"
     ]
    }
   ],
   "source": [
    "for i in range(10):\n",
    "    try:\n",
    "        print(10/i)\n",
    "    except ZeroDivisionError:\n",
    "        print('ERROR')\n",
    "        \n",
    "#중간에 에러나는 것들은 에러뜨고 나머지는 제대로 출력"
   ]
  },
  {
   "cell_type": "code",
   "execution_count": 67,
   "id": "6461ddbf",
   "metadata": {
    "scrolled": true
   },
   "outputs": [
    {
     "name": "stdout",
     "output_type": "stream",
     "text": [
      "인덱스를 입력하세요>> 1\n",
      "e\n",
      "인덱스를 입력하세요>> 8\n",
      "index error\n",
      "string index out of range\n",
      "인덱스를 입력하세요>> abc\n",
      "type error\n",
      "invalid literal for int() with base 10: 'abc'\n",
      "인덱스를 입력하세요>> q\n"
     ]
    }
   ],
   "source": [
    "word = 'hello'\n",
    "while True:\n",
    "    index = input('인덱스를 입력하세요>> ')\n",
    "    if index == 'q':\n",
    "        break\n",
    "    try:\n",
    "        print(word[int(index)])\n",
    "    except IndexError as e1: #handler\n",
    "        print('index error')\n",
    "        print(e1)\n",
    "    except ValueError as e2:\n",
    "        print('type error')\n",
    "        print(e2)"
   ]
  },
  {
   "cell_type": "markdown",
   "id": "6c324a87",
   "metadata": {},
   "source": [
    "#### 2. 예외 발생시키기\n",
    "프로그램을 강제종료시키고 싶을 때 사용\n",
    "- raise\n",
    "- assert"
   ]
  },
  {
   "cell_type": "code",
   "execution_count": null,
   "id": "ee986bae",
   "metadata": {},
   "outputs": [],
   "source": [
    "#raise 사용\n",
    "raise ValueError('print 될 내용 입력')"
   ]
  },
  {
   "cell_type": "code",
   "execution_count": 70,
   "id": "e2606941",
   "metadata": {},
   "outputs": [
    {
     "name": "stdout",
     "output_type": "stream",
     "text": [
      "number>> A\n"
     ]
    },
    {
     "ename": "ValueError",
     "evalue": "숫자가 아닙니다.",
     "output_type": "error",
     "traceback": [
      "\u001b[1;31m---------------------------------------------------------------------------\u001b[0m",
      "\u001b[1;31mValueError\u001b[0m                                Traceback (most recent call last)",
      "\u001b[1;32m~\\AppData\\Local\\Temp/ipykernel_9912/2941626252.py\u001b[0m in \u001b[0;36m<module>\u001b[1;34m\u001b[0m\n\u001b[0;32m      2\u001b[0m     \u001b[0mnum\u001b[0m \u001b[1;33m=\u001b[0m \u001b[0minput\u001b[0m\u001b[1;33m(\u001b[0m\u001b[1;34m'number>> '\u001b[0m\u001b[1;33m)\u001b[0m\u001b[1;33m\u001b[0m\u001b[1;33m\u001b[0m\u001b[0m\n\u001b[0;32m      3\u001b[0m     \u001b[1;32mif\u001b[0m \u001b[1;32mnot\u001b[0m \u001b[0mnum\u001b[0m\u001b[1;33m.\u001b[0m\u001b[0misdigit\u001b[0m\u001b[1;33m(\u001b[0m\u001b[1;33m)\u001b[0m\u001b[1;33m:\u001b[0m\u001b[1;33m\u001b[0m\u001b[1;33m\u001b[0m\u001b[0m\n\u001b[1;32m----> 4\u001b[1;33m         \u001b[1;32mraise\u001b[0m \u001b[0mValueError\u001b[0m\u001b[1;33m(\u001b[0m\u001b[1;34m'숫자가 아닙니다.'\u001b[0m\u001b[1;33m)\u001b[0m\u001b[1;33m\u001b[0m\u001b[1;33m\u001b[0m\u001b[0m\n\u001b[0m\u001b[0;32m      5\u001b[0m     \u001b[1;32melse\u001b[0m\u001b[1;33m:\u001b[0m\u001b[1;33m\u001b[0m\u001b[1;33m\u001b[0m\u001b[0m\n\u001b[0;32m      6\u001b[0m         \u001b[0mprint\u001b[0m\u001b[1;33m(\u001b[0m\u001b[0mnum\u001b[0m\u001b[1;33m)\u001b[0m\u001b[1;33m\u001b[0m\u001b[1;33m\u001b[0m\u001b[0m\n",
      "\u001b[1;31mValueError\u001b[0m: 숫자가 아닙니다."
     ]
    }
   ],
   "source": [
    "while True:\n",
    "    num = input('number>> ')\n",
    "    if not num.isdigit():\n",
    "        raise ValueError('숫자가 아닙니다.')\n",
    "    else:\n",
    "        print(num)\n",
    "        break"
   ]
  },
  {
   "cell_type": "code",
   "execution_count": null,
   "id": "44c68796",
   "metadata": {},
   "outputs": [],
   "source": [
    "#assert 사용\n",
    "assert <참인 조건>, '예외 메시지' # AssertionError"
   ]
  },
  {
   "cell_type": "code",
   "execution_count": 71,
   "id": "9898b002",
   "metadata": {},
   "outputs": [
    {
     "ename": "AssertionError",
     "evalue": "정수가 아닙니다",
     "output_type": "error",
     "traceback": [
      "\u001b[1;31m---------------------------------------------------------------------------\u001b[0m",
      "\u001b[1;31mAssertionError\u001b[0m                            Traceback (most recent call last)",
      "\u001b[1;32m~\\AppData\\Local\\Temp/ipykernel_9912/730896588.py\u001b[0m in \u001b[0;36m<module>\u001b[1;34m\u001b[0m\n\u001b[0;32m      3\u001b[0m     \u001b[1;32mreturn\u001b[0m \u001b[0mbin\u001b[0m\u001b[1;33m(\u001b[0m\u001b[0mnum\u001b[0m\u001b[1;33m)\u001b[0m\u001b[1;33m\u001b[0m\u001b[1;33m\u001b[0m\u001b[0m\n\u001b[0;32m      4\u001b[0m \u001b[1;33m\u001b[0m\u001b[0m\n\u001b[1;32m----> 5\u001b[1;33m \u001b[0mget_binary\u001b[0m\u001b[1;33m(\u001b[0m\u001b[1;34m'ee'\u001b[0m\u001b[1;33m)\u001b[0m\u001b[1;33m\u001b[0m\u001b[1;33m\u001b[0m\u001b[0m\n\u001b[0m",
      "\u001b[1;32m~\\AppData\\Local\\Temp/ipykernel_9912/730896588.py\u001b[0m in \u001b[0;36mget_binary\u001b[1;34m(num)\u001b[0m\n\u001b[0;32m      1\u001b[0m \u001b[1;32mdef\u001b[0m \u001b[0mget_binary\u001b[0m\u001b[1;33m(\u001b[0m\u001b[0mnum\u001b[0m\u001b[1;33m)\u001b[0m\u001b[1;33m:\u001b[0m\u001b[1;33m\u001b[0m\u001b[1;33m\u001b[0m\u001b[0m\n\u001b[1;32m----> 2\u001b[1;33m     \u001b[1;32massert\u001b[0m \u001b[0misinstance\u001b[0m\u001b[1;33m(\u001b[0m\u001b[0mnum\u001b[0m\u001b[1;33m,\u001b[0m \u001b[0mint\u001b[0m\u001b[1;33m)\u001b[0m\u001b[1;33m,\u001b[0m \u001b[1;34m'정수가 아닙니다'\u001b[0m \u001b[1;31m#check 기능\u001b[0m\u001b[1;33m\u001b[0m\u001b[1;33m\u001b[0m\u001b[0m\n\u001b[0m\u001b[0;32m      3\u001b[0m     \u001b[1;32mreturn\u001b[0m \u001b[0mbin\u001b[0m\u001b[1;33m(\u001b[0m\u001b[0mnum\u001b[0m\u001b[1;33m)\u001b[0m\u001b[1;33m\u001b[0m\u001b[1;33m\u001b[0m\u001b[0m\n\u001b[0;32m      4\u001b[0m \u001b[1;33m\u001b[0m\u001b[0m\n\u001b[0;32m      5\u001b[0m \u001b[0mget_binary\u001b[0m\u001b[1;33m(\u001b[0m\u001b[1;34m'ee'\u001b[0m\u001b[1;33m)\u001b[0m\u001b[1;33m\u001b[0m\u001b[1;33m\u001b[0m\u001b[0m\n",
      "\u001b[1;31mAssertionError\u001b[0m: 정수가 아닙니다"
     ]
    }
   ],
   "source": [
    "def get_binary(num):\n",
    "    assert isinstance(num, int), '정수가 아닙니다' #check 기능\n",
    "    return bin(num)\n",
    "\n",
    "get_binary('ee')"
   ]
  },
  {
   "cell_type": "markdown",
   "id": "736d5d2d",
   "metadata": {},
   "source": [
    "#### 예외 정의하기\n",
    "- 사용자 정의 예외\n",
    "- exception이라는 부모 클래스를 상속받는다."
   ]
  },
  {
   "cell_type": "code",
   "execution_count": 72,
   "id": "670ff47c",
   "metadata": {},
   "outputs": [],
   "source": [
    "class MyException(Exception):\n",
    "    pass"
   ]
  },
  {
   "cell_type": "code",
   "execution_count": 75,
   "id": "e315930a",
   "metadata": {},
   "outputs": [
    {
     "name": "stdout",
     "output_type": "stream",
     "text": [
      "a\n"
     ]
    },
    {
     "ename": "MyException",
     "evalue": "대문자는 안됩니다!",
     "output_type": "error",
     "traceback": [
      "\u001b[1;31m---------------------------------------------------------------------------\u001b[0m",
      "\u001b[1;31mMyException\u001b[0m                               Traceback (most recent call last)",
      "\u001b[1;32m~\\AppData\\Local\\Temp/ipykernel_9912/300622604.py\u001b[0m in \u001b[0;36m<module>\u001b[1;34m\u001b[0m\n\u001b[0;32m      1\u001b[0m \u001b[1;32mfor\u001b[0m \u001b[0mword\u001b[0m \u001b[1;32min\u001b[0m \u001b[1;33m[\u001b[0m\u001b[1;34m'a'\u001b[0m\u001b[1;33m,\u001b[0m \u001b[1;34m'B'\u001b[0m\u001b[1;33m,\u001b[0m \u001b[1;34m'c'\u001b[0m\u001b[1;33m]\u001b[0m\u001b[1;33m:\u001b[0m\u001b[1;33m\u001b[0m\u001b[1;33m\u001b[0m\u001b[0m\n\u001b[0;32m      2\u001b[0m     \u001b[1;32mif\u001b[0m \u001b[0mword\u001b[0m\u001b[1;33m.\u001b[0m\u001b[0misupper\u001b[0m\u001b[1;33m(\u001b[0m\u001b[1;33m)\u001b[0m\u001b[1;33m:\u001b[0m\u001b[1;33m\u001b[0m\u001b[1;33m\u001b[0m\u001b[0m\n\u001b[1;32m----> 3\u001b[1;33m         \u001b[1;32mraise\u001b[0m \u001b[0mMyException\u001b[0m\u001b[1;33m(\u001b[0m\u001b[1;34m'대문자는 안됩니다!'\u001b[0m\u001b[1;33m)\u001b[0m\u001b[1;33m\u001b[0m\u001b[1;33m\u001b[0m\u001b[0m\n\u001b[0m\u001b[0;32m      4\u001b[0m     \u001b[1;32melse\u001b[0m\u001b[1;33m:\u001b[0m\u001b[1;33m\u001b[0m\u001b[1;33m\u001b[0m\u001b[0m\n\u001b[0;32m      5\u001b[0m         \u001b[0mprint\u001b[0m\u001b[1;33m(\u001b[0m\u001b[0mword\u001b[0m\u001b[1;33m)\u001b[0m\u001b[1;33m\u001b[0m\u001b[1;33m\u001b[0m\u001b[0m\n",
      "\u001b[1;31mMyException\u001b[0m: 대문자는 안됩니다!"
     ]
    }
   ],
   "source": [
    "for word in ['a', 'B', 'c']:\n",
    "    if word.isupper():\n",
    "        raise MyException('대문자는 안됩니다!')\n",
    "    else:\n",
    "        print(word)"
   ]
  },
  {
   "cell_type": "code",
   "execution_count": 77,
   "id": "49d699c4",
   "metadata": {},
   "outputs": [
    {
     "ename": "UppercaseException",
     "evalue": "대문자는 안된다구요!",
     "output_type": "error",
     "traceback": [
      "\u001b[1;31m---------------------------------------------------------------------------\u001b[0m",
      "\u001b[1;31mUppercaseException\u001b[0m                        Traceback (most recent call last)",
      "\u001b[1;32m~\\AppData\\Local\\Temp/ipykernel_9912/1875081816.py\u001b[0m in \u001b[0;36m<module>\u001b[1;34m\u001b[0m\n\u001b[0;32m      5\u001b[0m \u001b[1;32mfor\u001b[0m \u001b[0mword\u001b[0m \u001b[1;32min\u001b[0m \u001b[1;33m[\u001b[0m\u001b[1;34m'A'\u001b[0m\u001b[1;33m,\u001b[0m \u001b[1;34m'b'\u001b[0m\u001b[1;33m,\u001b[0m \u001b[1;34m'c'\u001b[0m\u001b[1;33m]\u001b[0m\u001b[1;33m:\u001b[0m\u001b[1;33m\u001b[0m\u001b[1;33m\u001b[0m\u001b[0m\n\u001b[0;32m      6\u001b[0m     \u001b[1;32mif\u001b[0m \u001b[0mword\u001b[0m\u001b[1;33m.\u001b[0m\u001b[0misupper\u001b[0m\u001b[1;33m(\u001b[0m\u001b[1;33m)\u001b[0m\u001b[1;33m:\u001b[0m\u001b[1;33m\u001b[0m\u001b[1;33m\u001b[0m\u001b[0m\n\u001b[1;32m----> 7\u001b[1;33m         \u001b[1;32mraise\u001b[0m \u001b[0mUppercaseException\u001b[0m\u001b[1;33m\u001b[0m\u001b[1;33m\u001b[0m\u001b[0m\n\u001b[0m\u001b[0;32m      8\u001b[0m     \u001b[1;32melse\u001b[0m\u001b[1;33m:\u001b[0m\u001b[1;33m\u001b[0m\u001b[1;33m\u001b[0m\u001b[0m\n\u001b[0;32m      9\u001b[0m         \u001b[0mprint\u001b[0m\u001b[1;33m(\u001b[0m\u001b[0mword\u001b[0m\u001b[1;33m)\u001b[0m\u001b[1;33m\u001b[0m\u001b[1;33m\u001b[0m\u001b[0m\n",
      "\u001b[1;31mUppercaseException\u001b[0m: 대문자는 안된다구요!"
     ]
    }
   ],
   "source": [
    "class UppercaseException(Exception):\n",
    "    def __init__(self):\n",
    "        super().__init__('대문자는 안된다구요!')\n",
    "        \n",
    "for word in ['A', 'b', 'c']:\n",
    "    if word.isupper():\n",
    "        raise UppercaseException\n",
    "    else:\n",
    "        print(word)"
   ]
  }
 ],
 "metadata": {
  "kernelspec": {
   "display_name": "Python 3 (ipykernel)",
   "language": "python",
   "name": "python3"
  },
  "language_info": {
   "codemirror_mode": {
    "name": "ipython",
    "version": 3
   },
   "file_extension": ".py",
   "mimetype": "text/x-python",
   "name": "python",
   "nbconvert_exporter": "python",
   "pygments_lexer": "ipython3",
   "version": "3.9.7"
  }
 },
 "nbformat": 4,
 "nbformat_minor": 5
}
