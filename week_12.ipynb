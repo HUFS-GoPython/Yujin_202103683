{
 "cells": [
  {
   "cell_type": "markdown",
   "id": "768ede6e",
   "metadata": {},
   "source": [
    "### Store, Item, Customer\n",
    "1. AbCustomer -> Customer (상속)\n",
    "2. Person -> Customer(Person)"
   ]
  },
  {
   "cell_type": "code",
   "execution_count": null,
   "id": "9d367a22",
   "metadata": {},
   "outputs": [],
   "source": [
    "class Customer(Person): #is-a 관계\n",
    "    pass\n",
    "\n",
    "class Store:\n",
    "    def __init__(customer):\n",
    "        self.customer = customer #Customer타입 #has-a 관계라고함\n",
    "        self.item = item\n",
    "        self.item_list = self.item.name, self.item.price\n",
    "    \n",
    "    \n",
    "class Item:\n",
    "    name\n",
    "    cnt\n",
    "    price\n",
    "    \n",
    "    pass\n",
    "\n",
    "class Seller:\n",
    "    pass"
   ]
  },
  {
   "cell_type": "markdown",
   "id": "48e0b6c8",
   "metadata": {},
   "source": [
    "### 매직메소드\n",
    "- special method\n",
    "- __<name>__ 의 형식\n",
    "- __str__, __repr__ : string, representation"
   ]
  },
  {
   "cell_type": "code",
   "execution_count": 6,
   "id": "41159055",
   "metadata": {},
   "outputs": [],
   "source": [
    "# 원본함수\n",
    "class Customer:\n",
    "    def __init__(self, name):\n",
    "        self.name = name\n",
    "        \n",
    "c = Customer('kim')"
   ]
  },
  {
   "cell_type": "code",
   "execution_count": 7,
   "id": "299916c1",
   "metadata": {},
   "outputs": [
    {
     "data": {
      "text/plain": [
       "<__main__.Customer at 0x8c3bb99730>"
      ]
     },
     "execution_count": 7,
     "metadata": {},
     "output_type": "execute_result"
    }
   ],
   "source": [
    "c #붕어빵"
   ]
  },
  {
   "cell_type": "code",
   "execution_count": 8,
   "id": "1d583640",
   "metadata": {},
   "outputs": [
    {
     "name": "stdout",
     "output_type": "stream",
     "text": [
      "<__main__.Customer object at 0x0000008C3BB99730>\n"
     ]
    }
   ],
   "source": [
    "print(c)"
   ]
  },
  {
   "cell_type": "code",
   "execution_count": 12,
   "id": "e74399a1",
   "metadata": {},
   "outputs": [],
   "source": [
    "# c랑 print(c)한 값이랑 같은 게 맘에 안들 때 override해준다\n",
    "\n",
    "class Customer: #(object) 생략\n",
    "    def __init__(self, name):\n",
    "        self.name = name\n",
    "    \n",
    "    def __str__(self):\n",
    "        #print()로 나오는 출력값 변경하는 것   \n",
    "        return self.name\n",
    "    \n",
    "    def __repr__(self):\n",
    "        # 설정안하면 __str__이랑 동일\n",
    "        #인스턴스 출력 방식 -> 사용자가 이해하는 객체 모습 표현\n",
    "        return f'Customer({self.name})' ### Customer (객체이동)\n",
    "    \n",
    "    \n",
    "c = Customer('kim')"
   ]
  },
  {
   "cell_type": "code",
   "execution_count": 13,
   "id": "e50f488f",
   "metadata": {},
   "outputs": [
    {
     "data": {
      "text/plain": [
       "Customer(kim)"
      ]
     },
     "execution_count": 13,
     "metadata": {},
     "output_type": "execute_result"
    }
   ],
   "source": [
    "c"
   ]
  },
  {
   "cell_type": "code",
   "execution_count": 14,
   "id": "cda6f0f8",
   "metadata": {},
   "outputs": [
    {
     "name": "stdout",
     "output_type": "stream",
     "text": [
      "kim\n"
     ]
    }
   ],
   "source": [
    "print(c)"
   ]
  },
  {
   "cell_type": "code",
   "execution_count": 17,
   "id": "c9f97433",
   "metadata": {},
   "outputs": [
    {
     "data": {
      "text/plain": [
       "'Customer(kim)'"
      ]
     },
     "execution_count": 17,
     "metadata": {},
     "output_type": "execute_result"
    }
   ],
   "source": [
    "repr(c)"
   ]
  },
  {
   "cell_type": "code",
   "execution_count": 16,
   "id": "91582efe",
   "metadata": {},
   "outputs": [
    {
     "data": {
      "text/plain": [
       "'kim'"
      ]
     },
     "execution_count": 16,
     "metadata": {},
     "output_type": "execute_result"
    }
   ],
   "source": [
    "str(c)"
   ]
  },
  {
   "cell_type": "markdown",
   "id": "a186047e",
   "metadata": {},
   "source": [
    "### NamedTuple, DataClass\n",
    "- 객체를 더 단순하게 만들 수 있는 라이브러리\n",
    "- 필요성: 아이템은 메소드가 없으니까 그럴 때 단순화하고 싶을 때 사용\n",
    "\n",
    "- 객체보다 효율적임(간단한 속성만 가진 클래스일 경우 활용)\n",
    "- 딕셔너리의 키처럼 사용가능\n",
    "- 불면객체"
   ]
  },
  {
   "cell_type": "code",
   "execution_count": 18,
   "id": "55ffc79f",
   "metadata": {},
   "outputs": [
    {
     "data": {
      "text/plain": [
       "('Hur', 21)"
      ]
     },
     "execution_count": 18,
     "metadata": {},
     "output_type": "execute_result"
    }
   ],
   "source": [
    "#NamedTuple\n",
    "from collections import namedtuple\n",
    "\n",
    "Customer = namedtuple('Customer', 'name age') #변수는 공백으로 구분\n",
    "a = Customer('Hur', 21)\n",
    "a.name, a.age"
   ]
  },
  {
   "cell_type": "code",
   "execution_count": 19,
   "id": "ab4bbd6a",
   "metadata": {},
   "outputs": [
    {
     "data": {
      "text/plain": [
       "('Kim', 25)"
      ]
     },
     "execution_count": 19,
     "metadata": {},
     "output_type": "execute_result"
    }
   ],
   "source": [
    "#DataClass / 파이썬 3.7 이상에서만 가능\n",
    "from dataclasses import dataclass\n",
    "\n",
    "@dataclass\n",
    "class Customer2:\n",
    "    name: str\n",
    "    age: int\n",
    "        \n",
    "b = Customer2('Kim', 25)\n",
    "b.name, b.age\n"
   ]
  },
  {
   "cell_type": "markdown",
   "id": "e5db6239",
   "metadata": {},
   "source": [
    "### 함수 II\n",
    "- *, **\n",
    "- 일급객체\n",
    "- 내부함수, 클로저\n",
    "- 익명함수\n",
    "- 제너레이터\n",
    "- 재귀함수"
   ]
  },
  {
   "cell_type": "code",
   "execution_count": 1,
   "id": "fab40f5d",
   "metadata": {},
   "outputs": [
    {
     "name": "stdout",
     "output_type": "stream",
     "text": [
      "(1, 2, 3, 4, 5)\n"
     ]
    }
   ],
   "source": [
    "def print_arg(*args): #인자 여러 개 => 패킹\n",
    "    print(args)\n",
    "    \n",
    "print_arg(1, 2, 3, 4, 5)"
   ]
  },
  {
   "cell_type": "code",
   "execution_count": 2,
   "id": "733e277f",
   "metadata": {},
   "outputs": [
    {
     "name": "stdout",
     "output_type": "stream",
     "text": [
      "1 2\n",
      "optional\n"
     ]
    }
   ],
   "source": [
    "def print_more(num1, num2, *args):\n",
    "    print(num1, num2)\n",
    "    print(*args, 'optional')\n",
    "    \n",
    "print_more(1, 2)"
   ]
  },
  {
   "cell_type": "code",
   "execution_count": 3,
   "id": "569beb6c",
   "metadata": {},
   "outputs": [
    {
     "name": "stdout",
     "output_type": "stream",
     "text": [
      "0 1 2 3 4 5 6 7 8 9\n"
     ]
    }
   ],
   "source": [
    "empty = list(range(10))\n",
    "print(*empty)"
   ]
  },
  {
   "cell_type": "code",
   "execution_count": 5,
   "id": "ef19547f",
   "metadata": {},
   "outputs": [
    {
     "name": "stdout",
     "output_type": "stream",
     "text": [
      "(1, 3, 5)\n",
      "(2, 4, 6)\n"
     ]
    }
   ],
   "source": [
    "#행렬, 테이블 데이터\n",
    "matrix = [\n",
    "    [1, 2],\n",
    "    [3, 4],\n",
    "    [5, 6]\n",
    "]\n",
    "\n",
    "#1,3,5 / 2,4,6열만 타고 싶을때\n",
    "for item in zip(*matrix):\n",
    "    print(item)"
   ]
  },
  {
   "cell_type": "code",
   "execution_count": 7,
   "id": "ffb4b630",
   "metadata": {},
   "outputs": [
    {
     "name": "stdout",
     "output_type": "stream",
     "text": [
      "(1, 3, 5)\n",
      "(2, 4, 6)\n"
     ]
    }
   ],
   "source": [
    "for item in zip ([1,2], [3,4], [5, 6]):\n",
    "    print(item)"
   ]
  },
  {
   "cell_type": "code",
   "execution_count": 8,
   "id": "d6b7284f",
   "metadata": {},
   "outputs": [
    {
     "name": "stdout",
     "output_type": "stream",
     "text": [
      "0\n",
      "1\n",
      "2\n",
      "3\n",
      "4\n",
      "5\n"
     ]
    }
   ],
   "source": [
    "#키워드 전용 인수 선언할 때 사용\n",
    "def print_data(data, start, end):\n",
    "    for item in data[start:end]:\n",
    "        print(item)\n",
    "    \n",
    "    \n",
    "print_data(empty, start = 0 , end = 6)\n",
    "#print_data(empty, 0, 6) 이라 해도 됨"
   ]
  },
  {
   "cell_type": "code",
   "execution_count": 9,
   "id": "b57f9785",
   "metadata": {},
   "outputs": [
    {
     "name": "stdout",
     "output_type": "stream",
     "text": [
      "{'wine': 'crianza', 'drink': 'water'}\n"
     ]
    }
   ],
   "source": [
    "def print_kargs(**kargs): #딕셔너리로 반환\n",
    "    kargs['wine'] = 'crianza' #get()\n",
    "    print(kargs)\n",
    "    \n",
    "print_kargs(wine = 'crianza', drink = 'water')"
   ]
  },
  {
   "cell_type": "code",
   "execution_count": 10,
   "id": "6a701f55",
   "metadata": {},
   "outputs": [
    {
     "name": "stdout",
     "output_type": "stream",
     "text": [
      "{'wine': 'crianza', 'drink': 'water'}\n",
      "{'wine': 'crianza', 'drink': 'water'}\n",
      "{'wine': 'crianza', 'drink': 'water'}\n"
     ]
    }
   ],
   "source": [
    "for wine in ['carbernet', 'crianza', 'shiraz']:\n",
    "    print_kargs(wine = wine, drink = 'water')"
   ]
  },
  {
   "cell_type": "code",
   "execution_count": 11,
   "id": "a7c18f2c",
   "metadata": {},
   "outputs": [
    {
     "name": "stdout",
     "output_type": "stream",
     "text": [
      "1 2\n",
      "18\n",
      "{'num': 5}\n"
     ]
    }
   ],
   "source": [
    "def print_all(num1, num2, *args, **kargs):\n",
    "    print(num1, num2)\n",
    "    print(sum(args))\n",
    "    print(kargs)\n",
    "    \n",
    "print_all(1, 2, 3, 4, 5, 6, num = 5)"
   ]
  },
  {
   "cell_type": "code",
   "execution_count": 12,
   "id": "0d3041d2",
   "metadata": {},
   "outputs": [],
   "source": [
    "#딕셔너리 join\n",
    "a = {1: 'a', 2: 'b'}\n",
    "b = {2: 'c', 3: 'd'}\n",
    "c = {**a, **b}"
   ]
  },
  {
   "cell_type": "code",
   "execution_count": null,
   "id": "9f2d59b2",
   "metadata": {},
   "outputs": [],
   "source": []
  }
 ],
 "metadata": {
  "kernelspec": {
   "display_name": "Python 3 (ipykernel)",
   "language": "python",
   "name": "python3"
  },
  "language_info": {
   "codemirror_mode": {
    "name": "ipython",
    "version": 3
   },
   "file_extension": ".py",
   "mimetype": "text/x-python",
   "name": "python",
   "nbconvert_exporter": "python",
   "pygments_lexer": "ipython3",
   "version": "3.9.7"
  }
 },
 "nbformat": 4,
 "nbformat_minor": 5
}
