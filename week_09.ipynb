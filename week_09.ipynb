{
 "cells": [
  {
   "cell_type": "markdown",
   "id": "627a70bc",
   "metadata": {},
   "source": [
    "## Dictionary\n",
    "- 영어 사전처럼\n",
    "    - 단어: 뜻  형태\n",
    "    - 키 : 값\n",
    "    - 순서가 없다!!\n",
    "\n",
    "- 키로 값을 찾음(사전처럼)\n",
    "    - 키는 중복 X\n",
    "- 가변: 수정, 삭제, 추가, 가능\n",
    "- 타입: dict\n",
    "- 형변환: 'dict()'\n",
    "\n",
    "- 중괄호 사용 {}, 콤마로 구분\n",
    "    - 값에 다양한 자료구조가 올 수 있음.\n",
    "        - a: 1\n",
    "        - a: [1, 2, 3, 4] 등등"
   ]
  },
  {
   "cell_type": "code",
   "execution_count": 1,
   "id": "759f02bf",
   "metadata": {},
   "outputs": [],
   "source": [
    "#빈 dict 선언\n",
    "empty = dict()\n",
    "empty = {}\n",
    "\n",
    "#set 선언\n",
    "#empty = set()"
   ]
  },
  {
   "cell_type": "code",
   "execution_count": 2,
   "id": "5166f058",
   "metadata": {},
   "outputs": [
    {
     "data": {
      "text/plain": [
       "({1, 2, 3}, {1: 'apple', 2: 'banana', 3: 'kiwi'})"
      ]
     },
     "execution_count": 2,
     "metadata": {},
     "output_type": "execute_result"
    }
   ],
   "source": [
    "a = {1, 2, 3} #set 형태 \n",
    "b = {1:'apple', 2:'banana', 3:'kiwi'} #dict 형태\n",
    "\n",
    "a, b"
   ]
  },
  {
   "cell_type": "code",
   "execution_count": 3,
   "id": "3b155196",
   "metadata": {},
   "outputs": [
    {
     "data": {
      "text/plain": [
       "{'apple': 'a', 'banana': 'b', 'kiwi': 'c'}"
      ]
     },
     "execution_count": 3,
     "metadata": {},
     "output_type": "execute_result"
    }
   ],
   "source": [
    "b = {'':'', '':'', '':''}\n",
    "b = dict(apple = 'a', banana = 'b', kiwi = 'c')  #dict에 집어넣기\n",
    "b"
   ]
  },
  {
   "cell_type": "markdown",
   "id": "9cc14a3f",
   "metadata": {},
   "source": [
    "#### Quiz1 출석부로 만들기\n",
    "\n",
    "- 이름, 학번, 학과\n",
    "- james 202201 경제학과\n",
    "- laura 202203 스페인어과\n",
    "- louis 202202 컴공과"
   ]
  },
  {
   "cell_type": "code",
   "execution_count": 13,
   "id": "3f4147df",
   "metadata": {},
   "outputs": [
    {
     "data": {
      "text/plain": [
       "{202201: ['James', '경제학과'],\n",
       " 202203: ['laura', '스페인어과'],\n",
       " 202202: ['louis', '컴공과']}"
      ]
     },
     "execution_count": 13,
     "metadata": {},
     "output_type": "execute_result"
    }
   ],
   "source": [
    "attendance = {202201:['James', '경제학과'], 202203:['laura','스페인어과'], 202202:['louis', '컴공과']}\n",
    "\n",
    "# key는 중복안되니까 학번으로 설정(이름, 학과은 중복 가능)\n",
    "\n",
    "attendance"
   ]
  },
  {
   "cell_type": "code",
   "execution_count": 12,
   "id": "139a7a8c",
   "metadata": {},
   "outputs": [
    {
     "name": "stdout",
     "output_type": "stream",
     "text": [
      "{1: 2, 2: 3, 3: 4} {1: 3, 2: 3} {'a': 'b', 'b': 'c', 'c': 'd'}\n"
     ]
    }
   ],
   "source": [
    "# 형 변환\n",
    "ex1 = [[1,2], [2, 3], [3, 4]]\n",
    "\n",
    "ex2 = [(1, 2), (2, 3), (1, 3)]\n",
    "\n",
    "ex3 = ['ab', 'bc', 'cd']\n",
    "\n",
    "print(dict(ex1), dict(ex2), dict(ex3)) #dict로 변환된 형태 확인"
   ]
  },
  {
   "cell_type": "markdown",
   "id": "6d7c8c36",
   "metadata": {},
   "source": [
    "### dict 내 항목조회, 변경"
   ]
  },
  {
   "cell_type": "code",
   "execution_count": 15,
   "id": "c6588daf",
   "metadata": {},
   "outputs": [],
   "source": [
    "pythons = {\n",
    "    'Chapman': 'Graham',\n",
    "    'Cleese': 'John',\n",
    "    'Idle': 'Eric',\n",
    "    'Jones': 'Terry',\n",
    "    'Palin': 'Michael'\n",
    "}"
   ]
  },
  {
   "cell_type": "code",
   "execution_count": 16,
   "id": "7d47902b",
   "metadata": {},
   "outputs": [
    {
     "data": {
      "text/plain": [
       "'Eric'"
      ]
     },
     "execution_count": 16,
     "metadata": {},
     "output_type": "execute_result"
    }
   ],
   "source": [
    "pythons['Idle'] #값이 없으면 에러남"
   ]
  },
  {
   "cell_type": "code",
   "execution_count": 17,
   "id": "01d6b3de",
   "metadata": {},
   "outputs": [
    {
     "data": {
      "text/plain": [
       "False"
      ]
     },
     "execution_count": 17,
     "metadata": {},
     "output_type": "execute_result"
    }
   ],
   "source": [
    "'Hwa' in pythons #에러 안나는 방법 True나 False로만 나옴"
   ]
  },
  {
   "cell_type": "code",
   "execution_count": 19,
   "id": "2d6a5cc7",
   "metadata": {},
   "outputs": [
    {
     "data": {
      "text/plain": [
       "0"
      ]
     },
     "execution_count": 19,
     "metadata": {},
     "output_type": "execute_result"
    }
   ],
   "source": [
    "#get()\n",
    "pythons.get('Lee', 0) #없는 키는 None"
   ]
  },
  {
   "cell_type": "markdown",
   "id": "aa0f0df2",
   "metadata": {},
   "source": [
    "### 전체 조회\n",
    "- keys()\n",
    "    - 리스트로 형 변환 해줘야 함\n",
    "- values()\n",
    "- items()\n",
    "    - (키, 값) 튜플 형태 -> 순회 많이 씀"
   ]
  },
  {
   "cell_type": "code",
   "execution_count": 20,
   "id": "c0f36c87",
   "metadata": {},
   "outputs": [
    {
     "data": {
      "text/plain": [
       "['Chapman', 'Cleese', 'Idle', 'Jones', 'Palin']"
      ]
     },
     "execution_count": 20,
     "metadata": {},
     "output_type": "execute_result"
    }
   ],
   "source": [
    "list(pythons.keys()) #key찾기"
   ]
  },
  {
   "cell_type": "code",
   "execution_count": 21,
   "id": "6bc1b170",
   "metadata": {},
   "outputs": [
    {
     "data": {
      "text/plain": [
       "dict_values(['Graham', 'John', 'Eric', 'Terry', 'Michael'])"
      ]
     },
     "execution_count": 21,
     "metadata": {},
     "output_type": "execute_result"
    }
   ],
   "source": [
    "pythons.values() #value찾기"
   ]
  },
  {
   "cell_type": "code",
   "execution_count": 23,
   "id": "3fc3b40d",
   "metadata": {},
   "outputs": [
    {
     "data": {
      "text/plain": [
       "dict_items([('Chapman', 'Graham'), ('Cleese', 'John'), ('Idle', 'Eric'), ('Jones', 'Terry'), ('Palin', 'Michael')])"
      ]
     },
     "execution_count": 23,
     "metadata": {},
     "output_type": "execute_result"
    }
   ],
   "source": [
    "pythons.items() #튜플형태로 (키, 값)"
   ]
  },
  {
   "cell_type": "code",
   "execution_count": 24,
   "id": "6458b8f5",
   "metadata": {},
   "outputs": [
    {
     "name": "stdout",
     "output_type": "stream",
     "text": [
      "Chapman = Graham\n",
      "Cleese = John\n",
      "Idle = Eric\n",
      "Jones = Terry\n",
      "Palin = Michael\n"
     ]
    }
   ],
   "source": [
    "for k, v in pythons.items(): #list comprehension\n",
    "    print(f'{k} = {v}')"
   ]
  },
  {
   "cell_type": "code",
   "execution_count": 25,
   "id": "96146e83",
   "metadata": {},
   "outputs": [
    {
     "data": {
      "text/plain": [
       "[('Chapman', 'Graham'),\n",
       " ('Cleese', 'John'),\n",
       " ('Idle', 'Eric'),\n",
       " ('Jones', 'Terry'),\n",
       " ('Palin', 'Michael')]"
      ]
     },
     "execution_count": 25,
     "metadata": {},
     "output_type": "execute_result"
    }
   ],
   "source": [
    "[(k,v) for k, v in pythons.items()]"
   ]
  },
  {
   "cell_type": "code",
   "execution_count": 26,
   "id": "e0f85973",
   "metadata": {},
   "outputs": [
    {
     "data": {
      "text/plain": [
       "['Chapman', 'Cleese', 'Idle', 'Jones', 'Palin']"
      ]
     },
     "execution_count": 26,
     "metadata": {},
     "output_type": "execute_result"
    }
   ],
   "source": [
    "[k[0] for k in pythons.items()] # 0=key, 1=value"
   ]
  },
  {
   "cell_type": "code",
   "execution_count": 27,
   "id": "c21295f2",
   "metadata": {},
   "outputs": [
    {
     "data": {
      "text/plain": [
       "['Chapman', 'Cleese', 'Idle', 'Jones', 'Palin']"
      ]
     },
     "execution_count": 27,
     "metadata": {},
     "output_type": "execute_result"
    }
   ],
   "source": [
    "[k for k in pythons] # keys"
   ]
  },
  {
   "cell_type": "markdown",
   "id": "9d4ffe76",
   "metadata": {},
   "source": [
    "#### Quiz2\n",
    "- 동물 이름과 다리 개수 나오는 사전"
   ]
  },
  {
   "cell_type": "code",
   "execution_count": 34,
   "id": "ff0736be",
   "metadata": {},
   "outputs": [
    {
     "data": {
      "text/plain": [
       "{'cat': 4, 'snake': 0, 'monkey': 2, 'ant': 4, 'spider': 8}"
      ]
     },
     "execution_count": 34,
     "metadata": {},
     "output_type": "execute_result"
    }
   ],
   "source": [
    "animals = 'cat snake monkey ant spider'.split()\n",
    "legs = 4, 0, 2, 4, 8\n",
    "\n",
    "animal_dictionary = {} #빈 dict 선언\n",
    "\n",
    "for k, v in zip(animals, legs):\n",
    "    animal_dictionary[k] = v\n",
    "    \n",
    "animal_dictionary"
   ]
  },
  {
   "cell_type": "markdown",
   "id": "c78d4e0e",
   "metadata": {},
   "source": [
    "#### Quiz3\n",
    "- pythons 에서 성: 이름 \n",
    "- 성은 첫 글자만 이름은 글자개수로 이뤄진 튜플(성,이름)리스트로 반환 \n",
    "    - (dict comprehension 안쓰고)"
   ]
  },
  {
   "cell_type": "code",
   "execution_count": 66,
   "id": "7e4d88a3",
   "metadata": {},
   "outputs": [],
   "source": [
    "pythons = {\n",
    "    'Chapman': 'Graham',\n",
    "    'Cleese': 'John',\n",
    "    'Idle': 'Eric',\n",
    "    'Jones': 'Terry',\n",
    "    'Palin': 'Michael', \n",
    "    'Hwa': 'Chloe'\n",
    "}"
   ]
  },
  {
   "cell_type": "code",
   "execution_count": 67,
   "id": "7c35d585",
   "metadata": {},
   "outputs": [
    {
     "data": {
      "text/plain": [
       "[('C', 6), ('C', 4), ('I', 4), ('J', 5), ('P', 7), ('H', 5)]"
      ]
     },
     "execution_count": 67,
     "metadata": {},
     "output_type": "execute_result"
    }
   ],
   "source": [
    "#[(), ()] => items() 를 돈다는 뜻\n",
    "\n",
    "[(key[0], len(value)) for key, value in pythons.items()]\n",
    "#성 첫글자, #글자개수"
   ]
  },
  {
   "cell_type": "markdown",
   "id": "e81fbe96",
   "metadata": {},
   "source": [
    "### 값 수정, 삭제, 복제, 비교\n",
    "\n",
    "#### 추가\n",
    "- update()"
   ]
  },
  {
   "cell_type": "code",
   "execution_count": 68,
   "id": "9ca9775c",
   "metadata": {},
   "outputs": [
    {
     "data": {
      "text/plain": [
       "{'Marx': 'Groucho', 'Howard': 'Moe'}"
      ]
     },
     "execution_count": 68,
     "metadata": {},
     "output_type": "execute_result"
    }
   ],
   "source": [
    "others = {\n",
    "    'Marx': 'Groucho', \n",
    "    'Howard': 'Moe'\n",
    "}\n",
    "\n",
    "others"
   ]
  },
  {
   "cell_type": "code",
   "execution_count": 69,
   "id": "cbb4a598",
   "metadata": {},
   "outputs": [
    {
     "data": {
      "text/plain": [
       "{'Chapman': 'Graham',\n",
       " 'Cleese': 'John',\n",
       " 'Idle': 'Eric',\n",
       " 'Jones': 'Terry',\n",
       " 'Palin': 'Michael',\n",
       " 'Hwa': 'Chloe',\n",
       " 'Marx': 'Groucho',\n",
       " 'Howard': 'Moe'}"
      ]
     },
     "execution_count": 69,
     "metadata": {},
     "output_type": "execute_result"
    }
   ],
   "source": [
    "#추가 = update 함수 사용\n",
    "pythons.update(others)\n",
    "\n",
    "pythons #마지막 값 기준으로 추가"
   ]
  },
  {
   "cell_type": "code",
   "execution_count": 70,
   "id": "b9b3dd4a",
   "metadata": {
    "scrolled": true
   },
   "outputs": [
    {
     "data": {
      "text/plain": [
       "{'Marx': 'Groucho',\n",
       " 'Howard': 'Moe',\n",
       " 'Chapman': 'Graham',\n",
       " 'Cleese': 'John',\n",
       " 'Idle': 'Eric',\n",
       " 'Jones': 'Terry',\n",
       " 'Palin': 'Michael',\n",
       " 'Hwa': 'Chloe'}"
      ]
     },
     "execution_count": 70,
     "metadata": {},
     "output_type": "execute_result"
    }
   ],
   "source": [
    "#py3에서만 가능한거\n",
    "{**others, **pythons}"
   ]
  },
  {
   "cell_type": "markdown",
   "id": "745ac2f3",
   "metadata": {},
   "source": [
    "#### 삭제\n",
    "- del\n",
    "- pop()\n",
    "- clear() -> (전체삭제)"
   ]
  },
  {
   "cell_type": "code",
   "execution_count": 71,
   "id": "7c553e99",
   "metadata": {},
   "outputs": [
    {
     "data": {
      "text/plain": [
       "{'Chapman': 'Graham',\n",
       " 'Cleese': 'John',\n",
       " 'Idle': 'Eric',\n",
       " 'Jones': 'Terry',\n",
       " 'Palin': 'Michael',\n",
       " 'Marx': 'Groucho',\n",
       " 'Howard': 'Moe'}"
      ]
     },
     "execution_count": 71,
     "metadata": {},
     "output_type": "execute_result"
    }
   ],
   "source": [
    "#삭제 = del\n",
    "del pythons['Hwa']\n",
    "\n",
    "pythons"
   ]
  },
  {
   "cell_type": "code",
   "execution_count": 72,
   "id": "8b2b292d",
   "metadata": {},
   "outputs": [
    {
     "data": {
      "text/plain": [
       "'Groucho'"
      ]
     },
     "execution_count": 72,
     "metadata": {},
     "output_type": "execute_result"
    }
   ],
   "source": [
    "# pop을 쓰면 value반환하고 삭제됨\n",
    "pythons.pop('Marx')"
   ]
  },
  {
   "cell_type": "code",
   "execution_count": 73,
   "id": "29f530bf",
   "metadata": {},
   "outputs": [
    {
     "data": {
      "text/plain": [
       "0"
      ]
     },
     "execution_count": 73,
     "metadata": {},
     "output_type": "execute_result"
    }
   ],
   "source": [
    "#값이 없으면 에러지만 0을 반환하게 할 수 있음\n",
    "pythons.pop('What', 0) #없는 키는 None 변환"
   ]
  },
  {
   "cell_type": "code",
   "execution_count": 74,
   "id": "9a73557f",
   "metadata": {},
   "outputs": [],
   "source": [
    "#전체 삭제\n",
    "pythons.clear()\n",
    "\n",
    "#빈딕셔너리 선언으로도 가능\n",
    "pythons = {}"
   ]
  },
  {
   "cell_type": "code",
   "execution_count": 75,
   "id": "ebac67fe",
   "metadata": {},
   "outputs": [
    {
     "data": {
      "text/plain": [
       "{}"
      ]
     },
     "execution_count": 75,
     "metadata": {},
     "output_type": "execute_result"
    }
   ],
   "source": [
    "pythons"
   ]
  },
  {
   "cell_type": "markdown",
   "id": "e88fd625",
   "metadata": {},
   "source": [
    "#### 복제\n",
    "- 할당 b = a\n",
    "- 얕은 복사 c = a.copy()\n",
    "- 깊은 복사 deepcopy()"
   ]
  },
  {
   "cell_type": "code",
   "execution_count": 94,
   "id": "eb408340",
   "metadata": {},
   "outputs": [
    {
     "data": {
      "text/plain": [
       "({1: 45, 2: 2, 3: 3}, {1: 45, 2: 2, 3: 3})"
      ]
     },
     "execution_count": 94,
     "metadata": {},
     "output_type": "execute_result"
    }
   ],
   "source": [
    "a = {1:1, 2:2, 3:3}\n",
    "\n",
    "#할당\n",
    "b = a\n",
    "\n",
    "a[1] = 45 \n",
    "# b값도 같이 변한다는 문제생김\n",
    "# b 가변객체라서\n",
    "a, b"
   ]
  },
  {
   "cell_type": "code",
   "execution_count": 81,
   "id": "ff9cc9e2",
   "metadata": {},
   "outputs": [
    {
     "data": {
      "text/plain": [
       "({1: [100, 999, 3], 2: 22}, {1: [100, 999, 3], 2: [2, 3, 4]})"
      ]
     },
     "execution_count": 81,
     "metadata": {},
     "output_type": "execute_result"
    }
   ],
   "source": [
    "#얕은 복사 - 다른 객체 생성으로 할당 문제 해결\n",
    "c = a.copy() \n",
    "a[2] = 22\n",
    "a, c"
   ]
  },
  {
   "cell_type": "code",
   "execution_count": 82,
   "id": "b81b289e",
   "metadata": {},
   "outputs": [
    {
     "data": {
      "text/plain": [
       "({1: [100, 2, 3], 2: [2, 3, 4]}, {1: [100, 2, 3], 2: [2, 3, 4]})"
      ]
     },
     "execution_count": 82,
     "metadata": {},
     "output_type": "execute_result"
    }
   ],
   "source": [
    "a = {1:[1, 2, 3], 2:[2, 3, 4]}\n",
    "d = a.copy()\n",
    "\n",
    "a[1][0] = 100\n",
    "#얕은 복사여도 a의 형태에 따라 같은문제생김\n",
    "\n",
    "a, d"
   ]
  },
  {
   "cell_type": "code",
   "execution_count": 83,
   "id": "b23758b0",
   "metadata": {},
   "outputs": [
    {
     "data": {
      "text/plain": [
       "({1: [100, 999, 3], 2: [2, 3, 4]}, {1: [100, 2, 3], 2: [2, 3, 4]})"
      ]
     },
     "execution_count": 83,
     "metadata": {},
     "output_type": "execute_result"
    }
   ],
   "source": [
    "#그래서 깊은복사\n",
    "import copy\n",
    "e = copy.deepcopy(a)\n",
    "a[1][1] = 999 #a값만 변형됨\n",
    "a, e"
   ]
  },
  {
   "cell_type": "markdown",
   "id": "6171cc80",
   "metadata": {},
   "source": [
    "#### 비교\n",
    "- 같다, 다르다 만 가능 (True / False)\n",
    "- 딱히 비교할 일은 없음"
   ]
  },
  {
   "cell_type": "code",
   "execution_count": 85,
   "id": "530534b0",
   "metadata": {},
   "outputs": [
    {
     "data": {
      "text/plain": [
       "True"
      ]
     },
     "execution_count": 85,
     "metadata": {},
     "output_type": "execute_result"
    }
   ],
   "source": [
    "a != b"
   ]
  },
  {
   "cell_type": "markdown",
   "id": "f9f441f8",
   "metadata": {},
   "source": [
    "#### Quiz 3\n",
    "1. 두 리스트로 하나의 딕셔너리 생성\n",
    "2. 명왕성 = pluto 추가\n",
    "3. '성'으로 끝나지 않는 키 삭제 - 태양, 지구 같은거\n",
    "4. sorted 사용해서 값 정렬 (key기준, value 기준)"
   ]
  },
  {
   "cell_type": "code",
   "execution_count": 86,
   "id": "ef737c12",
   "metadata": {},
   "outputs": [],
   "source": [
    "solar_kor = '태양 수성 금성 지구 화성 목성 토성 천왕성 해왕성'.split()\n",
    "solar_eng = 'sun mercury venus earth mars jupiter saturn uranus neptune'.split()"
   ]
  },
  {
   "cell_type": "code",
   "execution_count": 90,
   "id": "b1316c04",
   "metadata": {},
   "outputs": [],
   "source": [
    "# dictionary 생성\n",
    "solars = dict([(k, v) for k, v in zip(solar_kor, solar_eng)])\n",
    "    \n",
    "# 명왕성 추가\n",
    "pluto = {'명왕성': 'pluto'} \n",
    "solars.update(pluto)\n",
    "\n",
    "# 성으로 끝나지 않는 키 삭제\n",
    "for k in list(solars.keys()):\n",
    "    if not k.endswith('성'):\n",
    "        del solars[k]"
   ]
  },
  {
   "cell_type": "code",
   "execution_count": 91,
   "id": "d250cbfa",
   "metadata": {},
   "outputs": [
    {
     "data": {
      "text/plain": [
       "{'수성': 'mercury',\n",
       " '금성': 'venus',\n",
       " '화성': 'mars',\n",
       " '목성': 'jupiter',\n",
       " '토성': 'saturn',\n",
       " '천왕성': 'uranus',\n",
       " '해왕성': 'neptune',\n",
       " '명왕성': 'pluto'}"
      ]
     },
     "execution_count": 91,
     "metadata": {},
     "output_type": "execute_result"
    }
   ],
   "source": [
    "solars"
   ]
  },
  {
   "cell_type": "code",
   "execution_count": 93,
   "id": "5c9d490f",
   "metadata": {},
   "outputs": [
    {
     "data": {
      "text/plain": [
       "{'수성': 'mercury',\n",
       " '금성': 'venus',\n",
       " '화성': 'mars',\n",
       " '목성': 'jupiter',\n",
       " '토성': 'saturn',\n",
       " '천왕성': 'uranus',\n",
       " '해왕성': 'neptune',\n",
       " '명왕성': 'pluto'}"
      ]
     },
     "execution_count": 93,
     "metadata": {},
     "output_type": "execute_result"
    }
   ],
   "source": [
    "# 답\n",
    "\n",
    "system = {}\n",
    "for k, v in zip(solar_kor, solar_eng):\n",
    "    system[k] = v\n",
    "    \n",
    "system['명왕성'] = 'pluto' #하나니까 update로 안해도 된다\n",
    "\n",
    "dict([(k, system[k]) for k in system if k.endswith('성')])"
   ]
  },
  {
   "cell_type": "markdown",
   "id": "7db389c5",
   "metadata": {},
   "source": [
    "### Dictionary comprehension\n",
    "- 리스트컴프리헨션하고 딕셔너리로 감싸면 비효율적이니까\n",
    "- 그래서 쓰는 것"
   ]
  },
  {
   "cell_type": "code",
   "execution_count": 95,
   "id": "00d497b1",
   "metadata": {},
   "outputs": [
    {
     "data": {
      "text/plain": [
       "{'a': 1, 'p': 2, 'l': 1, 'e': 1}"
      ]
     },
     "execution_count": 95,
     "metadata": {},
     "output_type": "execute_result"
    }
   ],
   "source": [
    "letter = 'apple'\n",
    "\n",
    "#a: 1, p: 2 .. 이런식으로 출력하려면\n",
    "\n",
    "{ch: letter.count(ch) for ch in letter}"
   ]
  },
  {
   "cell_type": "code",
   "execution_count": 102,
   "id": "9396bcf5",
   "metadata": {},
   "outputs": [],
   "source": [
    "#단어의 모음세기\n",
    "vowels = 'aeiou'\n",
    "word = 'onomatopoeia'"
   ]
  },
  {
   "cell_type": "code",
   "execution_count": 106,
   "id": "96fe5326",
   "metadata": {},
   "outputs": [
    {
     "data": {
      "text/plain": [
       "{'o': 4, 'e': 1, 'i': 1, 'a': 2}"
      ]
     },
     "execution_count": 106,
     "metadata": {},
     "output_type": "execute_result"
    }
   ],
   "source": [
    "#word 순회해서 결과 산출\n",
    "{w: word.count(w) for w in set(word) if w in vowels}"
   ]
  },
  {
   "cell_type": "code",
   "execution_count": 107,
   "id": "3efb5b7d",
   "metadata": {},
   "outputs": [
    {
     "data": {
      "text/plain": [
       "{'o': 4, 'e': 1, 'i': 1, 'a': 2}"
      ]
     },
     "execution_count": 107,
     "metadata": {},
     "output_type": "execute_result"
    }
   ],
   "source": [
    "#vowel 순회해서 결과 산출\n",
    "{v: word.count(v) for v in set(vowels) if v in word}"
   ]
  },
  {
   "cell_type": "markdown",
   "id": "273fc861",
   "metadata": {},
   "source": [
    "### sorting"
   ]
  },
  {
   "cell_type": "code",
   "execution_count": 108,
   "id": "6b783428",
   "metadata": {},
   "outputs": [
    {
     "data": {
      "text/plain": [
       "[('금성', 'venus'),\n",
       " ('명왕성', 'pluto'),\n",
       " ('목성', 'jupiter'),\n",
       " ('수성', 'mercury'),\n",
       " ('지구', 'earth'),\n",
       " ('천왕성', 'uranus'),\n",
       " ('태양', 'sun'),\n",
       " ('토성', 'saturn'),\n",
       " ('해왕성', 'neptune'),\n",
       " ('화성', 'mars')]"
      ]
     },
     "execution_count": 108,
     "metadata": {},
     "output_type": "execute_result"
    }
   ],
   "source": [
    "sorted(system.items()) #dict는 순서 없다는거 기억하기"
   ]
  },
  {
   "cell_type": "code",
   "execution_count": 114,
   "id": "a9332879",
   "metadata": {},
   "outputs": [
    {
     "data": {
      "text/plain": [
       "[('지구', 'earth'),\n",
       " ('목성', 'jupiter'),\n",
       " ('화성', 'mars'),\n",
       " ('수성', 'mercury'),\n",
       " ('해왕성', 'neptune'),\n",
       " ('명왕성', 'pluto'),\n",
       " ('토성', 'saturn'),\n",
       " ('태양', 'sun'),\n",
       " ('천왕성', 'uranus'),\n",
       " ('금성', 'venus')]"
      ]
     },
     "execution_count": 114,
     "metadata": {},
     "output_type": "execute_result"
    }
   ],
   "source": [
    "def fx(x):\n",
    "    return x[1]\n",
    "\n",
    "#원하는 거 기준으로 정렬\n",
    "#아래는 value영어기준\n",
    "sorted(system.items(), key=fx) \n",
    "\n",
    "#같은거\n",
    "sorted(system.items(), key=lambda x: x[1])"
   ]
  },
  {
   "cell_type": "code",
   "execution_count": 115,
   "id": "134a88e8",
   "metadata": {},
   "outputs": [
    {
     "data": {
      "text/plain": [
       "[('금성', 'venus'),\n",
       " ('명왕성', 'pluto'),\n",
       " ('목성', 'jupiter'),\n",
       " ('수성', 'mercury'),\n",
       " ('지구', 'earth'),\n",
       " ('천왕성', 'uranus'),\n",
       " ('태양', 'sun'),\n",
       " ('토성', 'saturn'),\n",
       " ('해왕성', 'neptune'),\n",
       " ('화성', 'mars')]"
      ]
     },
     "execution_count": 115,
     "metadata": {},
     "output_type": "execute_result"
    }
   ],
   "source": [
    "sorted(system.items(), key=lambda x: x[0]) #lambda는 익명함수\n",
    "                                #ㄱㄴㄷㄹ기준"
   ]
  },
  {
   "cell_type": "markdown",
   "id": "d8a190a4",
   "metadata": {},
   "source": [
    "### Set\n",
    "- '중복이 없다'\n",
    "- 집합 => 교집합, 합집합, 차집합...\n",
    "- bag이라고 생각하면됨 (순서X, 중복X, 인덱싱 X)"
   ]
  },
  {
   "cell_type": "code",
   "execution_count": 116,
   "id": "bc6bf0f4",
   "metadata": {},
   "outputs": [
    {
     "data": {
      "text/plain": [
       "(set(), {1, 2, 3})"
      ]
     },
     "execution_count": 116,
     "metadata": {},
     "output_type": "execute_result"
    }
   ],
   "source": [
    "empty = set()\n",
    "a = {1, 2, 3}\n",
    "\n",
    "empty, a"
   ]
  },
  {
   "cell_type": "code",
   "execution_count": 117,
   "id": "aa53a384",
   "metadata": {},
   "outputs": [
    {
     "data": {
      "text/plain": [
       "{1, 2, 3}"
      ]
     },
     "execution_count": 117,
     "metadata": {},
     "output_type": "execute_result"
    }
   ],
   "source": [
    "a = set((1, 2, 3)) #선언, 형 변환\n",
    "a # 중복없다는 거 기억"
   ]
  },
  {
   "cell_type": "code",
   "execution_count": 118,
   "id": "e3d8da62",
   "metadata": {},
   "outputs": [
    {
     "data": {
      "text/plain": [
       "{1, 2, 3, 4}"
      ]
     },
     "execution_count": 118,
     "metadata": {},
     "output_type": "execute_result"
    }
   ],
   "source": [
    "#추가\n",
    "a.add(4)\n",
    "a"
   ]
  },
  {
   "cell_type": "code",
   "execution_count": 119,
   "id": "8a316272",
   "metadata": {
    "scrolled": true
   },
   "outputs": [
    {
     "data": {
      "text/plain": [
       "{1, 2, 3}"
      ]
     },
     "execution_count": 119,
     "metadata": {},
     "output_type": "execute_result"
    }
   ],
   "source": [
    "#삭제\n",
    "a.remove(4)\n",
    "a"
   ]
  },
  {
   "cell_type": "markdown",
   "id": "907bef96",
   "metadata": {},
   "source": [
    "#### Quiz 4\n",
    "- vodka가 포함된 술 출력\n",
    "- vodka는 있는데 cream, vermouth는 없는 술 출력"
   ]
  },
  {
   "cell_type": "code",
   "execution_count": 120,
   "id": "8c1258be",
   "metadata": {},
   "outputs": [],
   "source": [
    "drinks = {\n",
    "    'martini':{'vodka', 'vermouth'},\n",
    "    'black russian':{'vodka', 'kahlua'},\n",
    "    'white russian':{'cream', 'kahlua', 'vodka'},\n",
    "    'manhattan':{'rye','vermouth','bitters'},\n",
    "    'screwdriver':{'orange juice','vodka'}\n",
    "}"
   ]
  },
  {
   "cell_type": "code",
   "execution_count": 121,
   "id": "31567246",
   "metadata": {},
   "outputs": [
    {
     "name": "stdout",
     "output_type": "stream",
     "text": [
      "martini\n",
      "black russian\n",
      "white russian\n",
      "screwdriver\n"
     ]
    }
   ],
   "source": [
    "#vodka포함된 술\n",
    "for k, v in drinks.items():\n",
    "    if 'vodka' in v:\n",
    "        print(k)"
   ]
  },
  {
   "cell_type": "code",
   "execution_count": 125,
   "id": "943cea60",
   "metadata": {},
   "outputs": [
    {
     "name": "stdout",
     "output_type": "stream",
     "text": [
      "black russian\n",
      "screwdriver\n"
     ]
    }
   ],
   "source": [
    "#vodka는 있고 cream, vermouth는 없는 술\n",
    "for k, v in drinks.items():\n",
    "    if ('vodka' in v) and not('cream' in v or 'vermouth' in v):\n",
    "        print (k)"
   ]
  },
  {
   "cell_type": "markdown",
   "id": "e4fce9bc",
   "metadata": {},
   "source": [
    "### set 활용\n",
    "- 교집합 | intersection, &\n",
    "- 합집합 | union, |\n",
    "- 차집합 | difference, -"
   ]
  },
  {
   "cell_type": "code",
   "execution_count": 127,
   "id": "2aa49f15",
   "metadata": {},
   "outputs": [
    {
     "name": "stdout",
     "output_type": "stream",
     "text": [
      "{2, 3}\n",
      "{2, 3}\n",
      "\n",
      "{1, 2, 3, 4}\n",
      "{1, 2, 3, 4}\n",
      "\n",
      "{1}\n",
      "{4}\n",
      "{1} {4}\n"
     ]
    }
   ],
   "source": [
    "a = {1, 2, 3}\n",
    "b = {2, 3, 4}\n",
    "\n",
    "# 교집합\n",
    "print(a.intersection(b))\n",
    "print(a & b)\n",
    "print()\n",
    "\n",
    "# 합집합\n",
    "print(a.union(b))\n",
    "print(a | b)\n",
    "print()\n",
    "\n",
    "# 차집합\n",
    "print(a.difference(b))\n",
    "print(b.difference(a))\n",
    "print(a - b, b - a)"
   ]
  },
  {
   "cell_type": "code",
   "execution_count": 128,
   "id": "05952a5b",
   "metadata": {},
   "outputs": [
    {
     "name": "stdout",
     "output_type": "stream",
     "text": [
      "black russian\n",
      "screwdriver\n"
     ]
    }
   ],
   "source": [
    "# Quiz4를 set을 활용해서 바꾸기\n",
    "\n",
    "\"\"\"for k, v in drinks.items():\n",
    "    if ('vodka' in v) and not('cream' in v or 'vermouth' in v):\n",
    "        print (k)\"\"\"\n",
    "\n",
    "for k, v in drinks.items():\n",
    "    if 'vodka' in v and not v & {'cream', 'vermouth'}:\n",
    "        print (k)"
   ]
  },
  {
   "cell_type": "code",
   "execution_count": 129,
   "id": "efa019a0",
   "metadata": {},
   "outputs": [
    {
     "data": {
      "text/plain": [
       "{0, 1, 2, 3, 4}"
      ]
     },
     "execution_count": 129,
     "metadata": {},
     "output_type": "execute_result"
    }
   ],
   "source": [
    "#set comprehension\n",
    "{s for s in range(5)}"
   ]
  },
  {
   "cell_type": "code",
   "execution_count": 131,
   "id": "b3626900",
   "metadata": {},
   "outputs": [
    {
     "data": {
      "text/plain": [
       "frozenset({1, 2})"
      ]
     },
     "execution_count": 131,
     "metadata": {},
     "output_type": "execute_result"
    }
   ],
   "source": [
    "#frozenset - 가변객체를 불면객체로 만드는 것\n",
    "#쓸 일은 많이 없다\n",
    "set([1, 2])\n",
    "frozenset([1, 2])"
   ]
  },
  {
   "cell_type": "markdown",
   "id": "0cbcbdb6",
   "metadata": {},
   "source": [
    "### team project 관련\n",
    "- 팀별로 task 해결\n",
    "- 초반 30분동안 랜덤으로 코드설명\n",
    "    - 이해못했다고 판단되면 0점\n",
    "    - 코드는 같이, 발표는 개별\n",
    "    - 주어진 문제, 어떤 점으로 코드를 짰는지, 해결안된부분 등등\n",
    "- 수요일 자정까지\n",
    "- 구글링 X"
   ]
  },
  {
   "cell_type": "code",
   "execution_count": null,
   "id": "96772b14",
   "metadata": {},
   "outputs": [],
   "source": [
    "### 디버깅\n",
    "\n",
    "# pylint 설치\n",
    "# 코드 오류랑 점수가 나옴\n",
    "!pip install pylint\n",
    "!pylint example.py\n",
    "\n",
    "\n",
    "### 독스트링\n",
    "# pydocstyle 설치\n",
    "# 몇 번째 줄이 잘못 되었는지 나옴\n",
    "\n",
    "!pip install pydocstyle\n",
    "!pydocstyle example.py"
   ]
  }
 ],
 "metadata": {
  "kernelspec": {
   "display_name": "Python 3 (ipykernel)",
   "language": "python",
   "name": "python3"
  },
  "language_info": {
   "codemirror_mode": {
    "name": "ipython",
    "version": 3
   },
   "file_extension": ".py",
   "mimetype": "text/x-python",
   "name": "python",
   "nbconvert_exporter": "python",
   "pygments_lexer": "ipython3",
   "version": "3.9.7"
  }
 },
 "nbformat": 4,
 "nbformat_minor": 5
}
