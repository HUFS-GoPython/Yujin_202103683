{
 "cells": [
  {
   "cell_type": "markdown",
   "id": "7725ec65",
   "metadata": {},
   "source": [
    "### 10. 객체와 클래스\n",
    "- 객체: object\n",
    "    - 객체지향 프로그래밍\n",
    "    - 속성과 행동을 가지는 개념  (때에 따라 없어도 됨)\n",
    "        - 실존하거나 눈에 보이지 않아도 됨. 개념일수도, 물체일수도 있다\n",
    "        - 속성이 있어야 함\n",
    "        - 행동을 해야 함\n",
    "        \n",
    "        - ex) 자동차, 강아지, 꽃, ..thing\n",
    "             - 속성: 브랜드, 색, 속도, 모델/ 이름, 종, 색, 몸무게 => 변수\n",
    "             - 행동: 가다, 서다, 회전, 주차/ 뛰다, 짖다, 자다, 핥다 => 메소드(함수)"
   ]
  },
  {
   "cell_type": "markdown",
   "id": "7e965907",
   "metadata": {},
   "source": [
    "#### 예시\n",
    "- 편의점-> '고객이 편의점에서 과자를 샀다'\n",
    "    - 객체: 고객(사람), 편의점, 과자(물건)\n",
    "    - 고객 -> 이름, 돈 / 물건 사다, 돈을 내다\n",
    "    - 편의점 -> 이름, 재고, 수익 / 팔다, 수익을 남기다, 물건 등록\n",
    "    - 물건 -> 이름, 브랜드, 가격 / 행동 X\n",
    "    \n",
    "\n",
    "- (내가 원하는 속성만 사용)   \n",
    "    => 상호작용으로 코드를 짜는 것"
   ]
  },
  {
   "cell_type": "markdown",
   "id": "83d6961f",
   "metadata": {},
   "source": [
    "#### class\n",
    "- 첫글자 대문자\n",
    "- nice car -> Nice_car(x) / NiceCar (o)\n",
    "\n",
    "- 정의부, 선언부가 있다\n",
    "    - 정의부: 붕어빵 틀\n",
    "    - 선언부: 붕어빵"
   ]
  },
  {
   "cell_type": "code",
   "execution_count": 1,
   "id": "348edb67",
   "metadata": {},
   "outputs": [
    {
     "data": {
      "text/plain": [
       "<__main__.Car at 0xfde6166a00>"
      ]
     },
     "execution_count": 1,
     "metadata": {},
     "output_type": "execute_result"
    }
   ],
   "source": [
    "#정의부\n",
    "class Car: #객체 class 명이 car\n",
    "    pass\n",
    "\n",
    "#선언부\n",
    "Car()\n",
    "\n",
    "#car라는 객체가 메모리에 저장되었다고 뜬 것"
   ]
  },
  {
   "cell_type": "code",
   "execution_count": 2,
   "id": "0cee86dc",
   "metadata": {},
   "outputs": [
    {
     "data": {
      "text/plain": [
       "<__main__.Car at 0xfde6174f70>"
      ]
     },
     "execution_count": 2,
     "metadata": {},
     "output_type": "execute_result"
    }
   ],
   "source": [
    "my_car = Car()\n",
    "\n",
    "my_car #instance 라고 함"
   ]
  },
  {
   "cell_type": "code",
   "execution_count": 3,
   "id": "db9ef990",
   "metadata": {},
   "outputs": [
    {
     "data": {
      "text/plain": [
       "'bmw'"
      ]
     },
     "execution_count": 3,
     "metadata": {},
     "output_type": "execute_result"
    }
   ],
   "source": [
    "my_car.name = 'bmw'\n",
    "my_car.color = 'white'\n",
    "my_car.name"
   ]
  },
  {
   "cell_type": "code",
   "execution_count": 4,
   "id": "443c6e0d",
   "metadata": {},
   "outputs": [],
   "source": [
    "class Car:\n",
    "    name = 'BMW'"
   ]
  },
  {
   "cell_type": "code",
   "execution_count": 5,
   "id": "220ac0b7",
   "metadata": {},
   "outputs": [
    {
     "data": {
      "text/plain": [
       "'BMW'"
      ]
     },
     "execution_count": 5,
     "metadata": {},
     "output_type": "execute_result"
    }
   ],
   "source": [
    "your_car = Car()\n",
    "\n",
    "your_car.name"
   ]
  },
  {
   "cell_type": "code",
   "execution_count": 6,
   "id": "26e5146b",
   "metadata": {},
   "outputs": [
    {
     "data": {
      "text/plain": [
       "'Benz'"
      ]
     },
     "execution_count": 6,
     "metadata": {},
     "output_type": "execute_result"
    }
   ],
   "source": [
    "your_car.name = 'Benz' #변경가능\n",
    "\n",
    "your_car.name"
   ]
  },
  {
   "cell_type": "code",
   "execution_count": 7,
   "id": "a43d0ddb",
   "metadata": {},
   "outputs": [],
   "source": [
    "#2. 더 customizing 하고싶을때\n",
    "\n",
    "class Car:\n",
    "    def __init__(self, name): #속성 초기화 함수\n",
    "        #객체 만들 때 들어가는 값으로 이름을 설정하고 싶을때\n",
    "        self.name = name\n",
    "        \n",
    "        # self == instance(붕어빵) 나 자신(instance 자신)"
   ]
  },
  {
   "cell_type": "code",
   "execution_count": 8,
   "id": "2ff02c41",
   "metadata": {},
   "outputs": [
    {
     "data": {
      "text/plain": [
       "'Kia'"
      ]
     },
     "execution_count": 8,
     "metadata": {},
     "output_type": "execute_result"
    }
   ],
   "source": [
    "her_car = Car('Kia')\n",
    "\n",
    "her_car.name"
   ]
  },
  {
   "cell_type": "code",
   "execution_count": 9,
   "id": "dc8de052",
   "metadata": {},
   "outputs": [
    {
     "data": {
      "text/plain": [
       "'Hyundai'"
      ]
     },
     "execution_count": 9,
     "metadata": {},
     "output_type": "execute_result"
    }
   ],
   "source": [
    "car2 = Car('Hyundai')\n",
    "\n",
    "car2.name"
   ]
  },
  {
   "cell_type": "code",
   "execution_count": 10,
   "id": "2f5e76e5",
   "metadata": {},
   "outputs": [
    {
     "name": "stdout",
     "output_type": "stream",
     "text": [
      "Kia SM6 black\n"
     ]
    }
   ],
   "source": [
    "#모델, 색 추가\n",
    "class Car:\n",
    "    def __init__(self, name, model, color):\n",
    "        self.name = name\n",
    "        self.color = color\n",
    "        self.model = model\n",
    "        \n",
    "his_car = Car('Kia', 'SM6', 'black')\n",
    "print(his_car.name, his_car.model, his_car.color)"
   ]
  },
  {
   "cell_type": "code",
   "execution_count": 11,
   "id": "e397978f",
   "metadata": {},
   "outputs": [],
   "source": [
    "class Car:\n",
    "\n",
    "    def __init__(self, name, model, color):\n",
    "    #class에서는 self로 주장해줘야함\n",
    "\n",
    "        self.name = name\n",
    "\n",
    "        self.color = color\n",
    "\n",
    "        self.model = model \n",
    "\n",
    "  \n",
    "\n",
    "    #행동만들기\n",
    "    \n",
    "    #운전하는 행동\n",
    "    def drive(self):\n",
    "\n",
    "        # '{브랜드이름}이 갑니다'\n",
    "        print(f'{self.name}가 움직입니다')\n",
    "      \n",
    "    # 정지하는 행동\n",
    "    def stop(self):\n",
    "        print('차가 멈춥니다')\n",
    "\n",
    "        \n",
    "    # 색상 gray로 바꾸기\n",
    "    def change_color(self):\n",
    "\n",
    "        self.color = 'gray'\n",
    "        print(self.color)\n",
    "\n",
    "    \n",
    "\n",
    " \n",
    "\n",
    "    #gray말고 새로운 color받아서 지정하기\n",
    "    def change_color2(self, new_color):\n",
    "\n",
    "        self.color = new_color\n",
    "\n",
    "    \n",
    "\n",
    "    #color 값이 들어오면 그 값으로 설정, 아니면 'black'으로 설정 ( 디폴트값 사용 )\n",
    "    def change_color3(self, new_color = 'black') :\n",
    "          self.color = new_color\n",
    "\n",
    "    # 아니면 아예 def __init__ 에서 color를 블랙으로 지정해줘도 됨"
   ]
  },
  {
   "cell_type": "code",
   "execution_count": 12,
   "id": "fb876969",
   "metadata": {},
   "outputs": [
    {
     "name": "stdout",
     "output_type": "stream",
     "text": [
      "Kia가 움직입니다\n",
      "차가 멈춥니다\n"
     ]
    }
   ],
   "source": [
    "his_car = Car('Kia', 'SM6', 'black')\n",
    "his_car.drive()\n",
    "his_car.stop()"
   ]
  },
  {
   "cell_type": "code",
   "execution_count": 14,
   "id": "f73a0082",
   "metadata": {},
   "outputs": [
    {
     "name": "stdout",
     "output_type": "stream",
     "text": [
      "gray\n"
     ]
    }
   ],
   "source": [
    "his_car.change_color()"
   ]
  },
  {
   "cell_type": "code",
   "execution_count": 15,
   "id": "97357a52",
   "metadata": {},
   "outputs": [],
   "source": [
    "#값을 받을 때 모델을 안 넣어도 되게 설정하기\n",
    "\n",
    "class Car:\n",
    "     def __init__(self, name, color, model = None): # None = 없다는 뜻이니까\n",
    "\n",
    "        self.name = name\n",
    "\n",
    "        self.color = color\n",
    "\n",
    "        self.model = model"
   ]
  },
  {
   "cell_type": "markdown",
   "id": "ccfacefd",
   "metadata": {},
   "source": [
    "### 캡슐화, 정보 은닉\n",
    "\n",
    "- public -> private (자바)\n",
    "- getter, setter"
   ]
  },
  {
   "cell_type": "code",
   "execution_count": 16,
   "id": "be0c1ad1",
   "metadata": {},
   "outputs": [
    {
     "data": {
      "text/plain": [
       "'red'"
      ]
     },
     "execution_count": 16,
     "metadata": {},
     "output_type": "execute_result"
    }
   ],
   "source": [
    "class Fruit:\n",
    "    color = 'red'\n",
    "    \n",
    "kiwi = Fruit()\n",
    "kiwi.color"
   ]
  },
  {
   "cell_type": "code",
   "execution_count": 17,
   "id": "315631bf",
   "metadata": {},
   "outputs": [],
   "source": [
    "Fruit.color = 'black'"
   ]
  },
  {
   "cell_type": "code",
   "execution_count": 18,
   "id": "4a186c1d",
   "metadata": {},
   "outputs": [
    {
     "data": {
      "text/plain": [
       "'black'"
      ]
     },
     "execution_count": 18,
     "metadata": {},
     "output_type": "execute_result"
    }
   ],
   "source": [
    "apple = Fruit()\n",
    "apple.color #이게 문제. class 틀을 만들었는데 밖에서 쉽게 변환됨"
   ]
  },
  {
   "cell_type": "markdown",
   "id": "fc74edfc",
   "metadata": {},
   "source": [
    "#### getter, setter\n",
    "- getter : 클래스 내 객체 변수 반환\n",
    "- setter : 클래스 내 객체 변수 설정"
   ]
  },
  {
   "cell_type": "code",
   "execution_count": 19,
   "id": "272a3ecf",
   "metadata": {},
   "outputs": [],
   "source": [
    "class Car:\n",
    "    def __init__(self, input_name):\n",
    "        self.name = input_name\n",
    "        \n",
    "    def get_name(self):\n",
    "        #변수 반환\n",
    "        return self.name\n",
    "    \n",
    "    def set_name(self, input_name):\n",
    "        #설정이니까 return없음\n",
    "        self.name = input_name"
   ]
  },
  {
   "cell_type": "code",
   "execution_count": 20,
   "id": "86341acb",
   "metadata": {},
   "outputs": [],
   "source": [
    "c = Car('name1')"
   ]
  },
  {
   "cell_type": "code",
   "execution_count": 21,
   "id": "8b72b18f",
   "metadata": {},
   "outputs": [
    {
     "data": {
      "text/plain": [
       "'name1'"
      ]
     },
     "execution_count": 21,
     "metadata": {},
     "output_type": "execute_result"
    }
   ],
   "source": [
    "c.get_name()"
   ]
  },
  {
   "cell_type": "code",
   "execution_count": 22,
   "id": "23482679",
   "metadata": {},
   "outputs": [
    {
     "data": {
      "text/plain": [
       "'name2'"
      ]
     },
     "execution_count": 22,
     "metadata": {},
     "output_type": "execute_result"
    }
   ],
   "source": [
    "c.set_name('name2')\n",
    "c.get_name()"
   ]
  },
  {
   "cell_type": "code",
   "execution_count": 23,
   "id": "e9ea5cf4",
   "metadata": {},
   "outputs": [
    {
     "data": {
      "text/plain": [
       "'name3'"
      ]
     },
     "execution_count": 23,
     "metadata": {},
     "output_type": "execute_result"
    }
   ],
   "source": [
    "c.name = 'name3'\n",
    "c.name"
   ]
  },
  {
   "cell_type": "markdown",
   "id": "9c2f1491",
   "metadata": {},
   "source": [
    "#### 2. 좀 더 파이썬 같은 방법"
   ]
  },
  {
   "cell_type": "code",
   "execution_count": 24,
   "id": "b45f87df",
   "metadata": {},
   "outputs": [],
   "source": [
    "class Car:\n",
    "    def __init__(self, input_name):\n",
    "        self.name = input_name\n",
    "        \n",
    "    def get_name(self):\n",
    "        return self.hidden_name\n",
    "    \n",
    "    def set_name(self, input_name):\n",
    "        self.hidden_name = input_name\n",
    "    \n",
    "    name = property(get_name, set_name)"
   ]
  },
  {
   "cell_type": "code",
   "execution_count": 25,
   "id": "7b247516",
   "metadata": {},
   "outputs": [
    {
     "data": {
      "text/plain": [
       "'name_1'"
      ]
     },
     "execution_count": 25,
     "metadata": {},
     "output_type": "execute_result"
    }
   ],
   "source": [
    "d = Car('name_1')\n",
    "d.name"
   ]
  },
  {
   "cell_type": "markdown",
   "id": "a29e1fc9",
   "metadata": {},
   "source": [
    "#### 3. decorater를 사용하는 방법"
   ]
  },
  {
   "cell_type": "code",
   "execution_count": 27,
   "id": "2c59234d",
   "metadata": {},
   "outputs": [],
   "source": [
    "class Car:\n",
    "    def __init__(self, input_name):\n",
    "        self.hidden_name = input_name\n",
    "    \n",
    "    #decorator\n",
    "    @property    \n",
    "    def name(self):\n",
    "        return self.hidden_name\n",
    "    \n",
    "    @name.setter\n",
    "    def set_name(self, input_name):\n",
    "        self.hidden_name = input_name"
   ]
  },
  {
   "cell_type": "code",
   "execution_count": 28,
   "id": "6632b2cf",
   "metadata": {},
   "outputs": [
    {
     "data": {
      "text/plain": [
       "'name_A'"
      ]
     },
     "execution_count": 28,
     "metadata": {},
     "output_type": "execute_result"
    }
   ],
   "source": [
    "e = Car('name_A')\n",
    "e.name"
   ]
  },
  {
   "cell_type": "code",
   "execution_count": 29,
   "id": "70c2f4d7",
   "metadata": {},
   "outputs": [
    {
     "data": {
      "text/plain": [
       "'name_A'"
      ]
     },
     "execution_count": 29,
     "metadata": {},
     "output_type": "execute_result"
    }
   ],
   "source": [
    "e.hidden_name"
   ]
  },
  {
   "cell_type": "markdown",
   "id": "175ec3da",
   "metadata": {},
   "source": [
    "#### 4. 마지막 방법"
   ]
  },
  {
   "cell_type": "code",
   "execution_count": 32,
   "id": "8a324c29",
   "metadata": {},
   "outputs": [],
   "source": [
    "class Car:\n",
    "    def __init__(self, input_name):\n",
    "        self.__name = input_name\n",
    "    \n",
    "    #decorator\n",
    "    @property    \n",
    "    def name(self):\n",
    "        return self.__name\n",
    "    \n",
    "    @name.setter\n",
    "    def set_name(self, input_name):\n",
    "        self.__name = input_name"
   ]
  },
  {
   "cell_type": "code",
   "execution_count": null,
   "id": "38ba93c4",
   "metadata": {},
   "outputs": [],
   "source": [
    "f = Car('name B')\n",
    "f.__name\n",
    "\n",
    "# 변수명 앞에 언더바 쓰면 안되는 이유 - error"
   ]
  },
  {
   "cell_type": "code",
   "execution_count": 34,
   "id": "7c001a6e",
   "metadata": {},
   "outputs": [
    {
     "data": {
      "text/plain": [
       "10"
      ]
     },
     "execution_count": 34,
     "metadata": {},
     "output_type": "execute_result"
    }
   ],
   "source": [
    "class Circle:\n",
    "    def __init__(self, radius):\n",
    "        self.radius = radius\n",
    "    \n",
    "    @property\n",
    "    def parameter(self):\n",
    "        return self.radius * 2\n",
    "    \n",
    "ex = Circle(5)\n",
    "ex.parameter"
   ]
  },
  {
   "cell_type": "code",
   "execution_count": 35,
   "id": "fdab5216",
   "metadata": {},
   "outputs": [
    {
     "data": {
      "text/plain": [
       "38"
      ]
     },
     "execution_count": 35,
     "metadata": {},
     "output_type": "execute_result"
    }
   ],
   "source": [
    "ex.radius = 19\n",
    "ex.parameter"
   ]
  },
  {
   "cell_type": "markdown",
   "id": "8d4e0a26",
   "metadata": {},
   "source": [
    "#### 메모장 만들어보기\n",
    "- 메모장, 메모 구현하기\n",
    "- 메모장\n",
    "    - 속성: 제목, 페이지 번호, 메모\n",
    "    - 행동: 메모를 추가하다, 삭제하다, 페이지 번호를 확인하다\n",
    "- 메모\n",
    "    - 속성: 글귀\n",
    "    - 행동: 쓰다, 지우다\n",
    "    \n",
    "- 행동:\n",
    "    - 메모를 쓴다\n",
    "    - 메모장에 추가하면 페이지 번호가 늘어나고\n",
    "    - 메모 삭제하면 페이지 번호가 줄어들도록\n",
    "    - 메모장>제목만 은닉"
   ]
  },
  {
   "cell_type": "code",
   "execution_count": null,
   "id": "02753481",
   "metadata": {},
   "outputs": [],
   "source": [
    "#사용할 것들\n",
    "\n",
    "line1 = '우리 모두 스스로가 원하는 리더가 됩시다'\n",
    "line2 = '모두가 함게 앞으로 나아가면 성공은 저절로 따라옵니다.'\n",
    "line3 = '혼자서는 작은 한 방울이지만 함께 모이면 바다를 이룹니다'\n",
    "\n",
    "#메모 추가\n",
    "my_note = Note()\n",
    "my_note.write(line1)\n",
    "my_note.write(line2)\n",
    "my_note.write(line3)\n",
    "\n",
    "#메모장에 추가\n",
    "my_book = Notebook('오늘 일기')\n",
    "my_book.add_note(my_note)\n",
    "\n",
    "#페이지 번호 확인\n",
    "my_book.check_page()\n",
    "\n",
    "#페이지 삭제\n",
    "my_book.delete_page()"
   ]
  }
 ],
 "metadata": {
  "kernelspec": {
   "display_name": "Python 3 (ipykernel)",
   "language": "python",
   "name": "python3"
  },
  "language_info": {
   "codemirror_mode": {
    "name": "ipython",
    "version": 3
   },
   "file_extension": ".py",
   "mimetype": "text/x-python",
   "name": "python",
   "nbconvert_exporter": "python",
   "pygments_lexer": "ipython3",
   "version": "3.9.7"
  }
 },
 "nbformat": 4,
 "nbformat_minor": 5
}
